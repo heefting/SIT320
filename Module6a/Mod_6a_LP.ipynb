{
 "cells": [
  {
   "cell_type": "markdown",
   "id": "imposed-playlist",
   "metadata": {},
   "source": [
    "# Lab 6a: Linear Programming"
   ]
  },
  {
   "cell_type": "markdown",
   "id": "d97cce87",
   "metadata": {},
   "source": [
    "Lab associated with Module 6a: Linear Programming"
   ]
  },
  {
   "cell_type": "markdown",
   "id": "5c7f2e9d",
   "metadata": {},
   "source": [
    "***"
   ]
  },
  {
   "cell_type": "code",
   "execution_count": 1,
   "id": "5b495ad0",
   "metadata": {},
   "outputs": [
    {
     "data": {
      "text/html": [
       "<style>.container { width:95% !important; }</style>"
      ],
      "text/plain": [
       "<IPython.core.display.HTML object>"
      ]
     },
     "metadata": {},
     "output_type": "display_data"
    }
   ],
   "source": [
    "# The following lines are used to increase the width of cells to utilize more space on the screen \n",
    "from IPython.core.display import display, HTML\n",
    "display(HTML(\"<style>.container { width:95% !important; }</style>\"))\n",
    "\n",
    "# https://online-optimizer.appspot.com/?model=ms:vgT4Ksfv749jrGOJ4MFNgjU55kR3YyeL"
   ]
  },
  {
   "cell_type": "markdown",
   "id": "3a2b855c",
   "metadata": {},
   "source": [
    "***"
   ]
  },
  {
   "cell_type": "markdown",
   "id": "9d0921a0",
   "metadata": {},
   "source": [
    "### Section 0: Imports"
   ]
  },
  {
   "cell_type": "code",
   "execution_count": 2,
   "id": "477622d5",
   "metadata": {},
   "outputs": [],
   "source": [
    "import numpy as np"
   ]
  },
  {
   "cell_type": "code",
   "execution_count": 3,
   "id": "2eb12be4",
   "metadata": {},
   "outputs": [],
   "source": [
    "import matplotlib.pyplot as plt"
   ]
  },
  {
   "cell_type": "markdown",
   "id": "7f9321f8",
   "metadata": {},
   "source": [
    "***"
   ]
  },
  {
   "cell_type": "markdown",
   "id": "1309ad59",
   "metadata": {},
   "source": [
    "### Section 1: Solving LP problem graphically"
   ]
  },
  {
   "cell_type": "markdown",
   "id": "4b8e52ca",
   "metadata": {},
   "source": [
    "Let us see if we can solve the LP problem that we discussed in the lecture, graphically"
   ]
  },
  {
   "cell_type": "code",
   "execution_count": 4,
   "id": "78b1aebe",
   "metadata": {},
   "outputs": [],
   "source": [
    "X1 = np.linspace(0, 1000)"
   ]
  },
  {
   "cell_type": "code",
   "execution_count": 5,
   "id": "2a6897da",
   "metadata": {},
   "outputs": [],
   "source": [
    "# X1 + X2 >= 200\n",
    "# X2 = 200 - X1\n",
    "X2 = 200 - X1"
   ]
  },
  {
   "cell_type": "code",
   "execution_count": 6,
   "id": "51286fda",
   "metadata": {},
   "outputs": [],
   "source": [
    "X2x = X1[np.where(X2 > 0)[0]]\n",
    "X2y = X2[np.where(X2 > 0)[0]]"
   ]
  },
  {
   "cell_type": "code",
   "execution_count": 7,
   "id": "c846fa6c",
   "metadata": {},
   "outputs": [],
   "source": [
    "# 9X1 + 6X2 <= 1556\n",
    "# X2 = (1556 - 9X1)/6\n",
    "\n",
    "X3 = (1556 - 9*X1)/6\n",
    "\n",
    "X3x = X1[np.where(X3 > 0)[0]]\n",
    "X3y = X3[np.where(X3 > 0)[0]]"
   ]
  },
  {
   "cell_type": "code",
   "execution_count": 8,
   "id": "f17f8556",
   "metadata": {},
   "outputs": [],
   "source": [
    "# 12X1 + 16X2 <= 2880\n",
    "# X2 = (2880 - 12X1)/16\n",
    "\n",
    "X4 = (2880 - 12*X1)/16\n",
    "\n",
    "X4x = X1[np.where(X4 > 0)[0]]\n",
    "X4y = X4[np.where(X4 > 0)[0]]"
   ]
  },
  {
   "cell_type": "markdown",
   "id": "0b65687f",
   "metadata": {},
   "source": [
    "Let us plot these constraints"
   ]
  },
  {
   "cell_type": "code",
   "execution_count": 9,
   "id": "55b3a75e",
   "metadata": {},
   "outputs": [
    {
     "data": {
      "text/plain": [
       "Text(0, 0.5, 'X2')"
      ]
     },
     "execution_count": 9,
     "metadata": {},
     "output_type": "execute_result"
    },
    {
     "data": {
      "image/png": "[encoded data removed]",
      "text/plain": [
       "<Figure size 432x288 with 1 Axes>"
      ]
     },
     "metadata": {
      "needs_background": "light"
     },
     "output_type": "display_data"
    }
   ],
   "source": [
    "plt.plot(X2x, X2y, label=r'$2y\\leq25-x$')\n",
    "plt.plot(X3x, X3y, label=r'$2y\\leq25-x$')\n",
    "plt.plot(X4x, X4y, label=r'$2y\\leq25-x$')\n",
    "\n",
    "plt.legend(['X1 + X2 >= 200', '9X1 + 6X2 <= 1556', '12X1 + 16X2 <= 2880'])\n",
    "plt.xlabel('X1')\n",
    "plt.ylabel('X2')"
   ]
  },
  {
   "cell_type": "markdown",
   "id": "4fd39ad9",
   "metadata": {},
   "source": [
    "Let us see if we can plot the feasible region"
   ]
  },
  {
   "cell_type": "code",
   "execution_count": 10,
   "id": "163298de",
   "metadata": {},
   "outputs": [
    {
     "name": "stdout",
     "output_type": "stream",
     "text": [
      "[200.         179.59183673 159.18367347 138.7755102  118.36734694\n",
      "  97.95918367  77.55102041  57.14285714  36.73469388  16.32653061]\n",
      "[259.33333333 228.72108844 198.10884354 167.49659864 136.88435374\n",
      " 106.27210884  75.65986395  45.04761905  14.43537415]\n",
      "[180.         164.69387755 149.3877551  134.08163265 118.7755102\n",
      " 103.46938776  88.16326531  72.85714286  57.55102041  42.24489796\n",
      "  26.93877551  11.63265306]\n",
      "[200.         179.59183673 159.18367347 138.7755102  118.36734694\n",
      "  97.95918367  75.65986395  45.04761905  14.43537415]\n",
      "[180.         164.69387755 149.3877551  134.08163265 118.36734694\n",
      "  97.95918367  75.65986395  45.04761905  14.43537415]\n"
     ]
    },
    {
     "data": {
      "text/plain": [
       "Text(0, 0.5, 'X2')"
      ]
     },
     "execution_count": 10,
     "metadata": {},
     "output_type": "execute_result"
    },
    {
     "data": {
      "image/png": "[encoded data removed]",
      "text/plain": [
       "<Figure size 432x288 with 1 Axes>"
      ]
     },
     "metadata": {
      "needs_background": "light"
     },
     "output_type": "display_data"
    }
   ],
   "source": [
    "plt.plot(X2x, X2y, label=r'$2y\\leq25-x$')\n",
    "plt.plot(X3x, X3y, label=r'$2y\\leq25-x$')\n",
    "plt.plot(X4x, X4y, label=r'$2y\\leq25-x$')\n",
    "print(X2y)\n",
    "print(X3y)\n",
    "print(X4y)\n",
    "# Fill feasible region\n",
    "y5 = np.minimum(X2y[0:9], X3y)\n",
    "y6 = np.minimum(y5, X4y[0:9])\n",
    "print(y5)\n",
    "print(y6)\n",
    "plt.fill_between(X4x[0:9], y6, color='grey', alpha=0.5)\n",
    "\n",
    "plt.legend(['X1 + X2 >= 200', '9X1 + 6X2 <= 1556', '12X1 + 16X2 <= 2880'])\n",
    "plt.xlabel('X1')\n",
    "plt.ylabel('X2')"
   ]
  },
  {
   "cell_type": "markdown",
   "id": "ce354683",
   "metadata": {},
   "source": [
    "Okay, now we have the constraints, let us see if we can plot the various values of objective function"
   ]
  },
  {
   "cell_type": "code",
   "execution_count": 11,
   "id": "dc2adb9e",
   "metadata": {},
   "outputs": [
    {
     "data": {
      "text/plain": [
       "Text(0, 0.5, 'X2')"
      ]
     },
     "execution_count": 11,
     "metadata": {},
     "output_type": "execute_result"
    },
    {
     "data": {
      "image/png": "[encoded data removed]",
      "text/plain": [
       "<Figure size 432x288 with 1 Axes>"
      ]
     },
     "metadata": {
      "needs_background": "light"
     },
     "output_type": "display_data"
    }
   ],
   "source": [
    "# 350X1 + 300X2\n",
    "# X2 = (N - 350X1)/300\n",
    "N1 = 12000\n",
    "N2 = 35000\n",
    "N3 = 50000\n",
    "N4 = 70000\n",
    "\n",
    "X5_1 = (N1 - 350*X1)/300\n",
    "X5_2 = (N2 - 350*X1)/300\n",
    "X5_3 = (N3 - 350*X1)/300\n",
    "X5_4 = (N4 - 350*X1)/300\n",
    "\n",
    "# Fill feasible region\n",
    "y5 = np.minimum(X2y[0:9], X3y)\n",
    "y6 = np.minimum(y5, X4y[0:9])\n",
    "plt.fill_between(X4x[0:9], y6, color='grey', alpha=0.5)\n",
    "\n",
    "# No need to plot the constraints\n",
    "\n",
    "#plt.plot(X2x, X2y, label=r'$2y\\leq25-x$')\n",
    "#plt.plot(X3x, X3y, label=r'$2y\\leq25-x$')\n",
    "#plt.plot(X4x, X4y, label=r'$2y\\leq25-x$')\n",
    "\n",
    "X5_1x = X1[np.where(X5_1 > 0)[0]]\n",
    "X5_1y = X5_1[np.where(X5_1 > 0)[0]]\n",
    "\n",
    "X5_2x = X1[np.where(X5_2 > 0)[0]]\n",
    "X5_2y = X5_2[np.where(X5_2 > 0)[0]]\n",
    "\n",
    "X5_3x = X1[np.where(X5_3 > 0)[0]]\n",
    "X5_3y = X5_3[np.where(X5_3 > 0)[0]]\n",
    "\n",
    "X5_4x = X1[np.where(X5_4 > 0)[0]]\n",
    "X5_4y = X5_4[np.where(X5_4 > 0)[0]]\n",
    "\n",
    "plt.plot(X5_1x, X5_1y, '--', label=r'$2y\\leq25-x$')\n",
    "plt.plot(X5_2x, X5_2y, '--', label=r'$2y\\leq25-x$')\n",
    "plt.plot(X5_3x, X5_3y, '--', label=r'$2y\\leq25-x$')\n",
    "plt.plot(X5_4x, X5_4y, '--', label=r'$2y\\leq25-x$')\n",
    "\n",
    "plt.legend(['12k', '35k', '50k', '70k','Feasible Region'])\n",
    "plt.xlabel('X1')\n",
    "plt.ylabel('X2')"
   ]
  },
  {
   "cell_type": "code",
   "execution_count": null,
   "id": "0899c17b",
   "metadata": {},
   "outputs": [],
   "source": []
  },
  {
   "cell_type": "markdown",
   "id": "0274c62c",
   "metadata": {},
   "source": [
    "***"
   ]
  },
  {
   "cell_type": "markdown",
   "id": "f9b31a04",
   "metadata": {},
   "source": [
    "### <font color='red'> Section 2: Solve the LP given to you in the activity of Section II. </font>"
   ]
  },
  {
   "cell_type": "markdown",
   "id": "4cea09ff",
   "metadata": {},
   "source": [
    "$\n",
    "\\begin{eqnarray}\n",
    "\\textrm{max } && 4X_1 +  5X_2 \\\\\n",
    "\\textrm{subject to } && 2X_1  + 3X_2 \\leq 120 \\\\\n",
    "&& 4 X_1 + 3 X_2 \\leq 140 \\\\\n",
    "&& X_1 + X_2 \\geq 80 \\\\\n",
    "&& X_1 \\geq 0 \\\\\n",
    "&& X_2 \\geq 0\n",
    "\\end{eqnarray}\n",
    "$"
   ]
  },
  {
   "cell_type": "code",
   "execution_count": 12,
   "id": "8d176b03",
   "metadata": {},
   "outputs": [
    {
     "data": {
      "image/png": "[encoded data removed]",
      "text/plain": [
       "<Figure size 432x288 with 1 Axes>"
      ]
     },
     "metadata": {
      "needs_background": "light"
     },
     "output_type": "display_data"
    }
   ],
   "source": [
    "#### TODO ####\n",
    "### Good Luck ###\n",
    "\n",
    "X1 = np.linspace(0, 1000)\n",
    "\n",
    "# 2*X1 + 3*X2 <= 120\n",
    "# X2 = (120 - 2X1) / 3\n",
    "X2 = (120 - 2*X1) / 3\n",
    "\n",
    "X2x = X1[np.where(X2 > 0)[0]]\n",
    "X2y = X2[np.where(X2 > 0)[0]]\n",
    "\n",
    "\n",
    "\n",
    "\n",
    "# 4*X1 + 3*X2 <= 140\n",
    "# X2 = (140 - 4X1) / 3\n",
    "\n",
    "\n",
    "X3 = (140 - 4*X1) / 3\n",
    "\n",
    "X3x = X1[np.where(X3 > 0)[0]]\n",
    "X3y = X3[np.where(X3 > 0)[0]]\n",
    "\n",
    "# X1 + X2 >= 80\n",
    "# X2 = 80 - X1\n",
    "\n",
    "X4 = 80 - X1\n",
    "\n",
    "#X4x = X1[np.where(X4 < 0)[0]]\n",
    "#X4y = X4[np.where(X4 < 0)[0]]\n",
    "\n",
    "X4x = X1[np.where(X4 > 0)[0]]\n",
    "X4y = X4[np.where(X4 > 0)[0]]\n",
    "\n",
    "#Let us plot these constraints\n",
    "\n",
    "plt.plot(X2x, X2y, label=r'$2y\\leq25-x$')\n",
    "plt.plot(X3x, X3y, label=r'$2y\\leq25-x$')\n",
    "plt.plot(X4x, X4y, label=r'$2y\\leq25-x$')\n",
    "\n",
    "plt.legend(['2X1 + 3X2 <= 120', '4X1 + 3X2 <= 140', 'X1 + X2 >= 80'])\n",
    "plt.xlabel('X1')\n",
    "plt.ylabel('X2')\n",
    "\n",
    "plt.show()\n"
   ]
  },
  {
   "cell_type": "code",
   "execution_count": 13,
   "id": "0f1afb01",
   "metadata": {},
   "outputs": [
    {
     "name": "stdout",
     "output_type": "stream",
     "text": [
      "[40.         26.39455782 12.78911565]\n",
      "[46.66666667 19.45578231]\n",
      "[40.         19.45578231]\n",
      "[80.         59.59183673 39.18367347 18.7755102 ]\n",
      "[40.         19.45578231]\n"
     ]
    },
    {
     "data": {
      "image/png": "[encoded data removed]",
      "text/plain": [
       "<Figure size 432x288 with 1 Axes>"
      ]
     },
     "metadata": {
      "needs_background": "light"
     },
     "output_type": "display_data"
    }
   ],
   "source": [
    "#Let us see if we can plot the feasible region\n",
    "\n",
    "plt.plot(X2x, X2y, label=r'$2y\\leq25-x$')\n",
    "plt.plot(X3x, X3y, label=r'$2y\\leq25-x$')\n",
    "plt.plot(X4x, X4y, label=r'$2y\\leq25-x$')\n",
    "print(X2y)\n",
    "print(X3y)\n",
    "# Fill feasible region\n",
    "y5 = np.minimum(X2y[0:2], X3y)\n",
    "print(y5)\n",
    "print(X4y)\n",
    "y6 = np.minimum(y5, X4y[0:2])\n",
    "print(y6)\n",
    "\n",
    "plt.fill_between(X1[0:2], X2y[0:2], color='blue', alpha=0.3)\n",
    "\n",
    "plt.fill_between(X2x[0:2], X3y, color='yellow', alpha=0.3)\n",
    "\n",
    "plt.fill_between(X1[0:2], [100,100], X4y[0:2], color='green', alpha=0.2)#[X4y[0],X4y[3]]\n",
    "\n",
    "#plt.fill_between(X4x[0:2], y6, color='red', alpha=0.2)\n",
    "\n",
    "plt.legend(['2X1 + 3X2 <= 120', '4X1 + 3X2 <= 140', 'X1 + X2 >= 80'])\n",
    "plt.xlabel('X1')\n",
    "plt.ylabel('X2')\n",
    "\n",
    "plt.show()"
   ]
  },
  {
   "cell_type": "markdown",
   "id": "ea7919d8",
   "metadata": {},
   "source": [
    "### THE MODEL IS INFESABLE\n",
    "\n",
    "You can see that the X1 + X2 >= 80 means this is not possible"
   ]
  },
  {
   "cell_type": "code",
   "execution_count": 14,
   "id": "92620345",
   "metadata": {},
   "outputs": [
    {
     "data": {
      "image/png": "[encoded data removed]",
      "text/plain": [
       "<Figure size 432x288 with 1 Axes>"
      ]
     },
     "metadata": {
      "needs_background": "light"
     },
     "output_type": "display_data"
    }
   ],
   "source": [
    "\n",
    "\n",
    "\n",
    "#Okay, now we have the constraints, let us see if we can plot the various values of objective function\n",
    "\n",
    "# 350X1 + 300X2\n",
    "# X2 = (N - 350X1)/300\n",
    "\n",
    "# 4*X1 + 5*X2\n",
    "# X2 = (N - 4*X1)/5\n",
    "\n",
    "N1 = 50\n",
    "N2 = 100\n",
    "N3 = 200\n",
    "N4 = 300\n",
    "\n",
    "X5_1 = (N1 - 4*X1)/5\n",
    "X5_2 = (N2 - 4*X1)/5\n",
    "X5_3 = (N3 - 4*X1)/5\n",
    "X5_4 = (N4 - 4*X1)/5\n",
    "\n",
    "# Fill feasible region\n",
    "y5 = np.minimum(X2y[:1], X3y)\n",
    "y6 = np.minimum(y5, X4y[:1])\n",
    "plt.fill_between(X4x[:1], y6, color='grey', alpha=0.5)\n",
    "\n",
    "# No need to plot the constraints\n",
    "\n",
    "#plt.plot(X2x, X2y, label=r'$2y\\leq25-x$')\n",
    "#plt.plot(X3x, X3y, label=r'$2y\\leq25-x$')\n",
    "#plt.plot(X4x, X4y, label=r'$2y\\leq25-x$')\n",
    "\n",
    "X5_1x = X1[np.where(X5_1 > 0)[0]]\n",
    "X5_1y = X5_1[np.where(X5_1 > 0)[0]]\n",
    "\n",
    "X5_2x = X1[np.where(X5_2 > 0)[0]]\n",
    "X5_2y = X5_2[np.where(X5_2 > 0)[0]]\n",
    "\n",
    "X5_3x = X1[np.where(X5_3 > 0)[0]]\n",
    "X5_3y = X5_3[np.where(X5_3 > 0)[0]]\n",
    "\n",
    "X5_4x = X1[np.where(X5_4 > 0)[0]]\n",
    "X5_4y = X5_4[np.where(X5_4 > 0)[0]]\n",
    "\n",
    "plt.plot(X5_1x, X5_1y, '--', label=r'$2y\\leq25-x$')\n",
    "plt.plot(X5_2x, X5_2y, '--', label=r'$2y\\leq25-x$')\n",
    "plt.plot(X5_3x, X5_3y, '--', label=r'$2y\\leq25-x$')\n",
    "plt.plot(X5_4x, X5_4y, '--', label=r'$2y\\leq25-x$')\n",
    "\n",
    "plt.legend(['50', '200', '300', '400','Feasible Region'])\n",
    "plt.xlabel('X1')\n",
    "plt.ylabel('X2')\n",
    "\n",
    "plt.show()\n",
    "\n",
    "\n",
    "\n",
    "\n",
    "\n",
    "\n",
    "\n"
   ]
  },
  {
   "cell_type": "markdown",
   "id": "9c64f77d",
   "metadata": {},
   "source": [
    "***"
   ]
  },
  {
   "cell_type": "code",
   "execution_count": 15,
   "id": "e39042c5",
   "metadata": {},
   "outputs": [
    {
     "data": {
      "image/png": "[encoded data removed]",
      "text/plain": [
       "<Figure size 432x288 with 1 Axes>"
      ]
     },
     "metadata": {
      "needs_background": "light"
     },
     "output_type": "display_data"
    },
    {
     "name": "stdout",
     "output_type": "stream",
     "text": [
      "[2.]\n",
      "[5.         2.95918367 0.91836735]\n",
      "[2.         2.         0.91836735]\n"
     ]
    },
    {
     "data": {
      "image/png": "[encoded data removed]",
      "text/plain": [
       "<Figure size 432x288 with 1 Axes>"
      ]
     },
     "metadata": {
      "needs_background": "light"
     },
     "output_type": "display_data"
    },
    {
     "data": {
      "image/png": "[encoded data removed]",
      "text/plain": [
       "<Figure size 432x288 with 1 Axes>"
      ]
     },
     "metadata": {
      "needs_background": "light"
     },
     "output_type": "display_data"
    }
   ],
   "source": [
    "#### TODO ####\n",
    "### Good Luck ###\n",
    "\n",
    "X1 = np.linspace(0, 100)\n",
    "\n",
    "# 2*X1 + 3*X2 <= 120\n",
    "# X2 = (120 - 2X1) / 3\n",
    "X2 = (2 - X1)\n",
    "\n",
    "X2x = X1[np.where(X2 > 0)[0]]\n",
    "X2y = X2[np.where(X2 > 0)[0]]\n",
    "\n",
    "\n",
    "\n",
    "\n",
    "# 4*X1 + 3*X2 <= 140\n",
    "# X2 = (140 - 4X1) / 3\n",
    "\n",
    "\n",
    "X3 = (-10 + 2*X1) / -2\n",
    "\n",
    "X3x = X1[np.where(X3 > 0)[0]]\n",
    "X3y = X3[np.where(X3 > 0)[0]]\n",
    "\n",
    "# X1 + X2 >= 80\n",
    "# X2 = 80 - X1\n",
    "\n",
    "\n",
    "\n",
    "#X4x = X1[np.where(X4 < 0)[0]]\n",
    "#X4y = X4[np.where(X4 < 0)[0]]\n",
    "\n",
    "\n",
    "#Let us plot these constraints\n",
    "\n",
    "plt.plot(X2x, X2y, label=r'$2y\\leq25-x$')\n",
    "plt.plot(X3x, X3y, label=r'$2y\\leq25-x$')\n",
    "\n",
    "plt.legend(['x1 + x2 <= 2', '-2*x1 - 2*x2 <= -10'])\n",
    "plt.xlabel('X1')\n",
    "plt.ylabel('X2')\n",
    "\n",
    "plt.show()\n",
    "\n",
    "\n",
    "#Let us see if we can plot the feasible region\n",
    "\n",
    "plt.plot(X2x, X2y, label=r'$2y\\leq25-x$')\n",
    "plt.plot(X3x, X3y, label=r'$2y\\leq25-x$')\n",
    "print(X2y)\n",
    "print(X3y)\n",
    "# Fill feasible region\n",
    "y5 = np.minimum(X2y[0:2], X3y)\n",
    "print(y5)\n",
    "#print(X4y)\n",
    "#y6 = np.minimum(y5, X4y[0:2])\n",
    "#print(y6)\n",
    "\n",
    "plt.fill_between(X2x, y5, color='blue', alpha=0.3)\n",
    "\n",
    "plt.fill_between(X1[0:2], [10,10], X3y[0:2], color='yellow', alpha=0.3)\n",
    "\n",
    "#plt.fill_between(X1[0:2], [100,100], X4y[0:2], color='green', alpha=0.2)#[X4y[0],X4y[3]]\n",
    "\n",
    "#plt.fill_between(X4x[0:2], y6, color='red', alpha=0.2)\n",
    "\n",
    "plt.legend(['x1 + x2 <= 2', '-2*x1 - 2*x2 <= -10'])\n",
    "plt.xlabel('X1')\n",
    "plt.ylabel('X2')\n",
    "\n",
    "plt.show()\n",
    "\n",
    "\n",
    "\n",
    "\n",
    "#Okay, now we have the constraints, let us see if we can plot the various values of objective function\n",
    "\n",
    "# 350X1 + 300X2\n",
    "# X2 = (N - 350X1)/300\n",
    "\n",
    "# 4*X1 + 5*X2\n",
    "# X2 = (N - 4*X1)/5\n",
    "\n",
    "N1 = 50\n",
    "N2 = 100\n",
    "N3 = 200\n",
    "N4 = 300\n",
    "\n",
    "X5_1 = (N1 - 3*X1)/-2\n",
    "X5_2 = (N2 - 3*X1)/-2\n",
    "X5_3 = (N3 - 3*X1)/-2\n",
    "X5_4 = (N4 - 3*X1)/-2\n",
    "\n",
    "# Fill feasible region\n",
    "y5 = np.minimum(X2y[:1], X3y)\n",
    "y6 = np.minimum(y5, X4y[:1])\n",
    "plt.fill_between(X4x[:1], y6, color='grey', alpha=0.5)\n",
    "\n",
    "# No need to plot the constraints\n",
    "\n",
    "#plt.plot(X2x, X2y, label=r'$2y\\leq25-x$')\n",
    "#plt.plot(X3x, X3y, label=r'$2y\\leq25-x$')\n",
    "#plt.plot(X4x, X4y, label=r'$2y\\leq25-x$')\n",
    "\n",
    "X5_1x = X1[np.where(X5_1 > 0)[0]]\n",
    "X5_1y = X5_1[np.where(X5_1 > 0)[0]]\n",
    "\n",
    "X5_2x = X1[np.where(X5_2 > 0)[0]]\n",
    "X5_2y = X5_2[np.where(X5_2 > 0)[0]]\n",
    "\n",
    "X5_3x = X1[np.where(X5_3 > 0)[0]]\n",
    "X5_3y = X5_3[np.where(X5_3 > 0)[0]]\n",
    "\n",
    "X5_4x = X1[np.where(X5_4 > 0)[0]]\n",
    "X5_4y = X5_4[np.where(X5_4 > 0)[0]]\n",
    "\n",
    "plt.plot(X5_1x, X5_1y, '--', label=r'$2y\\leq25-x$')\n",
    "plt.plot(X5_2x, X5_2y, '--', label=r'$2y\\leq25-x$')\n",
    "plt.plot(X5_3x, X5_3y, '--', label=r'$2y\\leq25-x$')\n",
    "plt.plot(X5_4x, X5_4y, '--', label=r'$2y\\leq25-x$')\n",
    "\n",
    "plt.legend(['50', '200', '300', '400','Feasible Region'])\n",
    "plt.xlabel('X1')\n",
    "plt.ylabel('X2')\n",
    "\n",
    "plt.show()\n",
    "\n",
    "\n",
    "\n",
    "\n",
    "\n",
    "\n",
    "\n"
   ]
  },
  {
   "cell_type": "markdown",
   "id": "871e7775",
   "metadata": {},
   "source": [
    "### Unfesable\n",
    "The constraints effectivly cancel out, 1+2 = 3, 10/2 = 5\n",
    "![image_3](eg_3.png)"
   ]
  },
  {
   "cell_type": "markdown",
   "id": "79cfe7ab",
   "metadata": {},
   "source": [
    "***"
   ]
  },
  {
   "cell_type": "markdown",
   "id": "bfc640cf",
   "metadata": {},
   "source": [
    "### Linear Programming: Gaussian Elimination"
   ]
  },
  {
   "cell_type": "code",
   "execution_count": 16,
   "id": "20fb25c5",
   "metadata": {
    "scrolled": false
   },
   "outputs": [
    {
     "name": "stdout",
     "output_type": "stream",
     "text": [
      "(1) FORWARD BACKWARD WITH LU\n",
      "\n",
      "\n",
      "--IN--\n",
      "\n",
      "-A-\n",
      "\n",
      "[[ 1  0  0]\n",
      " [ 4  1  0]\n",
      " [-5  5  1]]\n",
      "\n",
      "-B-\n",
      "\n",
      "[3, 14, -7]\n",
      "\n",
      "--OUT--\n",
      "\n",
      "-L-\n",
      " [[ 1.  0.  0.]\n",
      " [ 4.  1.  0.]\n",
      " [-5.  5.  1.]]\n",
      "\n",
      "-U-\n",
      " [[1. 0. 0.]\n",
      " [0. 1. 0.]\n",
      " [0. 0. 1.]]\n",
      "\n",
      "--SOLVED--\n",
      "\n",
      "[[ 3.  3.  3.]\n",
      " [ 2.  2.  2.]\n",
      " [-2. -2. -2.]]\n",
      "\n",
      "\n",
      "(2) GET L & U - LU\n",
      "\n",
      "\n",
      "--OUT--\n",
      "\n",
      "-L-\n",
      " [[1. 0. 0.]\n",
      " [2. 1. 0.]\n",
      " [3. 2. 1.]]\n",
      "\n",
      "-U-\n",
      " [[ 4. -5.  6.]\n",
      " [ 0.  4. -5.]\n",
      " [ 0.  0.  4.]]\n"
     ]
    }
   ],
   "source": [
    "# --\n",
    "\n",
    "# https://en.wikipedia.org/wiki/Gaussian_elimination\n",
    "# https://en.wikipedia.org/wiki/Triangular_matrix #Forward_and_back_substitution\n",
    "# https://en.wikipedia.org/wiki/LU_decomposition\n",
    "# https://courses.physics.illinois.edu/cs357/sp2020/notes/ref-9-linsys.html\n",
    "\n",
    "\n",
    "# Gaussian elimination\n",
    "# LU Decomposition\n",
    "def lu_decomp(a_in):\n",
    "    A = np.array(a_in)\n",
    "    n = len(A)\n",
    "    L = np.zeros((n,n))\n",
    "    U = np.zeros((n,n))\n",
    "    for idx in range(n):\n",
    "        L[idx,idx] = 1\n",
    "    for k in range(n):\n",
    "        U[k,k] = A[k,k]\n",
    "        for i in range(k,n):\n",
    "            L[i,k] = A[i,k]/U[k,k]\n",
    "            U[k,i] = A[k,i]\n",
    "        for i in range(k,n):\n",
    "            for j in range(k,n):\n",
    "                A[i,j] = A[i,j] - L[i,k]*U[k,j]#f\n",
    "    print('\\n-L-\\n',L)\n",
    "    print('\\n-U-\\n',U)\n",
    "    return L, U\n",
    "\n",
    "\n",
    "def lu_solve(L, U, b):\n",
    "    n = len(L)\n",
    "    y = np.zeros((n,n))\n",
    "    x = np.zeros((n,n))\n",
    "    \n",
    "    # Forward Substitution\n",
    "    for k in range(n):\n",
    "        tl = 0\n",
    "        for i in range(k):\n",
    "            tl += L[k,i] * y[i]\n",
    "        y[k] = b[k] - tl\n",
    "    \n",
    "    # Backward Substitution\n",
    "    for k in reversed(range(n)):\n",
    "        tl = 0\n",
    "        for i in range(k+1, n):\n",
    "            tl += L[k,i] * x[i]\n",
    "        x[k] = (1 / U[k,k]) * (y[k] - tl)\n",
    "    \n",
    "    return x\n",
    "\n",
    "\n",
    "\n",
    "\n",
    "\n",
    "\n",
    "\n",
    "\n",
    "\n",
    "\n",
    "\n",
    "\n",
    "\n",
    "a_input = [\n",
    "    [1,0,0],\n",
    "    [4,1,0],\n",
    "    [-5,5,1],\n",
    "]\n",
    "\n",
    "b_input = [\n",
    "    3,\n",
    "    14,\n",
    "    -7\n",
    "]\n",
    "\n",
    "\n",
    "a_input = np.array(a_input)\n",
    "\n",
    "\n",
    "print(\"(1) FORWARD BACKWARD WITH LU\\n\")\n",
    "\n",
    "print(\"\\n--IN--\\n\")\n",
    "print(\"-A-\\n\")\n",
    "print(a_input)\n",
    "print(\"\\n-B-\\n\")\n",
    "print(b_input)\n",
    "\n",
    "\n",
    "print(\"\\n--OUT--\")\n",
    "\n",
    "l, u = lu_decomp(a_input)\n",
    "\n",
    "x = lu_solve(l,u,b_input)\n",
    "\n",
    "print(\"\\n--SOLVED--\\n\")\n",
    "print(x)\n",
    "\n",
    "\n",
    "\n",
    "\n",
    "a_input = [\n",
    "    [4,-5,6],\n",
    "    [8,-6,7],\n",
    "    [12,-7,12],\n",
    "]\n",
    "\n",
    "print(\"\\n\\n(2) GET L & U - LU\\n\")\n",
    "\n",
    "print(\"\\n--OUT--\")\n",
    "\n",
    "a_input = np.array(a_input)\n",
    "\n",
    "l, u = lu_decomp(a_input)\n",
    "\n",
    "\n",
    "\n",
    "\n",
    "\n",
    "\n",
    "\n",
    "\n",
    "\n",
    "\n",
    "\n",
    "\n",
    "\n",
    "\n"
   ]
  },
  {
   "cell_type": "code",
   "execution_count": null,
   "id": "b8582f95",
   "metadata": {},
   "outputs": [],
   "source": []
  },
  {
   "cell_type": "code",
   "execution_count": null,
   "id": "b760c66a",
   "metadata": {},
   "outputs": [],
   "source": []
  },
  {
   "cell_type": "code",
   "execution_count": null,
   "id": "8cf46107",
   "metadata": {},
   "outputs": [],
   "source": []
  },
  {
   "cell_type": "code",
   "execution_count": null,
   "id": "e7458756",
   "metadata": {},
   "outputs": [],
   "source": []
  }
 ],
 "metadata": {
  "kernelspec": {
   "display_name": "Python 3 (ipykernel)",
   "language": "python",
   "name": "python3"
  },
  "language_info": {
   "codemirror_mode": {
    "name": "ipython",
    "version": 3
   },
   "file_extension": ".py",
   "mimetype": "text/x-python",
   "name": "python",
   "nbconvert_exporter": "python",
   "pygments_lexer": "ipython3",
   "version": "3.9.6"
  }
 },
 "nbformat": 4,
 "nbformat_minor": 5
}
