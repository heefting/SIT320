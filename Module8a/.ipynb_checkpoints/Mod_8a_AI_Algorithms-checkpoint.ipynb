{
 "cells": [
  {
   "cell_type": "markdown",
   "id": "296f844b",
   "metadata": {},
   "source": [
    "# Lab 8a: AI Algorithms"
   ]
  },
  {
   "cell_type": "markdown",
   "id": "173dfa54",
   "metadata": {},
   "source": [
    "Lab associated with Module 8a: AI Algorithms"
   ]
  },
  {
   "cell_type": "markdown",
   "id": "f9291b07",
   "metadata": {},
   "source": [
    "***"
   ]
  },
  {
   "cell_type": "code",
   "execution_count": 1,
   "id": "15583790",
   "metadata": {},
   "outputs": [
    {
     "data": {
      "text/html": [
       "<style>.container { width:95% !important; }</style>"
      ],
      "text/plain": [
       "<IPython.core.display.HTML object>"
      ]
     },
     "metadata": {},
     "output_type": "display_data"
    }
   ],
   "source": [
    "# The following lines are used to increase the width of cells to utilize more space on the screen \n",
    "from IPython.core.display import display, HTML\n",
    "display(HTML(\"<style>.container { width:95% !important; }</style>\"))"
   ]
  },
  {
   "cell_type": "markdown",
   "id": "ab403763",
   "metadata": {},
   "source": [
    "***"
   ]
  },
  {
   "cell_type": "markdown",
   "id": "a0aca214",
   "metadata": {},
   "source": [
    "### Section 0: Imports"
   ]
  },
  {
   "cell_type": "code",
   "execution_count": 2,
   "id": "6527469c",
   "metadata": {},
   "outputs": [],
   "source": [
    "import numpy as np\n",
    "import pandas as pd\n",
    "import seaborn as sns"
   ]
  },
  {
   "cell_type": "code",
   "execution_count": 3,
   "id": "e419e5c3",
   "metadata": {},
   "outputs": [],
   "source": [
    "import matplotlib.pyplot as plt"
   ]
  },
  {
   "cell_type": "markdown",
   "id": "80ab1bbb",
   "metadata": {},
   "source": [
    "***"
   ]
  },
  {
   "cell_type": "markdown",
   "id": "d8024432",
   "metadata": {},
   "source": [
    "### Section 1: Computing Eigen-vectors and values using Power-iteration Algorithm"
   ]
  },
  {
   "cell_type": "markdown",
   "id": "0686544c",
   "metadata": {},
   "source": [
    "Let us see if we can implement power-iteration algorithm from the lectures, before we do that, let us see what already implemented functions gives us:"
   ]
  },
  {
   "cell_type": "code",
   "execution_count": 4,
   "id": "edf83782",
   "metadata": {},
   "outputs": [],
   "source": [
    "a = np.array([[1,2],[4,5],[5,8],[3,9],[4,2],[1,18],[7,8]])"
   ]
  },
  {
   "cell_type": "markdown",
   "id": "bfebbc78",
   "metadata": {},
   "source": [
    "Let us see how basic linear algebra operations are performed, let us see transpose, dot-product, covariance, coefficient calucation, etc"
   ]
  },
  {
   "cell_type": "code",
   "execution_count": 5,
   "id": "29fe348d",
   "metadata": {},
   "outputs": [
    {
     "data": {
      "text/plain": [
       "array([[ 1,  2],\n",
       "       [ 4,  5],\n",
       "       [ 5,  8],\n",
       "       [ 3,  9],\n",
       "       [ 4,  2],\n",
       "       [ 1, 18],\n",
       "       [ 7,  8]])"
      ]
     },
     "execution_count": 5,
     "metadata": {},
     "output_type": "execute_result"
    }
   ],
   "source": [
    "a"
   ]
  },
  {
   "cell_type": "code",
   "execution_count": 6,
   "id": "45ebf4f2",
   "metadata": {},
   "outputs": [
    {
     "data": {
      "text/plain": [
       "array([[ 1,  4,  5,  3,  4,  1,  7],\n",
       "       [ 2,  5,  8,  9,  2, 18,  8]])"
      ]
     },
     "execution_count": 6,
     "metadata": {},
     "output_type": "execute_result"
    }
   ],
   "source": [
    "a.T"
   ]
  },
  {
   "cell_type": "code",
   "execution_count": 7,
   "id": "eab5a27e",
   "metadata": {},
   "outputs": [
    {
     "data": {
      "text/plain": [
       "array([[117, 171],\n",
       "       [171, 566]])"
      ]
     },
     "execution_count": 7,
     "metadata": {},
     "output_type": "execute_result"
    }
   ],
   "source": [
    "M = np.dot(a.T, a)\n",
    "M"
   ]
  },
  {
   "cell_type": "code",
   "execution_count": 8,
   "id": "eb9a5c76",
   "metadata": {},
   "outputs": [
    {
     "data": {
      "text/plain": [
       "(array([ 59.2921865, 623.7078135]),\n",
       " array([[-0.94750015, -0.31975533],\n",
       "        [ 0.31975533, -0.94750015]]))"
      ]
     },
     "execution_count": 8,
     "metadata": {},
     "output_type": "execute_result"
    }
   ],
   "source": [
    "np.linalg.eig(M)"
   ]
  },
  {
   "cell_type": "code",
   "execution_count": 9,
   "id": "8b69feb1",
   "metadata": {},
   "outputs": [
    {
     "data": {
      "text/plain": [
       "array([[ 1.        , -0.20849519],\n",
       "       [-0.20849519,  1.        ]])"
      ]
     },
     "execution_count": 9,
     "metadata": {},
     "output_type": "execute_result"
    }
   ],
   "source": [
    "np.corrcoef(a.T)"
   ]
  },
  {
   "cell_type": "code",
   "execution_count": 10,
   "id": "29035add",
   "metadata": {},
   "outputs": [
    {
     "data": {
      "text/plain": [
       "array([[ 4.61904762, -2.45238095],\n",
       "       [-2.45238095, 29.95238095]])"
      ]
     },
     "execution_count": 10,
     "metadata": {},
     "output_type": "execute_result"
    }
   ],
   "source": [
    "np.cov(a.T)"
   ]
  },
  {
   "cell_type": "markdown",
   "id": "f824dce9",
   "metadata": {},
   "source": [
    "###### ----- Next -----\n",
    "\n",
    "\n",
    "\n",
    "\n",
    "\n"
   ]
  },
  {
   "cell_type": "code",
   "execution_count": 11,
   "id": "874b715e",
   "metadata": {},
   "outputs": [],
   "source": [
    "a = np.array([[1,2],[2,1],[3,4],[4,3]])"
   ]
  },
  {
   "cell_type": "code",
   "execution_count": 12,
   "id": "63d9db77",
   "metadata": {},
   "outputs": [],
   "source": [
    "N, n = a.shape"
   ]
  },
  {
   "cell_type": "markdown",
   "id": "208ba174",
   "metadata": {},
   "source": [
    "First take on power Iteration algorithm for computing Eigen-vectors and values"
   ]
  },
  {
   "cell_type": "code",
   "execution_count": 13,
   "id": "de0aa01d",
   "metadata": {},
   "outputs": [],
   "source": [
    "def power_iteration(A, num_simulations):\n",
    "    \n",
    "    x_k = np.random.rand(A.shape[1])\n",
    "    \n",
    "    for _ in range(num_simulations):\n",
    "        \n",
    "        x_k1 = np.dot(A, x_k)\n",
    "        \n",
    "        # calculate the norm\n",
    "        x_k1_norm = np.linalg.norm(x_k1) # re normalize the vector\n",
    "        x_k = x_k1 / x_k1_norm \n",
    "    \n",
    "    return x_k"
   ]
  },
  {
   "cell_type": "code",
   "execution_count": 14,
   "id": "d80b4b4e",
   "metadata": {},
   "outputs": [],
   "source": [
    "M = np.dot(a.T, a)"
   ]
  },
  {
   "cell_type": "code",
   "execution_count": 15,
   "id": "481631cf",
   "metadata": {},
   "outputs": [
    {
     "data": {
      "text/plain": [
       "array([[30, 28],\n",
       "       [28, 30]])"
      ]
     },
     "execution_count": 15,
     "metadata": {},
     "output_type": "execute_result"
    }
   ],
   "source": [
    "M"
   ]
  },
  {
   "cell_type": "code",
   "execution_count": 16,
   "id": "e0adbdb4",
   "metadata": {},
   "outputs": [],
   "source": [
    "e1 = power_iteration(M, 10)"
   ]
  },
  {
   "cell_type": "code",
   "execution_count": 17,
   "id": "e9ea3bf4",
   "metadata": {},
   "outputs": [
    {
     "data": {
      "text/plain": [
       "array([0.70710678, 0.70710678])"
      ]
     },
     "execution_count": 17,
     "metadata": {},
     "output_type": "execute_result"
    }
   ],
   "source": [
    "e1"
   ]
  },
  {
   "cell_type": "code",
   "execution_count": 18,
   "id": "dd702158",
   "metadata": {},
   "outputs": [],
   "source": [
    "l1 = np.dot(e1.T, M).dot(e1)\n",
    "e1 = e1.reshape(2,1)"
   ]
  },
  {
   "cell_type": "code",
   "execution_count": 19,
   "id": "76888567",
   "metadata": {},
   "outputs": [],
   "source": [
    "M2 = M - l1 * np.matmul(e1, e1.T)"
   ]
  },
  {
   "cell_type": "code",
   "execution_count": 20,
   "id": "e7eb2430",
   "metadata": {},
   "outputs": [],
   "source": [
    "e2 = power_iteration(M2, 10)"
   ]
  },
  {
   "cell_type": "code",
   "execution_count": 21,
   "id": "285b0389",
   "metadata": {},
   "outputs": [],
   "source": [
    "l2 = np.dot(e2.T, M2).dot(e2)\n",
    "e2 = e2.reshape(2,1)"
   ]
  },
  {
   "cell_type": "code",
   "execution_count": 22,
   "id": "48f0e34e",
   "metadata": {},
   "outputs": [
    {
     "data": {
      "text/plain": [
       "(array([58.,  2.]),\n",
       " array([[ 0.70710678, -0.70710678],\n",
       "        [ 0.70710678,  0.70710678]]))"
      ]
     },
     "execution_count": 22,
     "metadata": {},
     "output_type": "execute_result"
    }
   ],
   "source": [
    "test_e1 = np.linalg.eig(M)\n",
    "test_e1"
   ]
  },
  {
   "cell_type": "code",
   "execution_count": 23,
   "id": "dbcadee1",
   "metadata": {
    "scrolled": false
   },
   "outputs": [
    {
     "name": "stdout",
     "output_type": "stream",
     "text": [
      "e1:\n",
      "[[0.70710678]\n",
      " [0.70710678]]\n",
      "\n",
      "l1:\n",
      "58.0\n",
      "\n",
      "e2:\n",
      "[[-0.70710678]\n",
      " [ 0.70710678]]\n",
      "\n",
      "l2:\n",
      "2.0000000000000018\n",
      "\n",
      "\n",
      "test_e1:\n"
     ]
    },
    {
     "data": {
      "text/plain": [
       "(array([58.,  2.]),\n",
       " array([[ 0.70710678, -0.70710678],\n",
       "        [ 0.70710678,  0.70710678]]))"
      ]
     },
     "execution_count": 23,
     "metadata": {},
     "output_type": "execute_result"
    }
   ],
   "source": [
    "print(f'e1:\\n{e1}\\n')\n",
    "print(f'l1:\\n{l1}\\n')\n",
    "print(f'e2:\\n{e2}\\n')\n",
    "print(f'l2:\\n{l2}\\n')\n",
    "\n",
    "print('\\ntest_e1:')\n",
    "test_e1"
   ]
  },
  {
   "cell_type": "markdown",
   "id": "180bf747",
   "metadata": {},
   "source": [
    "***"
   ]
  },
  {
   "cell_type": "markdown",
   "id": "0432e6de",
   "metadata": {},
   "source": [
    "### <font color='red'> Section 2: Wrap-up above code to make a generic function for computing Eigen-vectors and values. </font>"
   ]
  },
  {
   "cell_type": "code",
   "execution_count": 73,
   "id": "dd7e6b1e",
   "metadata": {},
   "outputs": [],
   "source": [
    "#### TODO ####\n",
    "### Good Luck ###\n",
    "\n",
    "def eigen_calc(a, dim=4, pwr_it=10):\n",
    "    # Get pca M\n",
    "    A = np.array(a)\n",
    "    M = np.dot(A.T, A)\n",
    "    \n",
    "    N, n = A.shape\n",
    "    \n",
    "    # Init return arrays\n",
    "    eigen_vals = np.zeros(dim)\n",
    "    eigen_matrix = np.zeros((dim,n))\n",
    "    \n",
    "    #print(eigen_vals)\n",
    "    #print(eigen_matrix)\n",
    "    #print(np.dot(eigen_vals, eigen_matrix))\n",
    "    \n",
    "    # For every column and thus value in eigen vector, compute e1 and corisponding l1\n",
    "    for e_dim in range(dim):\n",
    "        e1 = power_iteration(M, pwr_it)\n",
    "        l1 = np.dot(e1.T, M).dot(e1)\n",
    "        \n",
    "        eigen_matrix[e_dim] = e1\n",
    "        e1 = e1.reshape(n,1)\n",
    "        \n",
    "        eigen_vals[e_dim] = l1\n",
    "        \n",
    "        M = M - l1 * np.matmul(e1, e1.T)\n",
    "\n",
    "    \n",
    "    return eigen_vals, eigen_matrix.T\n",
    "# --\n",
    "\n",
    "\n",
    "\n"
   ]
  },
  {
   "cell_type": "code",
   "execution_count": 74,
   "id": "f258b4f1",
   "metadata": {},
   "outputs": [
    {
     "name": "stdout",
     "output_type": "stream",
     "text": [
      " -- TEST -- \n",
      "\n",
      " Eigen Values:\n",
      "[58.  2.]\n",
      "\n",
      "\n",
      " Eigen Vectors:\n",
      "[[ 0.70710678  0.70710678]\n",
      " [ 0.70710678 -0.70710678]]\n",
      "\n",
      " -- Numpy version for reference -- \n",
      "\n",
      " Eigen Values:\n",
      "[58.  2.]\n",
      "\n",
      "\n",
      " Eigen Vectors:\n",
      "[[ 0.70710678 -0.70710678]\n",
      " [ 0.70710678  0.70710678]]\n",
      "\n"
     ]
    }
   ],
   "source": [
    "print(\" -- TEST -- \")\n",
    "\n",
    "a = np.array([[1,2],[2,1],[3,4],[4,3]])\n",
    "\n",
    "eigen_vals, eigen_matrix = eigen_calc(a,2)\n",
    "\n",
    "\n",
    "print(f\"\\n Eigen Values:\\n{eigen_vals}\\n\")\n",
    "print(f\"\\n Eigen Vectors:\\n{eigen_matrix}\\n\")\n",
    "\n",
    "print(\" -- Numpy version for reference -- \")\n",
    "M = np.dot(a.T, a)\n",
    "test_e1 = np.linalg.eig(M)\n",
    "\n",
    "print(f\"\\n Eigen Values:\\n{test_e1[0]}\\n\")\n",
    "print(f\"\\n Eigen Vectors:\\n{test_e1[1]}\\n\")\n"
   ]
  },
  {
   "cell_type": "markdown",
   "id": "f0a70893",
   "metadata": {},
   "source": [
    "***"
   ]
  },
  {
   "cell_type": "markdown",
   "id": "2e07cc4a",
   "metadata": {},
   "source": [
    "### <font color='red'> Section 3: Do the PCA Analysis using your eigen-vector function on iris.txt data. </font>"
   ]
  },
  {
   "cell_type": "code",
   "execution_count": 75,
   "id": "6dbf293b",
   "metadata": {
    "scrolled": false
   },
   "outputs": [
    {
     "name": "stdout",
     "output_type": "stream",
     "text": [
      " -- Iris Dataset -- \n",
      "\n",
      "     sepal length  sepal width  petal length  petal width           names\n",
      "0             5.1          3.5           1.4          0.2     Iris-setosa\n",
      "1             4.9          3.0           1.4          0.2     Iris-setosa\n",
      "2             4.7          3.2           1.3          0.2     Iris-setosa\n",
      "3             4.6          3.1           1.5          0.2     Iris-setosa\n",
      "4             5.0          3.6           1.4          0.2     Iris-setosa\n",
      "..            ...          ...           ...          ...             ...\n",
      "145           6.7          3.0           5.2          2.3  Iris-virginica\n",
      "146           6.3          2.5           5.0          1.9  Iris-virginica\n",
      "147           6.5          3.0           5.2          2.0  Iris-virginica\n",
      "148           6.2          3.4           5.4          2.3  Iris-virginica\n",
      "149           5.9          3.0           5.1          1.8  Iris-virginica\n",
      "\n",
      "[150 rows x 5 columns]\n",
      "\n",
      "\n",
      " -- Eigen -- \n",
      "\n",
      "M:\n",
      " [[5223.85 2670.98 3484.25 1127.65]\n",
      " [2670.98 1427.05 1673.91  531.53]\n",
      " [3484.25 1673.91 2583.    868.97]\n",
      " [1127.65  531.53  868.97  302.3 ]] \n",
      "\n",
      "eigen vals:\n",
      " [9.20653060e+03 3.14103073e+02 1.20360193e+01 3.53031170e+00] \n",
      "\n",
      "eigen matrix:\n",
      " [[ 0.75116805 -0.28583096  0.49943465  0.32339773]\n",
      " [ 0.37978837 -0.54488976 -0.67503578 -0.32116589]\n",
      " [ 0.51315094  0.70889874 -0.05473598 -0.48076855]\n",
      " [ 0.16787934  0.34475845 -0.54027372  0.74908476]] \n",
      "\n",
      "PCA plotted\n",
      "\n",
      "pca_data shape:(150, 4)\n",
      "\n",
      "First 10\n",
      "[[ 5.91220352e+00 -2.30344211e+00 -1.93646254e-04  1.98881281e-03]\n",
      " [ 5.57207573e+00 -1.97383104e+00  2.37437316e-01  9.78922110e-02]\n",
      " [ 5.44648470e+00 -2.09653267e+00  8.01682702e-03  1.70563411e-02]\n",
      " [ 5.43601924e+00 -1.87168085e+00  1.46297438e-02 -7.93205523e-02]\n",
      " [ 5.87506555e+00 -2.32934799e+00 -1.17640690e-01 -6.24675494e-02]\n",
      " [ 6.47699043e+00 -2.32552598e+00 -2.44853104e-01 -2.38718340e-02]\n",
      " [ 5.51542859e+00 -2.07156181e+00 -2.36434765e-01 -5.26849882e-02]\n",
      " [ 5.85042297e+00 -2.14948016e+00  1.18928688e-02 -4.63112261e-02]\n",
      " [ 5.15851287e+00 -1.77642658e+00  5.52235688e-02 -3.16900664e-02]\n",
      " [ 5.64458172e+00 -1.99190598e+00  2.18487511e-01 -5.72097089e-02]]\n",
      "\n",
      "\n",
      "seaborn pairplot is hands down my favorite plotting function, hue makes things so ez\n"
     ]
    },
    {
     "data": {
      "image/png": "[encoded data removed]",
      "text/plain": [
       "<Figure size 823.25x720 with 16 Axes>"
      ]
     },
     "metadata": {
      "needs_background": "light"
     },
     "output_type": "display_data"
    },
    {
     "data": {
      "image/png": "[encoded data removed]",
      "text/plain": [
       "<Figure size 864x576 with 1 Axes>"
      ]
     },
     "metadata": {
      "needs_background": "light"
     },
     "output_type": "display_data"
    }
   ],
   "source": [
    "#### TODO ####\n",
    "### Good Luck ###\n",
    "\n",
    "# Load the iris.data\n",
    "\n",
    "iris_vals_names = [\"sepal length\", \"sepal width\", \"petal length\", \"petal width\", \"names\"]\n",
    "\n",
    "iris_df_full = pd.read_csv(\"iris.data\", names = iris_vals_names)\n",
    "\n",
    "# Print df\n",
    "print(\" -- Iris Dataset -- \\n\")\n",
    "print(iris_df_full)\n",
    "print(\"\\n\")\n",
    "\n",
    "# matrix of 150 x 4 vals\n",
    "iris_df = iris_df_full[iris_vals_names[:-1]]\n",
    "a = iris_df.to_numpy()\n",
    "\n",
    "# Get names\n",
    "iris_names = list(iris_df_full[\"names\"])\n",
    "iris_names_cats = list(set(iris_names))\n",
    "\n",
    "#a = np.array([[1,2],[2,1],[3,4],[4,3]])\n",
    "\n",
    "\n",
    "print(\" -- Eigen -- \\n\")\n",
    "\n",
    "m = np.dot(a.T, a)\n",
    "\n",
    "print(\"M:\\n\",m,\"\\n\")\n",
    "\n",
    "# Numpy version for verification\n",
    "test_e1_vals, test_e1_matrix = np.linalg.eig(m)\n",
    "\n",
    "# My version\n",
    "eigen_vals, eigen_matrix = eigen_calc(a,4)\n",
    "\n",
    "pca_data = np.dot(a, eigen_matrix)\n",
    "\n",
    "\n",
    "print(\"eigen vals:\\n\",eigen_vals, \"\\n\\neigen matrix:\\n\", eigen_matrix,'\\n')\n",
    "\n",
    "print(\"PCA plotted\\n\")\n",
    "\n",
    "print(f\"pca_data shape:{pca_data.shape}\\n\")\n",
    "\n",
    "print(\"First 10\")\n",
    "print(pca_data[:10])\n",
    "print(\"\\n\")\n",
    "\n",
    "\n",
    "# Generate label indices\n",
    "\n",
    "# (used mainly for plotting)\n",
    "\n",
    "label_indices = {}\n",
    "for iris_name in iris_names_cats:\n",
    "    label_indices[iris_name] = list(iris_df_full[\"names\"][iris_df_full[\"names\"] == iris_name].index)\n",
    "# --\n",
    "\n",
    "\n",
    "values_by_label = {}\n",
    "for iris_name in label_indices:\n",
    "    values_by_label[iris_name] = pca_data[label_indices[iris_name]]\n",
    "# --\n",
    "\n",
    "#print(label_indices)\n",
    "#print(values_by_label)\n",
    "\n",
    "\n",
    "# PLOT OG\n",
    "\n",
    "print(\"seaborn pairplot is hands down my favorite plotting function, hue makes things so ez\")\n",
    "sns.pairplot(iris_df_full, hue=\"names\", diag_kind = None)\n",
    "\n",
    "\n",
    "# PLOT at 2 dimentionality\n",
    "\n",
    "\n",
    "fig, ax = plt.subplots()\n",
    "for iris_name in values_by_label:\n",
    "    label_values = values_by_label[iris_name]\n",
    "    x = label_values[:,0]\n",
    "    y = label_values[:,1]\n",
    "    plt.scatter(x,y, label = iris_name, alpha=0.55, edgecolors='none')\n",
    "\n",
    "ax.legend()\n",
    "ax.grid(True)\n",
    "\n",
    "plt.xlabel('PCA1')\n",
    "plt.ylabel('PCA2')\n",
    "\n",
    "zoom = 2\n",
    "w, h = fig.get_size_inches()\n",
    "fig.set_size_inches(w * zoom, h * zoom)\n",
    "\n",
    "\n",
    "plt.show()\n",
    "\n",
    "\n",
    "\n"
   ]
  },
  {
   "cell_type": "code",
   "execution_count": 72,
   "id": "657fc9b6",
   "metadata": {
    "scrolled": false
   },
   "outputs": [
    {
     "name": "stdout",
     "output_type": "stream",
     "text": [
      "Power iteration eigen\n",
      "[96.54296885622246, 3.293797035724657, 0.12621399871761668, 0.03702010933528187]\n",
      "np.linalg.eig eigen\n",
      "[96.54296885622257, 3.293797035724659, 0.12621399871768135, 0.037020109335079265]\n"
     ]
    }
   ],
   "source": [
    "# How much of the variance is explained by each principle component\n",
    "\n",
    "#eigen_vals, eigen_matrix\n",
    "\n",
    "print(\"Power iteration eigen\")\n",
    "\n",
    "variance_percentages = []\n",
    "for eigen_val in eigen_vals:\n",
    "    variance_percentage = (eigen_val / sum(eigen_vals)) * 100\n",
    "    variance_percentages.append(variance_percentage)\n",
    "# --\n",
    "\n",
    "print(variance_percentages)\n",
    "\n",
    "print(\"np.linalg.eig eigen\")\n",
    "\n",
    "#eigen_vals, eigen_matrix = np.linalg.eig(M)\n",
    "#test_e1_vals, test_e1_matrix\n",
    "\n",
    "\n",
    "variance_percentages_linalg = []\n",
    "for eigen_val in test_e1_vals:\n",
    "    variance_percentage = (eigen_val / sum(test_e1_vals)) * 100\n",
    "    variance_percentages_linalg.append(variance_percentage)\n",
    "# --\n",
    "\n",
    "print(variance_percentages_linalg)"
   ]
  },
  {
   "cell_type": "markdown",
   "id": "54a2a44e",
   "metadata": {},
   "source": [
    "***"
   ]
  },
  {
   "cell_type": "markdown",
   "id": "4561a032",
   "metadata": {},
   "source": [
    "### Section 4: SVD and UV Decomposition"
   ]
  },
  {
   "cell_type": "markdown",
   "id": "c56b5fea",
   "metadata": {},
   "source": [
    "Let us read-in movie recommendation data, we will use this for SVD and UV decomposition algorithms"
   ]
  },
  {
   "cell_type": "code",
   "execution_count": 153,
   "id": "e6ebac33",
   "metadata": {},
   "outputs": [],
   "source": [
    "\n",
    "\n",
    "from sklearn.model_selection import train_test_split\n",
    "\n",
    "from scipy.sparse.linalg import svds\n",
    "\n",
    "from sklearn.metrics import mean_squared_error"
   ]
  },
  {
   "cell_type": "code",
   "execution_count": 154,
   "id": "fb776a11",
   "metadata": {},
   "outputs": [],
   "source": [
    "path = ''"
   ]
  },
  {
   "cell_type": "code",
   "execution_count": 155,
   "id": "f6edb5f7",
   "metadata": {},
   "outputs": [],
   "source": [
    "header = ['user_id', 'item_id', 'rating', 'timestamp']\n",
    "df = pd.read_csv(path + 'ml-100k/u.data', sep='\\t', names=header)"
   ]
  },
  {
   "cell_type": "code",
   "execution_count": 156,
   "id": "5b36df27",
   "metadata": {},
   "outputs": [
    {
     "data": {
      "text/html": [
       "<div>\n",
       "<style scoped>\n",
       "    .dataframe tbody tr th:only-of-type {\n",
       "        vertical-align: middle;\n",
       "    }\n",
       "\n",
       "    .dataframe tbody tr th {\n",
       "        vertical-align: top;\n",
       "    }\n",
       "\n",
       "    .dataframe thead th {\n",
       "        text-align: right;\n",
       "    }\n",
       "</style>\n",
       "<table border=\"1\" class=\"dataframe\">\n",
       "  <thead>\n",
       "    <tr style=\"text-align: right;\">\n",
       "      <th></th>\n",
       "      <th>user_id</th>\n",
       "      <th>item_id</th>\n",
       "      <th>rating</th>\n",
       "      <th>timestamp</th>\n",
       "    </tr>\n",
       "  </thead>\n",
       "  <tbody>\n",
       "    <tr>\n",
       "      <th>0</th>\n",
       "      <td>196</td>\n",
       "      <td>242</td>\n",
       "      <td>3</td>\n",
       "      <td>881250949</td>\n",
       "    </tr>\n",
       "    <tr>\n",
       "      <th>1</th>\n",
       "      <td>186</td>\n",
       "      <td>302</td>\n",
       "      <td>3</td>\n",
       "      <td>891717742</td>\n",
       "    </tr>\n",
       "    <tr>\n",
       "      <th>2</th>\n",
       "      <td>22</td>\n",
       "      <td>377</td>\n",
       "      <td>1</td>\n",
       "      <td>878887116</td>\n",
       "    </tr>\n",
       "    <tr>\n",
       "      <th>3</th>\n",
       "      <td>244</td>\n",
       "      <td>51</td>\n",
       "      <td>2</td>\n",
       "      <td>880606923</td>\n",
       "    </tr>\n",
       "    <tr>\n",
       "      <th>4</th>\n",
       "      <td>166</td>\n",
       "      <td>346</td>\n",
       "      <td>1</td>\n",
       "      <td>886397596</td>\n",
       "    </tr>\n",
       "    <tr>\n",
       "      <th>...</th>\n",
       "      <td>...</td>\n",
       "      <td>...</td>\n",
       "      <td>...</td>\n",
       "      <td>...</td>\n",
       "    </tr>\n",
       "    <tr>\n",
       "      <th>99995</th>\n",
       "      <td>880</td>\n",
       "      <td>476</td>\n",
       "      <td>3</td>\n",
       "      <td>880175444</td>\n",
       "    </tr>\n",
       "    <tr>\n",
       "      <th>99996</th>\n",
       "      <td>716</td>\n",
       "      <td>204</td>\n",
       "      <td>5</td>\n",
       "      <td>879795543</td>\n",
       "    </tr>\n",
       "    <tr>\n",
       "      <th>99997</th>\n",
       "      <td>276</td>\n",
       "      <td>1090</td>\n",
       "      <td>1</td>\n",
       "      <td>874795795</td>\n",
       "    </tr>\n",
       "    <tr>\n",
       "      <th>99998</th>\n",
       "      <td>13</td>\n",
       "      <td>225</td>\n",
       "      <td>2</td>\n",
       "      <td>882399156</td>\n",
       "    </tr>\n",
       "    <tr>\n",
       "      <th>99999</th>\n",
       "      <td>12</td>\n",
       "      <td>203</td>\n",
       "      <td>3</td>\n",
       "      <td>879959583</td>\n",
       "    </tr>\n",
       "  </tbody>\n",
       "</table>\n",
       "<p>100000 rows × 4 columns</p>\n",
       "</div>"
      ],
      "text/plain": [
       "       user_id  item_id  rating  timestamp\n",
       "0          196      242       3  881250949\n",
       "1          186      302       3  891717742\n",
       "2           22      377       1  878887116\n",
       "3          244       51       2  880606923\n",
       "4          166      346       1  886397596\n",
       "...        ...      ...     ...        ...\n",
       "99995      880      476       3  880175444\n",
       "99996      716      204       5  879795543\n",
       "99997      276     1090       1  874795795\n",
       "99998       13      225       2  882399156\n",
       "99999       12      203       3  879959583\n",
       "\n",
       "[100000 rows x 4 columns]"
      ]
     },
     "execution_count": 156,
     "metadata": {},
     "output_type": "execute_result"
    }
   ],
   "source": [
    "df"
   ]
  },
  {
   "cell_type": "code",
   "execution_count": 157,
   "id": "a761a8d6",
   "metadata": {},
   "outputs": [
    {
     "name": "stdout",
     "output_type": "stream",
     "text": [
      "Number of users = 943 | Number of movies = 1682\n"
     ]
    }
   ],
   "source": [
    "n_users = df.user_id.unique().shape[0]\n",
    "n_items = df.item_id.unique().shape[0]\n",
    "\n",
    "print('Number of users = ' + str(n_users) + ' | Number of movies = ' + str(n_items))"
   ]
  },
  {
   "cell_type": "code",
   "execution_count": 158,
   "id": "1b22df70",
   "metadata": {},
   "outputs": [],
   "source": [
    "train_data, test_data = train_test_split(df, test_size=0.2)"
   ]
  },
  {
   "cell_type": "code",
   "execution_count": 159,
   "id": "68d7c3bb",
   "metadata": {},
   "outputs": [],
   "source": [
    "# -1 in the code is because user index starts from 1, but np matrix indices starts at 0\n",
    "train_data_matrix = np.zeros((n_users, n_items))\n",
    "for line in train_data.itertuples():\n",
    "    train_data_matrix[line[1]-1, line[2]-1] = line[3]\n",
    "    \n",
    "test_data_matrix = np.zeros((n_users, n_items))\n",
    "for line in test_data.itertuples():\n",
    "    test_data_matrix[line[1]-1, line[2]-1] = line[3]"
   ]
  },
  {
   "cell_type": "code",
   "execution_count": 160,
   "id": "5cd1992b",
   "metadata": {},
   "outputs": [],
   "source": [
    "sparsity = round(1.0-len(df)/float(n_users*n_items),3)"
   ]
  },
  {
   "cell_type": "code",
   "execution_count": 161,
   "id": "aef2bb08",
   "metadata": {},
   "outputs": [
    {
     "name": "stdout",
     "output_type": "stream",
     "text": [
      "The sparsity level of MovieLens100K is 93.7%\n"
     ]
    }
   ],
   "source": [
    "print('The sparsity level of MovieLens100K is ' + str(sparsity*100) + '%')"
   ]
  },
  {
   "cell_type": "code",
   "execution_count": 162,
   "id": "2012a787",
   "metadata": {},
   "outputs": [],
   "source": [
    "def rmse(prediction, ground_truth):\n",
    "    prediction = prediction[ground_truth.nonzero()].flatten() \n",
    "    ground_truth = ground_truth[ground_truth.nonzero()].flatten()\n",
    "    \n",
    "    return np.sqrt(mean_squared_error(prediction, ground_truth))"
   ]
  },
  {
   "cell_type": "markdown",
   "id": "d18ca426",
   "metadata": {},
   "source": [
    "Let us do SVD first (We will use SVD from scipy.sparse.linalg package, you are free to use your power-iteration based implementation)"
   ]
  },
  {
   "cell_type": "code",
   "execution_count": 163,
   "id": "f80aff9f",
   "metadata": {
    "scrolled": false
   },
   "outputs": [
    {
     "name": "stdout",
     "output_type": "stream",
     "text": [
      " -- SVD (scipy.sparse.linalg) -- \n",
      "User-based CF RMSE: 2.2197246997774327\n",
      " -- SVD (me implementation) -- \n",
      "User-based CF RMSE: 2.2300687484812705\n"
     ]
    }
   ],
   "source": [
    "\n",
    "k_val = 10\n",
    "\n",
    "u, s, vt = svds(train_data_matrix, k = k_val)\n",
    "s_diag_matrix = np.diag(s)\n",
    "X_pred = np.dot(np.dot(u, s_diag_matrix), vt)\n",
    "\n",
    "print(\" -- SVD (scipy.sparse.linalg) -- \")\n",
    "\n",
    "print('User-based CF RMSE: ' + str(rmse(X_pred, test_data_matrix)))\n",
    "\n",
    "\n",
    "# My Implementation of the above, using power iteration\n",
    "\n",
    "\n",
    "eigen_vals, eigen_matrix = eigen_calc(train_data_matrix,k_val)\n",
    "\n",
    "s_power_it = np.diag(np.sqrt(eigen_vals))\n",
    "u_power_it = train_data_matrix.dot(eigen_matrix.dot(np.linalg.inv(s_power_it)))\n",
    "vt_power_it = eigen_matrix.T.conj()\n",
    "\n",
    "X_pred = np.dot(np.dot(u_power_it, s_power_it), vt_power_it)\n",
    "\n",
    "print(\" -- SVD (me implementation) -- \")\n",
    "\n",
    "print('User-based CF RMSE: ' + str(rmse(X_pred, test_data_matrix)))\n",
    "\n",
    "\n"
   ]
  },
  {
   "cell_type": "markdown",
   "id": "cfdf6b6b",
   "metadata": {},
   "source": [
    "Let us write the code for UV Decomposition"
   ]
  },
  {
   "cell_type": "code",
   "execution_count": 164,
   "id": "37d5c682",
   "metadata": {},
   "outputs": [],
   "source": [
    "def UVDecomposition(R, P, Q, K, steps=10, alpha=0.0002, beta=0.02): \n",
    "    \n",
    "    # P AND Q == U AND V\n",
    "    # alpha is the SGD step size\n",
    "    # beta is regularization parameter (aka lambda)\n",
    "    \n",
    "    # The reason Q is transposed is for the purpose of matrix operations in this orrientation\n",
    "    # it is actually flipped back after\n",
    "    Q = Q.T\n",
    "    for step in range(steps):\n",
    "        print(\"Step: \" + str(step))\n",
    "        \n",
    "        # Compute the Gradient first and update it\n",
    "        for i in range(len(R)):\n",
    "            for j in range(len(R[i])):\n",
    "                # Only consider NON-BLANK POINTS\n",
    "                if R[i][j] > 0:\n",
    "                    # eij == M - UV where UV is M^ (the estiamte for M, starts out as M)\n",
    "                    # This is only for P(ROW i) and Q(COLUMN j)\n",
    "                    eij = R[i][j] - np.dot(P[i,:],Q[:,j])\n",
    "                    for k in range(K):\n",
    "                        \n",
    "                        # I am commenting follwing two lines, please ignore them, they are basically implementing reularization in our framework\n",
    "                        # Also ignore the value beta in this function (If you are curious talk to your tutor)\n",
    "                        #P[i][k] = P[i][k] + alpha * (2 * eij * Q[k][j] - beta * P[i][k])\n",
    "                        #Q[k][j] = Q[k][j] + alpha * (2 * eij * P[i][k] - beta * Q[k][j])\n",
    "                        \n",
    "                        # The derivative of (M - UV)^2 WITH RESPECT TO P would be 2(M - UV) * U\n",
    "                        # then because we are equating for P[i][k] we have P[i][k] + 2(M - UV) * U.\n",
    "                        # Then alpha is a value that is there for contolled gradient descent,\n",
    "                        # alpha is usually something very small ie: 0.0002, this is the learning rate which artifically limits the rate of change,\n",
    "                        # here it multiplys the added value.\n",
    "                        P[i][k] = P[i][k] + alpha * (2 * eij * Q[k][j])\n",
    "                        # The other way around for Q\n",
    "                        Q[k][j] = Q[k][j] + alpha * (2 * eij * P[i][k])\n",
    "                        \n",
    "                        # So for P along the length of the matrix (k) for all eigen values its going to adjust using the partial derivative to U\n",
    "                        # then for U the same but to P\n",
    "                    \n",
    "        \n",
    "        # So the idea is that after the first step we will caclulate the Sum MSE of the whole thing to wait for stopping\n",
    "        # Let us compute the error\n",
    "        eR = np.dot(P,Q)\n",
    "        e = 0\n",
    "        for i in range(len(R)):\n",
    "            for j in range(len(R[i])):\n",
    "                # Only consider NON-BLANK POINTS\n",
    "                if R[i][j] > 0:\n",
    "                    # Sum of squares of the errors\n",
    "                    e = e + pow(R[i][j] - np.dot(P[i,:],Q[:,j]), 2) \n",
    "                    \n",
    "                    for k in range(K):\n",
    "                        e = e + (beta/2) * ( pow(P[i][k],2) + pow(Q[k][j],2) )\n",
    "                        \n",
    "        # If error gets down below a threshold, break out of iterations\n",
    "        if e < 0.001: \n",
    "            break\n",
    "    \n",
    "    return P, Q.T"
   ]
  },
  {
   "cell_type": "code",
   "execution_count": 165,
   "id": "1c47d90c",
   "metadata": {},
   "outputs": [],
   "source": [
    "k = 10\n",
    "P = np.random.rand(n_users, k)\n",
    "Q = np.random.rand(n_items, k)"
   ]
  },
  {
   "cell_type": "code",
   "execution_count": 166,
   "id": "bc2a3ac6",
   "metadata": {},
   "outputs": [
    {
     "name": "stdout",
     "output_type": "stream",
     "text": [
      "Step: 0\n",
      "Step: 1\n",
      "Step: 2\n",
      "Step: 3\n",
      "Step: 4\n",
      "Step: 5\n",
      "Step: 6\n",
      "Step: 7\n",
      "Step: 8\n",
      "Step: 9\n"
     ]
    }
   ],
   "source": [
    "nP, nQ = UVDecomposition(train_data_matrix, P, Q, k)"
   ]
  },
  {
   "cell_type": "code",
   "execution_count": 167,
   "id": "d6308634",
   "metadata": {},
   "outputs": [
    {
     "name": "stdout",
     "output_type": "stream",
     "text": [
      "UV-Decomposition CF RMSE: 1.1190645011702929\n"
     ]
    }
   ],
   "source": [
    "X_pred = np.dot(nP, nQ.T)\n",
    "print('UV-Decomposition CF RMSE: ' + str(rmse(X_pred, test_data_matrix)))"
   ]
  },
  {
   "cell_type": "code",
   "execution_count": 168,
   "id": "f8e123e1",
   "metadata": {},
   "outputs": [],
   "source": [
    "# UV-Decomp thrashes SVD but is slower\n",
    "\n",
    "#Testing"
   ]
  },
  {
   "cell_type": "markdown",
   "id": "f2cd3da4",
   "metadata": {},
   "source": [
    "***"
   ]
  },
  {
   "cell_type": "markdown",
   "id": "86543ef6",
   "metadata": {},
   "source": [
    "### Section 5: Computational Graphs"
   ]
  },
  {
   "cell_type": "markdown",
   "id": "af95ca3e",
   "metadata": {},
   "source": [
    "Let us start by defining the node first:"
   ]
  },
  {
   "cell_type": "code",
   "execution_count": 44,
   "id": "0659d021",
   "metadata": {},
   "outputs": [],
   "source": [
    "from functools import wraps\n",
    "\n",
    "def primitive(f): \n",
    "    \n",
    "    # The input np function is stored and wrapped into the value, this \"inner\" function will then run it with *args, **kwargs\n",
    "    @wraps(f)\n",
    "    def inner(*args, **kwargs):\n",
    "\n",
    "        \n",
    "        # The following function just check if we have a constant or a node in our graph, and returns accordingly\n",
    "        def getval(o): \n",
    "            \n",
    "            if type(o) == Node:\n",
    "                return o.value\n",
    "            else:\n",
    "                return o\n",
    "        \n",
    "        # Handle conversion and input of *args, **kwargs\n",
    "        # Convert any nodes into arguments corrisponding to the nodes value\n",
    "        \n",
    "        # ie: np.add(node(value=3), 4) = 7\n",
    "        # because the value of node is 3\n",
    "        \n",
    "        if len(args):       \n",
    "            argvals = [getval(o) for o in args]\n",
    "        else:               \n",
    "            argvals = args\n",
    "            \n",
    "        if len(kwargs):     \n",
    "            kwargvals = dict([(k,getval(o)) for k,o in kwargs.items()])\n",
    "        else:               \n",
    "            kwargvals =  kwargs\n",
    "        \n",
    "        # get parents from *args, **kwargs\n",
    "        l = list(args) + list(kwargs.values())\n",
    "        # If any of the inputs where nodes, that means that they would be parents as thier values are propagated through\n",
    "        parents = [o for o in l if type(o) == Node ]\n",
    "        \n",
    "        \"\"\" Before value compute \"\"\"\n",
    "        \n",
    "        # the value is equal to the running of the input function with any input values from int or values\n",
    "        value = f(*argvals, **kwargvals)\n",
    "        \n",
    "        \"\"\" After value compute \"\"\"\n",
    "        \n",
    "        print(\"add\", \"'\" + f.__name__ + \"'\", \"to graph with value\", value)\n",
    "        \n",
    "        return Node(value, f, parents)\n",
    "    \n",
    "    return inner"
   ]
  },
  {
   "cell_type": "code",
   "execution_count": 45,
   "id": "4895aa76",
   "metadata": {},
   "outputs": [
    {
     "name": "stdout",
     "output_type": "stream",
     "text": [
      "multiply(x1, x2, /, out=None, *, where=True, casting='same_kind', order='K', dtype=None, subok=True[, signature, extobj])\n",
      "\n",
      "Multiply arguments element-wise.\n",
      "\n",
      "Parameters\n",
      "----------\n",
      "x1, x2 : array_like\n",
      "    Input arrays to be multiplied.\n",
      "    If ``x1.shape != x2.shape``, they must be broadcastable to a common\n",
      "    shape (which becomes the shape of the output).\n",
      "out : ndarray, None, or tuple of ndarray and None, optional\n",
      "    A location into which the result is stored. If provided, it must have\n",
      "    a shape that the inputs broadcast to. If not provided or None,\n",
      "    a freshly-allocated array is returned. A tuple (possible only as a\n",
      "    keyword argument) must have length equal to the number of outputs.\n",
      "where : array_like, optional\n",
      "    This condition is broadcast over the input. At locations where the\n",
      "\n"
     ]
    }
   ],
   "source": [
    "add_new = primitive(np.add)\n",
    "mul_new = primitive(np.multiply)\n",
    "div_new = primitive(np.divide)\n",
    "sub_new = primitive(np.subtract)\n",
    "neg_new = primitive(np.negative)\n",
    "exp_new = primitive(np.exp)\n",
    "\n",
    "# I learnt about the @wrap thing, VERY NICE! :)\n",
    "print(mul_new.__doc__[0:800])"
   ]
  },
  {
   "cell_type": "code",
   "execution_count": 46,
   "id": "ee2e956b",
   "metadata": {},
   "outputs": [],
   "source": [
    "class Node:\n",
    "    \n",
    "    \"\"\"A node in a computation graph.\"\"\"\n",
    "    def __init__(self, value, fun, parents):\n",
    "        \n",
    "        self.parents = parents\n",
    "        self.value = value\n",
    "        self.fun = fun \n",
    "        \n",
    "    def __repr__(self): \n",
    "        \n",
    "        \"\"\"A (very) basic string representation\"\"\"\n",
    "        if self.value is None: \n",
    "            str_val = 'None'\n",
    "        else:                  \n",
    "            str_val = str(round(self.value,3))\n",
    "        \n",
    "        return \"\\n\" + \"Fun: \" + str(self.fun) + \" Value: \"+ str_val + \" Parents: \" + str(self.parents)\n",
    "\n",
    "    # Now operations like \"+\" can be used\n",
    "    def __add__(self, other): return add_new(self, other)\n",
    "    def __radd__(self, other): return add_new(other, self)\n",
    "    def __sub__(self, other): return sub_new(self, other)\n",
    "    def __rsub__(self, other): return sub_new(other, self)\n",
    "    def __truediv__(self, other): return div_new(self, other)\n",
    "    def __rtruediv__(self, other): return div_new(other, self)\n",
    "    def __mul__(self, other): return mul_new(self, other)\n",
    "    def __rmul__(self, other): return mul_new(other, self)\n",
    "    def __neg__(self): return neg_new(self)\n",
    "    def __exp__(self): return exp_new(self)"
   ]
  },
  {
   "cell_type": "markdown",
   "id": "e62509ce",
   "metadata": {},
   "source": [
    "The following function adds operation/primitive to computation graph"
   ]
  },
  {
   "cell_type": "markdown",
   "id": "0ab7a015",
   "metadata": {},
   "source": [
    "Let us add numpy add, multiply, divide, subtract, negative and exp functions"
   ]
  },
  {
   "cell_type": "markdown",
   "id": "8b18932d",
   "metadata": {},
   "source": [
    "Let us build the first node"
   ]
  },
  {
   "cell_type": "code",
   "execution_count": 47,
   "id": "ac323881",
   "metadata": {},
   "outputs": [],
   "source": [
    "def start_node(value = None): \n",
    "    \n",
    "    \"\"\"A function to create an empty node to start off the graph\"\"\"\n",
    "    fun, parents = lambda x: x, []\n",
    "    return Node(value, fun, parents)"
   ]
  },
  {
   "cell_type": "markdown",
   "id": "2b0315a7",
   "metadata": {},
   "source": [
    "Let us test on some function"
   ]
  },
  {
   "cell_type": "code",
   "execution_count": 48,
   "id": "7879a97d",
   "metadata": {},
   "outputs": [
    {
     "name": "stdout",
     "output_type": "stream",
     "text": [
      "add 'multiply' to graph with value -1.5\n",
      "add 'exp' to graph with value 0.22313016014842982\n",
      "add 'add' to graph with value 1.22313016014843\n",
      "add 'true_divide' to graph with value 0.8175744761936437\n",
      "Final answer: 0.818\n",
      "\n",
      "Fun: <ufunc 'true_divide'> Value: 0.818 Parents: [\n",
      "Fun: <ufunc 'add'> Value: 1.223 Parents: [\n",
      "Fun: <ufunc 'exp'> Value: 0.223 Parents: [\n",
      "Fun: <ufunc 'multiply'> Value: -1.5 Parents: [\n",
      "Fun: <function start_node.<locals>.<lambda> at 0x000001B1788AE9D0> Value: 1.5 Parents: []]]]]\n"
     ]
    }
   ],
   "source": [
    "z = start_node(1.5)\n",
    "\n",
    "t1 = mul_new(z, -1)\n",
    "t2 = exp_new(t1)\n",
    "t3 = add_new(t2, 1)\n",
    "y = div_new(1,t3)\n",
    "print(\"Final answer:\", round(y.value,3))  # correct final output \n",
    "print(y)"
   ]
  },
  {
   "cell_type": "code",
   "execution_count": 49,
   "id": "0d317339",
   "metadata": {},
   "outputs": [
    {
     "name": "stdout",
     "output_type": "stream",
     "text": [
      "add 'multiply' to graph with value -1\n",
      "add 'true_divide' to graph with value 1.0\n",
      "Final answer: 1.0\n",
      "\n",
      "Fun: <ufunc 'true_divide'> Value: 1.0 Parents: [\n",
      "Fun: <ufunc 'multiply'> Value: -1 Parents: [\n",
      "Fun: <function start_node.<locals>.<lambda> at 0x000001B1788AED30> Value: 1 Parents: []]]\n"
     ]
    }
   ],
   "source": [
    "z = start_node(1)\n",
    "t1 = mul_new(z, -1)\n",
    "y = div_new(-1,t1)\n",
    "print(\"Final answer:\", round(y.value,3))  # correct final output \n",
    "print(y)"
   ]
  },
  {
   "cell_type": "code",
   "execution_count": 50,
   "id": "a3c2cd63",
   "metadata": {},
   "outputs": [
    {
     "name": "stdout",
     "output_type": "stream",
     "text": [
      "add 'multiply' to graph with value 9\n",
      "add 'multiply' to graph with value 36\n",
      "add 'add' to graph with value 6\n",
      "add 'add' to graph with value 42\n",
      "Final answer: 42\n",
      "\n",
      "Fun: <ufunc 'add'> Value: 42 Parents: [\n",
      "Fun: <ufunc 'multiply'> Value: 36 Parents: [\n",
      "Fun: <ufunc 'multiply'> Value: 9 Parents: [\n",
      "Fun: <function start_node.<locals>.<lambda> at 0x000001B17888B0D0> Value: 3 Parents: []]], \n",
      "Fun: <ufunc 'add'> Value: 6 Parents: [\n",
      "Fun: <function start_node.<locals>.<lambda> at 0x000001B17888B160> Value: 4 Parents: []]]\n"
     ]
    }
   ],
   "source": [
    "\n",
    "# f(x,y)=(x2∗y)+y+2\n",
    "x = 3\n",
    "y = 4\n",
    "\n",
    "z_x = start_node(x)\n",
    "t1_1 = mul_new(z_x, x)\n",
    "\n",
    "z_y = start_node(y)\n",
    "\n",
    "t2_1 = mul_new(t1_1, y)\n",
    "t2_2 = add_new(z_y, 2)\n",
    "\n",
    "t3_1 = add_new(t2_1, t2_2)\n",
    "\n",
    "out_node = t3_1\n",
    "print(\"Final answer:\", round(out_node.value,3))  # correct final output \n",
    "print(out_node)"
   ]
  },
  {
   "cell_type": "code",
   "execution_count": null,
   "id": "4f8c0b1c",
   "metadata": {},
   "outputs": [],
   "source": []
  },
  {
   "cell_type": "code",
   "execution_count": 51,
   "id": "65c474f7",
   "metadata": {},
   "outputs": [
    {
     "name": "stdout",
     "output_type": "stream",
     "text": [
      "add 'multiply' to graph with value 4\n",
      "add 'log' to graph with value 1.0986122886681098\n",
      "add 'multiply' to graph with value 16\n",
      "add 'multiply' to graph with value 64\n",
      "add 'multiply' to graph with value 192\n",
      "add 'add' to graph with value 5.09861228866811\n",
      "add 'add' to graph with value 197.0986122886681\n",
      "Final answer: 197.099\n",
      "\n",
      "Fun: <ufunc 'add'> Value: 197.099 Parents: [\n",
      "Fun: <ufunc 'add'> Value: 5.099 Parents: [\n",
      "Fun: <ufunc 'multiply'> Value: 4 Parents: [\n",
      "Fun: <function start_node.<locals>.<lambda> at 0x000001B17888BB80> Value: 2 Parents: []], \n",
      "Fun: <ufunc 'log'> Value: 1.099 Parents: [\n",
      "Fun: <function start_node.<locals>.<lambda> at 0x000001B17888BAF0> Value: 3 Parents: []]], \n",
      "Fun: <ufunc 'multiply'> Value: 192 Parents: [\n",
      "Fun: <ufunc 'multiply'> Value: 64 Parents: [\n",
      "Fun: <ufunc 'multiply'> Value: 16 Parents: [\n",
      "Fun: <function start_node.<locals>.<lambda> at 0x000001B17888BA60> Value: 4 Parents: []]]]]\n"
     ]
    }
   ],
   "source": [
    "\n",
    "log_new = primitive(np.log)\n",
    "\n",
    "#(e.g., x2 + log(y) + 3z3)\n",
    "x = 2\n",
    "y = 3\n",
    "z = 4\n",
    "\n",
    "in_x = start_node(x)\n",
    "\n",
    "in_y = start_node(y)\n",
    "\n",
    "in_z = start_node(z)\n",
    "\n",
    "t1_x2 = mul_new(in_x, x)\n",
    "\n",
    "t1_log_y = log_new(in_y)\n",
    "\n",
    "t1_z2 = mul_new(in_z, z)\n",
    "t1_z3 = mul_new(t1_z2, z)\n",
    "\n",
    "t1_3z3 = mul_new(t1_z3, 3)\n",
    "\n",
    "\n",
    "t2_1 = add_new(t1_x2, t1_log_y)\n",
    "\n",
    "#t2_1 = t1_x2 + t1_log_y\n",
    "\n",
    "t3_1 = add_new(t2_1, t1_3z3)\n",
    "\n",
    "\n",
    "out_node = t3_1\n",
    "print(\"Final answer:\", round(out_node.value,3))  # correct final output \n",
    "print(out_node)\n",
    "\n",
    "\n"
   ]
  },
  {
   "cell_type": "code",
   "execution_count": null,
   "id": "2550a62d",
   "metadata": {},
   "outputs": [],
   "source": []
  }
 ],
 "metadata": {
  "kernelspec": {
   "display_name": "Python 3 (ipykernel)",
   "language": "python",
   "name": "python3"
  },
  "language_info": {
   "codemirror_mode": {
    "name": "ipython",
    "version": 3
   },
   "file_extension": ".py",
   "mimetype": "text/x-python",
   "name": "python",
   "nbconvert_exporter": "python",
   "pygments_lexer": "ipython3",
   "version": "3.9.6"
  }
 },
 "nbformat": 4,
 "nbformat_minor": 5
}
