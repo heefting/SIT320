{
 "cells": [
  {
   "cell_type": "markdown",
   "id": "imposed-playlist",
   "metadata": {},
   "source": [
    "# Lab 5a: Greedy Algorithms"
   ]
  },
  {
   "cell_type": "markdown",
   "id": "d97cce87",
   "metadata": {},
   "source": [
    "Lab associated with Module 5a: Greedy Algorithms"
   ]
  },
  {
   "cell_type": "markdown",
   "id": "5c7f2e9d",
   "metadata": {},
   "source": [
    "***"
   ]
  },
  {
   "cell_type": "code",
   "execution_count": 1,
   "id": "5b495ad0",
   "metadata": {},
   "outputs": [
    {
     "data": {
      "text/html": [
       "<style>.container { width:95% !important; }</style>"
      ],
      "text/plain": [
       "<IPython.core.display.HTML object>"
      ]
     },
     "metadata": {},
     "output_type": "display_data"
    }
   ],
   "source": [
    "# The following lines are used to increase the width of cells to utilize more space on the screen \n",
    "from IPython.core.display import display, HTML\n",
    "display(HTML(\"<style>.container { width:95% !important; }</style>\"))"
   ]
  },
  {
   "cell_type": "markdown",
   "id": "3a2b855c",
   "metadata": {},
   "source": [
    "***"
   ]
  },
  {
   "cell_type": "markdown",
   "id": "9d0921a0",
   "metadata": {},
   "source": [
    "### Section 0: Imports"
   ]
  },
  {
   "cell_type": "code",
   "execution_count": 2,
   "id": "477622d5",
   "metadata": {},
   "outputs": [],
   "source": [
    "import numpy as np"
   ]
  },
  {
   "cell_type": "code",
   "execution_count": 3,
   "id": "50fb5ed5",
   "metadata": {},
   "outputs": [],
   "source": [
    "import math"
   ]
  },
  {
   "cell_type": "code",
   "execution_count": 4,
   "id": "9910ee06",
   "metadata": {},
   "outputs": [],
   "source": [
    "from IPython.display import Image\n",
    "from graphviz import Digraph"
   ]
  },
  {
   "cell_type": "markdown",
   "id": "e748249f",
   "metadata": {},
   "source": [
    "Install heapdict through Anaconda Navigator or Pip or Conda"
   ]
  },
  {
   "cell_type": "code",
   "execution_count": 5,
   "id": "2eb12be4",
   "metadata": {},
   "outputs": [],
   "source": [
    "import heapdict as heapdict"
   ]
  },
  {
   "cell_type": "markdown",
   "id": "7f9321f8",
   "metadata": {},
   "source": [
    "***"
   ]
  },
  {
   "cell_type": "code",
   "execution_count": 6,
   "id": "cb8bdd1c",
   "metadata": {},
   "outputs": [],
   "source": [
    "# Before anything else will setup some stuff <1>\n",
    "global display_graph\n",
    "# NOW WITH COLORS\n",
    "def display_graph(G, bi=True, node_cols = {}):\n",
    "    V = G.vertices\n",
    "    dot = Digraph()\n",
    "    exists = {}\n",
    "    #print(G)\n",
    "    for a,b in G.getDirEdges():\n",
    "        val = str(a)\n",
    "        \n",
    "        if not val in exists:\n",
    "            exists[val] = {}\n",
    "        if not str(b[0]) in exists:\n",
    "            exists[str(b[0])] = {}\n",
    "        if (str(b[0]) in exists[val] or val in exists[str(b[0])]) and bi:\n",
    "            continue\n",
    "        \n",
    "        if val in node_cols:\n",
    "            if node_cols[val][0] == str(b[0]):\n",
    "                dot.edge(val,str(b[0]),color=node_cols[val][1], label=str(b[1]))\n",
    "            else:\n",
    "                dot.edge(val,str(b[0]), label=str(b[1]))\n",
    "        else:\n",
    "            dot.edge(val,str(b[0]), label=str(b[1]))\n",
    "        exists[val][str(b[0])] = True\n",
    "    # --\n",
    "    return dot\n",
    "# --"
   ]
  },
  {
   "cell_type": "code",
   "execution_count": null,
   "id": "bff9ea5c",
   "metadata": {},
   "outputs": [],
   "source": []
  },
  {
   "cell_type": "markdown",
   "id": "1309ad59",
   "metadata": {},
   "source": [
    "### Section 1: Greedy Algorithm for Activity Selection"
   ]
  },
  {
   "cell_type": "markdown",
   "id": "9c4c1294",
   "metadata": {},
   "source": [
    "### Demo example\n",
    "\n",
    "## Basically it just iterativly chooses the next closest start time after each finish time\n",
    "\n",
    "![Example2](fig_greedy_1.jpg)"
   ]
  },
  {
   "cell_type": "markdown",
   "id": "4b8e52ca",
   "metadata": {},
   "source": [
    "A simple greedy algorithm based on sorted activities can written as:"
   ]
  },
  {
   "cell_type": "code",
   "execution_count": 7,
   "id": "2a6897da",
   "metadata": {},
   "outputs": [],
   "source": [
    "# activities are sorted by end time\n",
    "def greedyActivitySelection(activities):\n",
    "    \n",
    "    schedule = []\n",
    "    \n",
    "    currentTime = activities[0][0] - 1 # start before any of the activities start.\n",
    "    \n",
    "    for i in range(len(activities)):\n",
    "        start, finish = activities[i]\n",
    "        if start > currentTime:\n",
    "            schedule.append(i)\n",
    "            currentTime = finish\n",
    "    \n",
    "    return schedule"
   ]
  },
  {
   "cell_type": "markdown",
   "id": "1cb9c687",
   "metadata": {},
   "source": [
    "Let us test above function as:"
   ]
  },
  {
   "cell_type": "code",
   "execution_count": 8,
   "id": "55b3a75e",
   "metadata": {},
   "outputs": [
    {
     "name": "stdout",
     "output_type": "stream",
     "text": [
      "Solution:\n",
      "[1, 4]\n",
      "[5, 7]\n",
      "[8, 10]\n",
      "[13, 15]\n"
     ]
    }
   ],
   "source": [
    "activities = [  [1,4],[2,5],[3,6],[5,7],[3,8],[6,9],[8,10],[9,11],[5,12],[6,13],[8,14],[13,15] ]\n",
    "\n",
    "\n",
    "activityList = greedyActivitySelection(activities)\n",
    "\n",
    "\n",
    "\n",
    "#sorted_activities = [activities[act] for act in activityList]\n",
    "#sorted_activities = sorted(sorted_activities, key=lambda item: item[0], reverse=False)\n",
    "#print(sorted_activities)\n",
    "\n",
    "\n",
    "print(\"Solution:\")\n",
    "\n",
    "for act in activityList:\n",
    "    print(activities[act])"
   ]
  },
  {
   "cell_type": "markdown",
   "id": "8d527834",
   "metadata": {},
   "source": [
    "Modify above code to implement sorting of the activities. "
   ]
  },
  {
   "cell_type": "markdown",
   "id": "0274c62c",
   "metadata": {},
   "source": [
    "***"
   ]
  },
  {
   "cell_type": "markdown",
   "id": "f9b31a04",
   "metadata": {},
   "source": [
    "### <font color='red'> Section 2: Dynamic Programming version of Activity Selection. </font>"
   ]
  },
  {
   "cell_type": "code",
   "execution_count": 9,
   "id": "8d176b03",
   "metadata": {},
   "outputs": [
    {
     "name": "stdout",
     "output_type": "stream",
     "text": [
      "\n",
      "\n",
      "[[1, 4], [5, 7], [8, 10], [13, 15]]\n",
      "\n",
      "\n",
      "[[1, 4]]\n",
      "[[2, 5]]\n",
      "[[3, 6]]\n",
      "[[1, 4], [5, 7]]\n",
      "[[3, 8]]\n",
      "[[1, 4], [6, 9]]\n",
      "[[1, 4], [5, 7], [8, 10]]\n",
      "[[1, 4], [5, 7], [9, 11]]\n",
      "[[1, 4], [5, 12]]\n",
      "[[1, 4], [6, 13]]\n",
      "[[1, 4], [5, 7], [8, 14]]\n",
      "[[1, 4], [5, 7], [8, 10], [13, 15]]\n",
      "\n",
      "\n"
     ]
    }
   ],
   "source": [
    "#### TODO ####\n",
    "### Good Luck ###\n",
    "\n",
    "activities = [  [1,4],[2,5],[3,6],[5,7],[3,8],[6,9],[8,10],[9,11],[5,12],[6,13],[8,14],[13,15] ]\n",
    "\n",
    "def dpActivitySelection(activities):\n",
    "    \n",
    "    n = len(activities)\n",
    "    c = [[] for x in range(n)]\n",
    "    for i in range(n):\n",
    "        for j in range(n):\n",
    "            start, finish = activities[i][0], activities[j][1]\n",
    "            if finish < start and len(c[i]) < len(c[j]):\n",
    "                #temp = [x for x in c[j]]\n",
    "                c[i] = [x for x in c[j]]\n",
    "        c[i].append(activities[i])\n",
    "    # --\n",
    "    current_max = []\n",
    "    for x in c:\n",
    "        if len(current_max) < len(x):\n",
    "            current_max = x\n",
    "    return current_max, c\n",
    "# --\n",
    "    \n",
    "    \n",
    "\n",
    "\n",
    "kek, c = dpActivitySelection(activities)\n",
    "print('\\n')\n",
    "print(kek)\n",
    "print('\\n')\n",
    "[print(i) for i in c]\n",
    "print('\\n')"
   ]
  },
  {
   "cell_type": "markdown",
   "id": "9c64f77d",
   "metadata": {},
   "source": [
    "***"
   ]
  },
  {
   "cell_type": "markdown",
   "id": "0ddf024b",
   "metadata": {},
   "source": [
    "### Section 3: Huffman Coding"
   ]
  },
  {
   "cell_type": "code",
   "execution_count": 10,
   "id": "82f0ad8e",
   "metadata": {},
   "outputs": [],
   "source": [
    "class node:\n",
    "    \n",
    "    def __init__(self, freq, symbol, left=None, right=None):\n",
    "        \n",
    "        self.freq = freq\n",
    "        self.symbol = symbol\n",
    " \n",
    "        self.left = left\n",
    "        self.right = right\n",
    " \n",
    "        self.val = ''"
   ]
  },
  {
   "cell_type": "code",
   "execution_count": 11,
   "id": "11c3cefa",
   "metadata": {},
   "outputs": [
    {
     "name": "stdout",
     "output_type": "stream",
     "text": [
      "\n",
      "\n",
      "{'u': 10, 'E': 1, '3': 1, 'k': 4, 'I': 7, 'N': 1, 'd': 12, 'l': 13, 's': 16, 'Q': 1, 'Y': 1, 't': 21, 'i': 21, 'A': 1, 'r': 23, 'f': 6, 'p': 5, ' ': 77, 'b': 4, '-': 1, 'o': 23, 'h': 14, 'w': 7, '.': 4, 'g': 4, 'n': 24, 'm': 9, 'e': 40, 'j': 1, 'v': 8, 'y': 5, 'a': 25, 'c': 6, '’': 3, 'S': 2, '0': 2, 'U': 1, ',': 3}\n",
      "\n",
      "\n",
      "['u', 'E', '3', 'k', 'I', 'N', 'd', 'l', 's', 'Q', 'Y', 't', 'i', 'A', 'r', 'f', 'p', ' ', 'b', '-', 'o', 'h', 'w', '.', 'g', 'n', 'm', 'e', 'j', 'v', 'y', 'a', 'c', '’', 'S', '0', 'U', ',']\n",
      "[10, 1, 1, 4, 7, 1, 12, 13, 16, 1, 1, 21, 21, 1, 23, 6, 5, 77, 4, 1, 23, 14, 7, 4, 4, 24, 9, 40, 1, 8, 5, 25, 6, 3, 2, 2, 1, 3]\n"
     ]
    }
   ],
   "source": [
    "letters = ['A', 'B', 'C', 'D', 'E', 'F']\n",
    " \n",
    "frequency = [45, 13, 12, 16, 9, 5]\n",
    "\n",
    "\n",
    "# A little addition that get frequency from input\n",
    "input_string = \"I’ll have you know I graduated top of my class in the Navy Seals, and I’ve been involved in numerous secret raids on Al-Quaeda, and I have over 300 confirmed kills.\"\n",
    "input_string += \"I am trained in gorilla warfare and I’m the top sniper in the entire US armed forces. You are nothing to me but just another target. I will wipe you out with precision the likes of which has never been seen before on this Earth, mark my words.\"\n",
    "\n",
    "letters_set = set(input_string)\n",
    "letters_set = {x:0 for x in letters_set}\n",
    "\n",
    "for char in input_string:\n",
    "    letters_set[char] += 1\n",
    "\n",
    "print('\\n')\n",
    "\n",
    "print(letters_set)\n",
    "\n",
    "print('\\n')\n",
    "\n",
    "\n",
    "letters = list(letters_set.keys())\n",
    "\n",
    "frequency = list(letters_set.values())\n",
    "\n",
    "print(letters)\n",
    "print(frequency)\n"
   ]
  },
  {
   "cell_type": "code",
   "execution_count": 12,
   "id": "5a7cd0dd",
   "metadata": {},
   "outputs": [],
   "source": [
    "\n",
    "# Let us make use of list to store nodes\n",
    " \n",
    "nodes = []\n",
    " \n",
    "# Put all the nodes in the list first\n",
    "\n",
    "for x in range(len(letters)):\n",
    "    \n",
    "    nodes.append(node(frequency[x], letters[x]))"
   ]
  },
  {
   "cell_type": "markdown",
   "id": "a06e3471",
   "metadata": {},
   "source": [
    "Time to build the tree"
   ]
  },
  {
   "cell_type": "code",
   "execution_count": 13,
   "id": "b4ac7dc0",
   "metadata": {},
   "outputs": [],
   "source": [
    "while len(nodes) > 1:\n",
    "    \n",
    "    # We need to sort the nodes based on the value of the frequency-field\n",
    "    nodes = sorted(nodes, key=lambda x: x.freq)\n",
    " \n",
    "    # The following two nodes are the smallest, let us call them S1 and S2\n",
    "\n",
    "    S1 = nodes[0]\n",
    "    S2 = nodes[1]\n",
    " \n",
    "    S1.val = 0\n",
    "    S2.val = 1\n",
    "\n",
    "    # make the super node\n",
    "    \n",
    "    S12 = node(S1.freq + S2.freq, S1.symbol + S2.symbol, S1, S2)\n",
    " \n",
    "    # remove the two nodes from our consideration next\n",
    "    \n",
    "    nodes.remove(S1)\n",
    "    nodes.remove(S2)\n",
    "    \n",
    "    nodes.append(S12)"
   ]
  },
  {
   "cell_type": "markdown",
   "id": "b3383e7f",
   "metadata": {},
   "source": [
    "Okay, now we have built the tree, let us display the codes. Note, we will have to recursively traverse the tree"
   ]
  },
  {
   "cell_type": "code",
   "execution_count": 14,
   "id": "c313636c",
   "metadata": {},
   "outputs": [],
   "source": [
    "def printCode(node, val=''):\n",
    "    \n",
    "    code = val + str(node.val)\n",
    "\n",
    "    if node.left:\n",
    "        printCode(node.left, code)\n",
    "        \n",
    "    if node.right:\n",
    "        printCode(node.right, code)    \n",
    "        \n",
    "    if not (node.left and node.right):\n",
    "        print('Letter = {}, Code = {}'.format(node.symbol, code))"
   ]
  },
  {
   "cell_type": "code",
   "execution_count": 15,
   "id": "e72efdba",
   "metadata": {},
   "outputs": [
    {
     "name": "stdout",
     "output_type": "stream",
     "text": [
      "Letter = e, Code = 000\n",
      "Letter = m, Code = 00100\n",
      "Letter = u, Code = 00101\n",
      "Letter = t, Code = 0011\n",
      "Letter = i, Code = 0100\n",
      "Letter = p, Code = 010100\n",
      "Letter = y, Code = 010101\n",
      "Letter = -, Code = 01011000\n",
      "Letter = j, Code = 01011001\n",
      "Letter = ’, Code = 0101101\n",
      "Letter = f, Code = 010111\n",
      "Letter = r, Code = 0110\n",
      "Letter = o, Code = 0111\n",
      "Letter = n, Code = 1000\n",
      "Letter = d, Code = 10010\n",
      "Letter = c, Code = 100110\n",
      "Letter = ,, Code = 1001110\n",
      "Letter = U, Code = 10011110\n",
      "Letter = S, Code = 10011111\n",
      "Letter = a, Code = 1010\n",
      "Letter = l, Code = 10110\n",
      "Letter = h, Code = 10111\n",
      "Letter = I, Code = 110000\n",
      "Letter = w, Code = 110001\n",
      "Letter = s, Code = 11001\n",
      "Letter = v, Code = 110100\n",
      "Letter = k, Code = 1101010\n",
      "Letter = b, Code = 1101011\n",
      "Letter = ., Code = 1101100\n",
      "Letter = g, Code = 1101101\n",
      "Letter = 0, Code = 11011100\n",
      "Letter = E, Code = 110111010\n",
      "Letter = 3, Code = 110111011\n",
      "Letter = N, Code = 110111100\n",
      "Letter = Q, Code = 110111101\n",
      "Letter = Y, Code = 110111110\n",
      "Letter = A, Code = 110111111\n",
      "Letter =  , Code = 111\n"
     ]
    }
   ],
   "source": [
    "printCode(nodes[0])"
   ]
  },
  {
   "cell_type": "code",
   "execution_count": null,
   "id": "68e9391d",
   "metadata": {},
   "outputs": [],
   "source": []
  },
  {
   "cell_type": "markdown",
   "id": "6570890e",
   "metadata": {},
   "source": [
    "***"
   ]
  },
  {
   "cell_type": "markdown",
   "id": "6e92fc09",
   "metadata": {},
   "source": [
    "### <font color='red'> Section 4: Prim's Algorithm. </font>"
   ]
  },
  {
   "cell_type": "markdown",
   "id": "ce467019",
   "metadata": {},
   "source": [
    "Graph's Preliminaries"
   ]
  },
  {
   "cell_type": "code",
   "execution_count": 16,
   "id": "4cdc7ece",
   "metadata": {},
   "outputs": [],
   "source": [
    "from graph import *"
   ]
  },
  {
   "cell_type": "code",
   "execution_count": 17,
   "id": "a75ba3ec",
   "metadata": {},
   "outputs": [],
   "source": [
    "G = Graph()\n",
    "\n",
    "for i in ['A', 'B', 'C', 'D', 'E', 'F', 'G', 'H', 'I']:\n",
    "    G.addVertex( Node(i) )"
   ]
  },
  {
   "cell_type": "code",
   "execution_count": 18,
   "id": "c990d75e",
   "metadata": {},
   "outputs": [],
   "source": [
    "V = G.vertices\n",
    "\n",
    "#0, 1, 2, 3, 4, 5, 6, 7, 8\n",
    "#A, B, C, D, E, F, G, H, I\n",
    "\n",
    "G.addBiEdge( V[0], V[1], 4)\n",
    "\n",
    "G.addBiEdge( V[0], V[7] , 8)\n",
    "\n",
    "G.addBiEdge( V[1], V[7], 11)\n",
    "\n",
    "G.addBiEdge( V[1], V[2], 8)\n",
    "\n",
    "G.addBiEdge( V[2], V[3], 7)\n",
    "\n",
    "G.addBiEdge( V[3], V[4], 9)\n",
    "\n",
    "G.addBiEdge( V[3], V[5], 14 )\n",
    "\n",
    "G.addBiEdge( V[4], V[5], 10 )\n",
    "\n",
    "G.addBiEdge( V[2], V[5], 4 )\n",
    "\n",
    "G.addBiEdge( V[2], V[8], 2 )\n",
    "\n",
    "G.addBiEdge( V[5], V[6], 2 )\n",
    "\n",
    "G.addBiEdge( V[6], V[7], 1 )\n",
    "\n",
    "G.addBiEdge( V[6], V[8], 6 )\n",
    "\n",
    "G.addBiEdge( V[7], V[8], 7 )\n",
    "\n",
    "\n"
   ]
  },
  {
   "cell_type": "code",
   "execution_count": 19,
   "id": "2ac81f26",
   "metadata": {},
   "outputs": [
    {
     "name": "stdout",
     "output_type": "stream",
     "text": [
      "Graph with:\n",
      "\t Vertices:\n",
      "\tA,B,C,D,E,F,G,H,I,\n",
      "\t Edges:\n",
      "\t(A,(<graph.Node object at 0x000001EA763EF250>, 4)) (A,(<graph.Node object at 0x000001EA763EFBB0>, 8)) (B,(<graph.Node object at 0x000001EA763EFF10>, 4)) (B,(<graph.Node object at 0x000001EA763EFBB0>, 11)) (B,(<graph.Node object at 0x000001EA763EF760>, 8)) (C,(<graph.Node object at 0x000001EA763EF250>, 8)) (C,(<graph.Node object at 0x000001EA763EFB20>, 7)) (C,(<graph.Node object at 0x000001EA763EF370>, 4)) (C,(<graph.Node object at 0x000001EA763EF970>, 2)) (D,(<graph.Node object at 0x000001EA763EF760>, 7)) (D,(<graph.Node object at 0x000001EA763EFC40>, 9)) (D,(<graph.Node object at 0x000001EA763EF370>, 14)) (E,(<graph.Node object at 0x000001EA763EFB20>, 9)) (E,(<graph.Node object at 0x000001EA763EF370>, 10)) (F,(<graph.Node object at 0x000001EA763EFB20>, 14)) (F,(<graph.Node object at 0x000001EA763EFC40>, 10)) (F,(<graph.Node object at 0x000001EA763EF760>, 4)) (F,(<graph.Node object at 0x000001EA763EF460>, 2)) (G,(<graph.Node object at 0x000001EA763EF370>, 2)) (G,(<graph.Node object at 0x000001EA763EFBB0>, 1)) (G,(<graph.Node object at 0x000001EA763EF970>, 6)) (H,(<graph.Node object at 0x000001EA763EFF10>, 8)) (H,(<graph.Node object at 0x000001EA763EF250>, 11)) (H,(<graph.Node object at 0x000001EA763EF460>, 1)) (H,(<graph.Node object at 0x000001EA763EF970>, 7)) (I,(<graph.Node object at 0x000001EA763EF760>, 2)) (I,(<graph.Node object at 0x000001EA763EF460>, 6)) (I,(<graph.Node object at 0x000001EA763EFBB0>, 7)) \n",
      "\n"
     ]
    }
   ],
   "source": [
    "print(G)"
   ]
  },
  {
   "cell_type": "markdown",
   "id": "10941ad1",
   "metadata": {},
   "source": [
    "This is what we had in the lectures as the slow implementation of Prim's Algorithm"
   ]
  },
  {
   "cell_type": "code",
   "execution_count": 20,
   "id": "c75594c0",
   "metadata": {},
   "outputs": [],
   "source": [
    "# G is graph\n",
    "# s is the node to start\n",
    "\n",
    "def slowPrim(G, s):\n",
    "    \n",
    "    # first, find the lightest edge leaving s\n",
    "    bestWt = np.inf\n",
    "    bestu = None\n",
    "    \n",
    "    for u,wt in s.getOutNeighborsWithWeights():\n",
    "        \n",
    "        if wt < bestWt:\n",
    "            bestWt = wt\n",
    "            bestu = u\n",
    "    \n",
    "    MST = [ (s, bestu) ]\n",
    "    verticesVisited = [s,bestu]\n",
    "    \n",
    "    while len(verticesVisited) < len(G.vertices): # danger! this will loop forever if the graph isn't connected...\n",
    "        \n",
    "        # find the lightest edge (x,v) so that x has been visited and v hasn't.\n",
    "        bestWt = np.inf\n",
    "        bestv = None\n",
    "        bestx = None\n",
    "        \n",
    "        for x in verticesVisited:\n",
    "            for v,wt in x.getOutNeighborsWithWeights():\n",
    "                \n",
    "                if v in verticesVisited:\n",
    "                    continue\n",
    "                \n",
    "                if wt < bestWt:\n",
    "                    bestWt = wt\n",
    "                    bestv = v\n",
    "                    bestx = x\n",
    "                    \n",
    "        MST.append((bestx,bestv))\n",
    "        verticesVisited.append(bestv)\n",
    "    \n",
    "    return MST"
   ]
  },
  {
   "cell_type": "code",
   "execution_count": 21,
   "id": "f6ff20d2",
   "metadata": {},
   "outputs": [
    {
     "name": "stdout",
     "output_type": "stream",
     "text": [
      "A - inf \n",
      "\n",
      "A B\n",
      "A H\n",
      "H G\n",
      "G F\n",
      "F C\n",
      "C I\n",
      "C D\n",
      "D E\n",
      "Total: inf\n"
     ]
    }
   ],
   "source": [
    "T = slowPrim(G, G.vertices[0])\n",
    "print(T[0][0], '-', T[0][1].estD, '\\n')\n",
    "\n",
    "total = 0\n",
    "for x,y in T:\n",
    "    print(x,y)\n",
    "    total += y.estD\n",
    "\n",
    "print(f'Total: {total}')"
   ]
  },
  {
   "cell_type": "markdown",
   "id": "3f2b31e2",
   "metadata": {},
   "source": [
    "Okay, it seems to be working fine, but as we discussed, will be quite slow. Let us see if we can work on the faster version of the code as:"
   ]
  },
  {
   "cell_type": "code",
   "execution_count": 22,
   "id": "e32585d1",
   "metadata": {},
   "outputs": [],
   "source": [
    "def prim(G,w):\n",
    "    \n",
    "    for v in G.vertices:\n",
    "        v.estD = np.inf\n",
    "    \n",
    "    w.estD = 0\n",
    "    MST = []\n",
    "    unvisitedVertices = heapdict.heapdict()\n",
    "    \n",
    "    for v in G.vertices:\n",
    "        unvisitedVertices[v] = v.estD\n",
    "    \n",
    "    while len(unvisitedVertices) > 0:\n",
    "        \n",
    "        # find the u with the minimum estD, using the heap\n",
    "        u, dist = unvisitedVertices.popitem() \n",
    "        if u.estD == np.inf:\n",
    "            # then there is nothing more that I can reach; this shouldn't happen if the graph is connected\n",
    "            return \"Graph disconnected :(\"\n",
    "        \n",
    "        # add u to the MST\n",
    "        if u.parent != None:  # don't do it for the first vertex\n",
    "            MST.append((u.parent,u))\n",
    "        \n",
    "        # update u's neighbors\n",
    "        for v,wt in u.getOutNeighborsWithWeights():\n",
    "            if v in unvisitedVertices:\n",
    "                if wt < v.estD:\n",
    "                    v.estD = wt\n",
    "                    unvisitedVertices[v] =  wt #update the key in the heapdict\n",
    "                    v.parent = u # v points to u now\n",
    "                    \n",
    "    return MST"
   ]
  },
  {
   "cell_type": "code",
   "execution_count": 23,
   "id": "e6c07571",
   "metadata": {},
   "outputs": [
    {
     "name": "stdout",
     "output_type": "stream",
     "text": [
      "A B\n",
      "B C\n",
      "C I\n",
      "C F\n",
      "F G\n",
      "G H\n",
      "C D\n",
      "D E\n",
      "Total: 37\n"
     ]
    }
   ],
   "source": [
    "T = prim(G, G.vertices[0])\n",
    "\n",
    "total = 0\n",
    "for x,y in T:\n",
    "    print(x,y)\n",
    "    total += y.estD\n",
    "print(f'Total: {total}')"
   ]
  },
  {
   "cell_type": "code",
   "execution_count": 24,
   "id": "8fd42b8b",
   "metadata": {
    "scrolled": false
   },
   "outputs": [
    {
     "name": "stdout",
     "output_type": "stream",
     "text": [
      "Test No. 1, Function: slowPrim, Time: 7.96875\n",
      "Total: inf\n",
      "\n",
      "\n",
      "Test No. 2, Function: prim, Time: 0.03125\n",
      "Total: 13129\n",
      "\n",
      "\n",
      "Test No. 3, Function: slowPrim, Time: 7.953125\n",
      "Total: 13129\n",
      "\n",
      "\n",
      "Test No. 4, Function: prim, Time: 0.046875\n",
      "Total: 13129\n",
      "\n",
      "\n"
     ]
    }
   ],
   "source": [
    "# PRIM TIME COMPARISON\n",
    "from time import process_time\n",
    "import random\n",
    "\n",
    "G2 = Graph()\n",
    "\n",
    "for i in range(0,1000):\n",
    "    G2.addVertex( Node(i) )\n",
    "\n",
    "V2 = G2.vertices\n",
    "\n",
    "for idx in range(1,1000):\n",
    "    G2.addBiEdge( V2[idx-1], V2[idx], random.randint(1, 45) )\n",
    "    G2.addBiEdge( V2[random.randint(4, 950)], V2[random.randint(4, 950)], random.randint(1, 45) )\n",
    "    \n",
    "# --\n",
    "\n",
    "#display(display_graph(G))\n",
    "\n",
    "test_number = 1\n",
    "\n",
    "# - Test -\n",
    "start = process_time()\n",
    "\n",
    "T = slowPrim(G2, G2.vertices[0])\n",
    "\n",
    "end = process_time() - start\n",
    "print('Test No. {}, Function: {}, Time: {}'.format(test_number, 'slowPrim', end))\n",
    "\n",
    "total = 0\n",
    "for x,y in T:\n",
    "    #print(x,y)\n",
    "    total += y.estD\n",
    "print(f'Total: {total}')\n",
    "\n",
    "print('\\n')\n",
    "\n",
    "test_number += 1\n",
    "\n",
    "\n",
    "# - Test -\n",
    "start = process_time()\n",
    "\n",
    "T = prim(G2, G2.vertices[0])\n",
    "\n",
    "end = process_time() - start\n",
    "print('Test No. {}, Function: {}, Time: {}'.format(test_number, 'prim', end))\n",
    "\n",
    "total = 0\n",
    "for x,y in T:\n",
    "    #print(x,y)\n",
    "    total += y.estD\n",
    "print(f'Total: {total}')\n",
    "\n",
    "print('\\n')\n",
    "\n",
    "test_number += 1\n",
    "\n",
    "\n",
    "# - Test -\n",
    "start = process_time()\n",
    "\n",
    "T = slowPrim(G2, G2.vertices[0])\n",
    "\n",
    "end = process_time() - start\n",
    "print('Test No. {}, Function: {}, Time: {}'.format(test_number, 'slowPrim', end))\n",
    "\n",
    "total = 0\n",
    "for x,y in T:\n",
    "    #print(x,y)\n",
    "    total += y.estD\n",
    "print(f'Total: {total}')\n",
    "\n",
    "print('\\n')\n",
    "\n",
    "test_number += 1\n",
    "\n",
    "\n",
    "# - Test -\n",
    "start = process_time()\n",
    "\n",
    "T = prim(G2, G2.vertices[0])\n",
    "\n",
    "end = process_time() - start\n",
    "print('Test No. {}, Function: {}, Time: {}'.format(test_number, 'prim', end))\n",
    "\n",
    "total = 0\n",
    "for x,y in T:\n",
    "    #print(x,y)\n",
    "    total += y.estD\n",
    "print(f'Total: {total}')\n",
    "\n",
    "print('\\n')\n",
    "\n",
    "test_number += 1\n",
    "\n",
    "\n",
    "\n",
    "\n",
    "\n"
   ]
  },
  {
   "cell_type": "markdown",
   "id": "cc0f5215",
   "metadata": {},
   "source": [
    "***"
   ]
  },
  {
   "cell_type": "markdown",
   "id": "42212e3d",
   "metadata": {},
   "source": [
    "### <font color='red'> Section 5: In lights of Prim's Algorithm that you developed above, make your best effort to implement Kruskal's Algorithm. </font>"
   ]
  },
  {
   "cell_type": "code",
   "execution_count": 25,
   "id": "a76173b7",
   "metadata": {
    "scrolled": false
   },
   "outputs": [
    {
     "name": "stdout",
     "output_type": "stream",
     "text": [
      "Total: 30\n"
     ]
    },
    {
     "data": {
      "image/svg+xml": [
       "<?xml version=\"1.0\" encoding=\"UTF-8\" standalone=\"no\"?>\r\n",
       "<!DOCTYPE svg PUBLIC \"-//W3C//DTD SVG 1.1//EN\"\r\n",
       " \"http://www.w3.org/Graphics/SVG/1.1/DTD/svg11.dtd\">\r\n",
       "<!-- Generated by graphviz version 2.38.0 (20140413.2041)\r\n",
       " -->\r\n",
       "<!-- Title: %3 Pages: 1 -->\r\n",
       "<svg width=\"268pt\" height=\"740pt\"\r\n",
       " viewBox=\"0.00 0.00 268.00 740.00\" xmlns=\"http://www.w3.org/2000/svg\" xmlns:xlink=\"http://www.w3.org/1999/xlink\">\r\n",
       "<g id=\"graph0\" class=\"graph\" transform=\"scale(1 1) rotate(0) translate(4 736)\">\r\n",
       "<title>%3</title>\r\n",
       "<polygon fill=\"white\" stroke=\"none\" points=\"-4,4 -4,-736 264,-736 264,4 -4,4\"/>\r\n",
       "<!-- A -->\r\n",
       "<g id=\"node1\" class=\"node\"><title>A</title>\r\n",
       "<ellipse fill=\"none\" stroke=\"black\" cx=\"27\" cy=\"-714\" rx=\"27\" ry=\"18\"/>\r\n",
       "<text text-anchor=\"middle\" x=\"27\" y=\"-710.3\" font-family=\"Times New Roman,serif\" font-size=\"14.00\">A</text>\r\n",
       "</g>\r\n",
       "<!-- B -->\r\n",
       "<g id=\"node2\" class=\"node\"><title>B</title>\r\n",
       "<ellipse fill=\"none\" stroke=\"black\" cx=\"60\" cy=\"-627\" rx=\"27\" ry=\"18\"/>\r\n",
       "<text text-anchor=\"middle\" x=\"60\" y=\"-623.3\" font-family=\"Times New Roman,serif\" font-size=\"14.00\">B</text>\r\n",
       "</g>\r\n",
       "<!-- A&#45;&gt;B -->\r\n",
       "<g id=\"edge1\" class=\"edge\"><title>A&#45;&gt;B</title>\r\n",
       "<path fill=\"none\" stroke=\"black\" d=\"M33.5197,-696.207C38.1751,-684.216 44.5284,-667.851 49.8449,-654.157\"/>\r\n",
       "<polygon fill=\"black\" stroke=\"black\" points=\"53.1373,-655.347 53.4938,-644.758 46.6118,-652.814 53.1373,-655.347\"/>\r\n",
       "<text text-anchor=\"middle\" x=\"48.5\" y=\"-666.8\" font-family=\"Times New Roman,serif\" font-size=\"14.00\">4</text>\r\n",
       "</g>\r\n",
       "<!-- H -->\r\n",
       "<g id=\"node3\" class=\"node\"><title>H</title>\r\n",
       "<ellipse fill=\"none\" stroke=\"black\" cx=\"53\" cy=\"-105\" rx=\"27\" ry=\"18\"/>\r\n",
       "<text text-anchor=\"middle\" x=\"53\" y=\"-101.3\" font-family=\"Times New Roman,serif\" font-size=\"14.00\">H</text>\r\n",
       "</g>\r\n",
       "<!-- A&#45;&gt;H -->\r\n",
       "<g id=\"edge2\" class=\"edge\"><title>A&#45;&gt;H</title>\r\n",
       "<path fill=\"none\" stroke=\"black\" d=\"M20.0391,-696.395C13.5938,-679.495 5,-652.389 5,-628 5,-628 5,-628 5,-191 5,-167.476 19.1114,-144.473 32.0316,-128.342\"/>\r\n",
       "<polygon fill=\"black\" stroke=\"black\" points=\"34.8202,-130.464 38.5984,-120.566 29.4722,-125.948 34.8202,-130.464\"/>\r\n",
       "<text text-anchor=\"middle\" x=\"8.5\" y=\"-405.8\" font-family=\"Times New Roman,serif\" font-size=\"14.00\">8</text>\r\n",
       "</g>\r\n",
       "<!-- B&#45;&gt;H -->\r\n",
       "<g id=\"edge3\" class=\"edge\"><title>B&#45;&gt;H</title>\r\n",
       "<path fill=\"none\" stroke=\"black\" d=\"M57.1028,-608.8C54.4718,-591.67 51,-564.595 51,-541 51,-541 51,-541 51,-191 51,-171.747 51.5192,-150.048 52.0285,-133.393\"/>\r\n",
       "<polygon fill=\"black\" stroke=\"black\" points=\"55.5312,-133.362 52.3562,-123.254 48.5349,-133.135 55.5312,-133.362\"/>\r\n",
       "<text text-anchor=\"middle\" x=\"58\" y=\"-362.3\" font-family=\"Times New Roman,serif\" font-size=\"14.00\">11</text>\r\n",
       "</g>\r\n",
       "<!-- C -->\r\n",
       "<g id=\"node4\" class=\"node\"><title>C</title>\r\n",
       "<ellipse fill=\"none\" stroke=\"black\" cx=\"122\" cy=\"-540\" rx=\"27\" ry=\"18\"/>\r\n",
       "<text text-anchor=\"middle\" x=\"122\" y=\"-536.3\" font-family=\"Times New Roman,serif\" font-size=\"14.00\">C</text>\r\n",
       "</g>\r\n",
       "<!-- B&#45;&gt;C -->\r\n",
       "<g id=\"edge4\" class=\"edge\"><title>B&#45;&gt;C</title>\r\n",
       "<path fill=\"none\" stroke=\"black\" d=\"M71.3718,-610.41C80.7232,-597.589 94.1229,-579.219 104.788,-564.597\"/>\r\n",
       "<polygon fill=\"black\" stroke=\"black\" points=\"107.635,-566.633 110.7,-556.491 101.98,-562.508 107.635,-566.633\"/>\r\n",
       "<text text-anchor=\"middle\" x=\"97.5\" y=\"-579.8\" font-family=\"Times New Roman,serif\" font-size=\"14.00\">8</text>\r\n",
       "</g>\r\n",
       "<!-- I -->\r\n",
       "<g id=\"node7\" class=\"node\"><title>I</title>\r\n",
       "<ellipse fill=\"none\" stroke=\"black\" cx=\"118\" cy=\"-18\" rx=\"27\" ry=\"18\"/>\r\n",
       "<text text-anchor=\"middle\" x=\"118\" y=\"-14.3\" font-family=\"Times New Roman,serif\" font-size=\"14.00\">I</text>\r\n",
       "</g>\r\n",
       "<!-- H&#45;&gt;I -->\r\n",
       "<g id=\"edge14\" class=\"edge\"><title>H&#45;&gt;I</title>\r\n",
       "<path fill=\"none\" stroke=\"black\" d=\"M64.922,-88.4097C74.726,-75.5891 88.774,-57.2186 99.9553,-42.597\"/>\r\n",
       "<polygon fill=\"black\" stroke=\"black\" points=\"102.859,-44.5612 106.154,-34.4915 97.2988,-40.309 102.859,-44.5612\"/>\r\n",
       "<text text-anchor=\"middle\" x=\"92.5\" y=\"-57.8\" font-family=\"Times New Roman,serif\" font-size=\"14.00\">7</text>\r\n",
       "</g>\r\n",
       "<!-- D -->\r\n",
       "<g id=\"node5\" class=\"node\"><title>D</title>\r\n",
       "<ellipse fill=\"none\" stroke=\"black\" cx=\"148\" cy=\"-453\" rx=\"27\" ry=\"18\"/>\r\n",
       "<text text-anchor=\"middle\" x=\"148\" y=\"-449.3\" font-family=\"Times New Roman,serif\" font-size=\"14.00\">D</text>\r\n",
       "</g>\r\n",
       "<!-- C&#45;&gt;D -->\r\n",
       "<g id=\"edge5\" class=\"edge\"><title>C&#45;&gt;D</title>\r\n",
       "<path fill=\"none\" stroke=\"black\" d=\"M127.137,-522.207C130.769,-510.332 135.713,-494.168 139.877,-480.557\"/>\r\n",
       "<polygon fill=\"black\" stroke=\"black\" points=\"143.296,-481.345 142.874,-470.758 136.602,-479.297 143.296,-481.345\"/>\r\n",
       "<text text-anchor=\"middle\" x=\"139.5\" y=\"-492.8\" font-family=\"Times New Roman,serif\" font-size=\"14.00\">7</text>\r\n",
       "</g>\r\n",
       "<!-- F -->\r\n",
       "<g id=\"node6\" class=\"node\"><title>F</title>\r\n",
       "<ellipse fill=\"none\" stroke=\"black\" cx=\"127\" cy=\"-279\" rx=\"27\" ry=\"18\"/>\r\n",
       "<text text-anchor=\"middle\" x=\"127\" y=\"-275.3\" font-family=\"Times New Roman,serif\" font-size=\"14.00\">F</text>\r\n",
       "</g>\r\n",
       "<!-- C&#45;&gt;F -->\r\n",
       "<g id=\"edge6\" class=\"edge\"><title>C&#45;&gt;F</title>\r\n",
       "<path fill=\"none\" stroke=\"black\" d=\"M118.801,-522.029C116.387,-508.319 113.279,-488.494 112,-471 107.727,-412.577 116.432,-344.143 122.281,-307.122\"/>\r\n",
       "<polygon fill=\"black\" stroke=\"black\" points=\"125.758,-307.55 123.915,-297.117 118.849,-306.422 125.758,-307.55\"/>\r\n",
       "<text text-anchor=\"middle\" x=\"114.5\" y=\"-405.8\" font-family=\"Times New Roman,serif\" font-size=\"14.00\">4</text>\r\n",
       "</g>\r\n",
       "<!-- C&#45;&gt;I -->\r\n",
       "<g id=\"edge7\" class=\"edge\"><title>C&#45;&gt;I</title>\r\n",
       "<path fill=\"none\" stroke=\"black\" d=\"M147.881,-534.31C186.059,-525.73 253,-503.613 253,-454 253,-454 253,-454 253,-104 253,-57.1197 193.981,-35.0733 153.989,-25.5157\"/>\r\n",
       "<polygon fill=\"black\" stroke=\"black\" points=\"154.551,-22.0552 144.029,-23.2955 153.028,-28.8875 154.551,-22.0552\"/>\r\n",
       "<text text-anchor=\"middle\" x=\"256.5\" y=\"-275.3\" font-family=\"Times New Roman,serif\" font-size=\"14.00\">2</text>\r\n",
       "</g>\r\n",
       "<!-- D&#45;&gt;F -->\r\n",
       "<g id=\"edge9\" class=\"edge\"><title>D&#45;&gt;F</title>\r\n",
       "<path fill=\"none\" stroke=\"black\" d=\"M145.91,-434.879C142.262,-405.001 134.706,-343.113 130.33,-307.274\"/>\r\n",
       "<polygon fill=\"black\" stroke=\"black\" points=\"133.768,-306.554 129.082,-297.052 126.82,-307.402 133.768,-306.554\"/>\r\n",
       "<text text-anchor=\"middle\" x=\"146\" y=\"-362.3\" font-family=\"Times New Roman,serif\" font-size=\"14.00\">14</text>\r\n",
       "</g>\r\n",
       "<!-- E -->\r\n",
       "<g id=\"node8\" class=\"node\"><title>E</title>\r\n",
       "<ellipse fill=\"none\" stroke=\"black\" cx=\"198\" cy=\"-366\" rx=\"27\" ry=\"18\"/>\r\n",
       "<text text-anchor=\"middle\" x=\"198\" y=\"-362.3\" font-family=\"Times New Roman,serif\" font-size=\"14.00\">E</text>\r\n",
       "</g>\r\n",
       "<!-- D&#45;&gt;E -->\r\n",
       "<g id=\"edge8\" class=\"edge\"><title>D&#45;&gt;E</title>\r\n",
       "<path fill=\"none\" stroke=\"black\" d=\"M157.405,-436.012C164.738,-423.546 175.051,-406.013 183.447,-391.739\"/>\r\n",
       "<polygon fill=\"black\" stroke=\"black\" points=\"186.584,-393.31 188.638,-382.916 180.551,-389.761 186.584,-393.31\"/>\r\n",
       "<text text-anchor=\"middle\" x=\"178.5\" y=\"-405.8\" font-family=\"Times New Roman,serif\" font-size=\"14.00\">9</text>\r\n",
       "</g>\r\n",
       "<!-- G -->\r\n",
       "<g id=\"node9\" class=\"node\"><title>G</title>\r\n",
       "<ellipse fill=\"none\" stroke=\"black\" cx=\"118\" cy=\"-192\" rx=\"27\" ry=\"18\"/>\r\n",
       "<text text-anchor=\"middle\" x=\"118\" y=\"-188.3\" font-family=\"Times New Roman,serif\" font-size=\"14.00\">G</text>\r\n",
       "</g>\r\n",
       "<!-- F&#45;&gt;G -->\r\n",
       "<g id=\"edge11\" class=\"edge\"><title>F&#45;&gt;G</title>\r\n",
       "<path fill=\"none\" stroke=\"black\" d=\"M125.179,-260.799C123.947,-249.163 122.293,-233.548 120.884,-220.237\"/>\r\n",
       "<polygon fill=\"black\" stroke=\"black\" points=\"124.352,-219.751 119.819,-210.175 117.391,-220.488 124.352,-219.751\"/>\r\n",
       "<text text-anchor=\"middle\" x=\"126.5\" y=\"-231.8\" font-family=\"Times New Roman,serif\" font-size=\"14.00\">2</text>\r\n",
       "</g>\r\n",
       "<!-- E&#45;&gt;F -->\r\n",
       "<g id=\"edge10\" class=\"edge\"><title>E&#45;&gt;F</title>\r\n",
       "<path fill=\"none\" stroke=\"black\" d=\"M185.307,-349.804C174.403,-336.75 158.52,-317.735 146.084,-302.847\"/>\r\n",
       "<polygon fill=\"black\" stroke=\"black\" points=\"148.68,-300.496 139.583,-295.065 143.308,-304.983 148.68,-300.496\"/>\r\n",
       "<text text-anchor=\"middle\" x=\"173\" y=\"-318.8\" font-family=\"Times New Roman,serif\" font-size=\"14.00\">10</text>\r\n",
       "</g>\r\n",
       "<!-- G&#45;&gt;H -->\r\n",
       "<g id=\"edge12\" class=\"edge\"><title>G&#45;&gt;H</title>\r\n",
       "<path fill=\"none\" stroke=\"black\" d=\"M106.078,-175.41C96.274,-162.589 82.226,-144.219 71.0447,-129.597\"/>\r\n",
       "<polygon fill=\"black\" stroke=\"black\" points=\"73.7012,-127.309 64.8464,-121.491 68.1407,-131.561 73.7012,-127.309\"/>\r\n",
       "<text text-anchor=\"middle\" x=\"92.5\" y=\"-144.8\" font-family=\"Times New Roman,serif\" font-size=\"14.00\">1</text>\r\n",
       "</g>\r\n",
       "<!-- G&#45;&gt;I -->\r\n",
       "<g id=\"edge13\" class=\"edge\"><title>G&#45;&gt;I</title>\r\n",
       "<path fill=\"none\" stroke=\"black\" d=\"M118,-173.879C118,-144.001 118,-82.1129 118,-46.2736\"/>\r\n",
       "<polygon fill=\"black\" stroke=\"black\" points=\"121.5,-46.0516 118,-36.0516 114.5,-46.0516 121.5,-46.0516\"/>\r\n",
       "<text text-anchor=\"middle\" x=\"121.5\" y=\"-101.3\" font-family=\"Times New Roman,serif\" font-size=\"14.00\">6</text>\r\n",
       "</g>\r\n",
       "</g>\r\n",
       "</svg>\r\n"
      ],
      "text/plain": [
       "<graphviz.dot.Digraph at 0x1ea7642bbe0>"
      ]
     },
     "metadata": {},
     "output_type": "display_data"
    }
   ],
   "source": [
    "#### TODO ####\n",
    "### Good Luck ###\n",
    "\n",
    "#Kruskal\n",
    "\n",
    "\n",
    "class mst_set:\n",
    "    \n",
    "    set_ = {}\n",
    "\n",
    "    def __init__(self, G):\n",
    "        for vert in G.vertices:\n",
    "            self.set_[str(vert)] = vert\n",
    "        return\n",
    "\n",
    "    # Keep looking until you get root, which in a set for v is v\n",
    "    def find(self, v):\n",
    "        #if v.parent == v:\n",
    "        #    return v\n",
    "        #return find(v.parent)\n",
    "        if self.set_[str(v)] == v:\n",
    "            return v\n",
    "        return self.find(self.set_[str(v)])\n",
    "\n",
    "    # Make on of them the root parent of the other\n",
    "    def union(self, a, b):\n",
    "        a_ = self.find(str(a))\n",
    "        b_ = self.find(str(b))\n",
    "        self.set_[str(a_)] = b_\n",
    "        return\n",
    "\n",
    "def kruskal(G):\n",
    "    \n",
    "    # Sort edges based on out nabour edge wights\n",
    "    #NOTE: G.getDirEdges()[0] - > [<graph.Node object at 0x000001D6F2595D00>, (<graph.Node object at 0x000001D6F2595C10>, 4)]\n",
    "    edges = sorted(G.getDirEdges(), key=lambda node: node[1][1], reverse=False)\n",
    "    \n",
    "    vertices = G.vertices\n",
    "    MST = []\n",
    "    MST_str = []\n",
    "    \n",
    "    set_ = mst_set(G)\n",
    "    \n",
    "    \n",
    "    \n",
    "    # Make set\n",
    "    #for vert in vertices:\n",
    "    #    MST[vert.value] = {}\n",
    "    #for vert in vertices:\n",
    "    #    vert.parent = vert\n",
    "    \n",
    "    #print(MST)\n",
    "    for u, v in edges:\n",
    "        #if not v[0].value in MST[u.value] and not u.value in MST[v[0].value]:\n",
    "        #if not v[0].value in MST[u.value]:\n",
    "        x, y = set_.find(u), set_.find(v[0])\n",
    "        if set_.find(u) != set_.find(v[0]): \n",
    "            #MST[u.value] = MST.pop(v[0].value,{})\n",
    "            #MST[v[0].value] = {u.value}\n",
    "            #for x in v[0].value:\n",
    "            #    MST[u.value][x] = True\n",
    "            #for x in u.value:\n",
    "            #    MST[v[0].value][x] = True\n",
    "            #KEK[u.value] = v[0].value\n",
    "            # --- ADD TO LIST\n",
    "            #MST_str.append((u.value, v[0].value))\n",
    "            MST.append((u, v[0]))\n",
    "            # COMBINE A INTO --> B by setting a root as b\n",
    "            set_.union(u, v[0])\n",
    "            #set_.union(x,y)\n",
    "            \n",
    "    \n",
    "    return MST\n",
    "\n",
    "MST = kruskal(G)\n",
    "\n",
    "#print(MST)\n",
    "\n",
    "total = 0\n",
    "for x,y in MST:\n",
    "    #print(x,y)\n",
    "    total += y.estD\n",
    "print(f'Total: {total}')\n",
    "\n",
    "display(display_graph(G))"
   ]
  },
  {
   "cell_type": "markdown",
   "id": "2bf31c0a",
   "metadata": {},
   "source": [
    "### Demo example\n",
    "\n",
    "## [('G', 'H'), ('C', 'I'), ('F', 'G'), ('A', 'B'), ('C', 'F'), ('C', 'D'), ('A', 'H'), ('D', 'E')]\n",
    "\n",
    "![Example](eg_1.png)"
   ]
  },
  {
   "cell_type": "code",
   "execution_count": 26,
   "id": "6d095ac6",
   "metadata": {},
   "outputs": [
    {
     "name": "stdout",
     "output_type": "stream",
     "text": [
      "Test No. 1, Function: slowPrim, Time: 7.921875\n",
      "Total: 13129\n",
      "\n",
      "\n",
      "Test No. 2, Function: prim, Time: 0.046875\n",
      "Total: 13129\n",
      "\n",
      "\n",
      "Test No. 3, Function: kruskal, Time: 0.796875\n",
      "Total: 11791\n",
      "\n",
      "\n",
      "Test No. 4, Function: prim, Time: 0.03125\n",
      "Total: 13129\n",
      "\n",
      "\n",
      "Test No. 5, Function: kruskal, Time: 0.8125\n",
      "Total: 11791\n",
      "\n",
      "\n"
     ]
    }
   ],
   "source": [
    "test_number = 1\n",
    "\n",
    "# - Test -\n",
    "start = process_time()\n",
    "\n",
    "T = slowPrim(G2, G2.vertices[0])\n",
    "\n",
    "end = process_time() - start\n",
    "print('Test No. {}, Function: {}, Time: {}'.format(test_number, 'slowPrim', end))\n",
    "\n",
    "total = 0\n",
    "for x,y in T:\n",
    "    #print(x,y)\n",
    "    total += y.estD\n",
    "print(f'Total: {total}')\n",
    "\n",
    "print('\\n')\n",
    "\n",
    "test_number += 1\n",
    "\n",
    "\n",
    "# - Test -\n",
    "start = process_time()\n",
    "\n",
    "T = prim(G2, G2.vertices[0])\n",
    "\n",
    "end = process_time() - start\n",
    "print('Test No. {}, Function: {}, Time: {}'.format(test_number, 'prim', end))\n",
    "\n",
    "total = 0\n",
    "for x,y in T:\n",
    "    #print(x,y)\n",
    "    total += y.estD\n",
    "print(f'Total: {total}')\n",
    "\n",
    "print('\\n')\n",
    "\n",
    "test_number += 1\n",
    "\n",
    "\n",
    "# - Test -\n",
    "start = process_time()\n",
    "\n",
    "T = kruskal(G2)\n",
    "\n",
    "end = process_time() - start\n",
    "print('Test No. {}, Function: {}, Time: {}'.format(test_number, 'kruskal', end))\n",
    "\n",
    "total = 0\n",
    "for x,y in T:\n",
    "    #print(x,y)\n",
    "    total += y.estD\n",
    "print(f'Total: {total}')\n",
    "\n",
    "print('\\n')\n",
    "\n",
    "test_number += 1\n",
    "\n",
    "# - Test -\n",
    "start = process_time()\n",
    "\n",
    "T = prim(G2, G2.vertices[0])\n",
    "\n",
    "end = process_time() - start\n",
    "print('Test No. {}, Function: {}, Time: {}'.format(test_number, 'prim', end))\n",
    "\n",
    "total = 0\n",
    "for x,y in T:\n",
    "    #print(x,y)\n",
    "    total += y.estD\n",
    "print(f'Total: {total}')\n",
    "\n",
    "print('\\n')\n",
    "\n",
    "test_number += 1\n",
    "\n",
    "\n",
    "# - Test -\n",
    "start = process_time()\n",
    "\n",
    "T = kruskal(G2)\n",
    "\n",
    "end = process_time() - start\n",
    "print('Test No. {}, Function: {}, Time: {}'.format(test_number, 'kruskal', end))\n",
    "\n",
    "total = 0\n",
    "for x,y in T:\n",
    "    #print(x,y)\n",
    "    total += y.estD\n",
    "print(f'Total: {total}')\n",
    "\n",
    "print('\\n')\n",
    "\n",
    "test_number += 1\n",
    "\n"
   ]
  },
  {
   "cell_type": "code",
   "execution_count": 27,
   "id": "10d3fb09",
   "metadata": {},
   "outputs": [
    {
     "data": {
      "text/plain": [
       "'\\n\\n# Make set\\n    #for vert in vertices:\\n    #    MST[vert.value] = {}\\n    #for vert in vertices:\\n    #    vert.parent = vert\\n    \\n    #print(MST)\\n    for u, v in edges:\\n        #if not v[0].value in MST[u.value] and not u.value in MST[v[0].value]:\\n        #if not v[0].value in MST[u.value]:\\n        x, y = set_.find(u), set_.find(v[0])\\n        if set_.find(u) != set_.find(v[0]): \\n            #MST[u.value] = MST.pop(v[0].value,{})\\n            #MST[v[0].value] = {u.value}\\n            #for x in v[0].value:\\n            #    MST[u.value][x] = True\\n            #for x in u.value:\\n            #    MST[v[0].value][x] = True\\n            #KEK[u.value] = v[0].value\\n            MST.append((u.value, v[0].value))\\n            #set_.union(u, v[0])\\n            set_.union(x,y)\\n\\n'"
      ]
     },
     "execution_count": 27,
     "metadata": {},
     "output_type": "execute_result"
    }
   ],
   "source": [
    "# Scraps\n",
    "\n",
    "\n",
    "'''\n",
    "\n",
    "# Make set\n",
    "    #for vert in vertices:\n",
    "    #    MST[vert.value] = {}\n",
    "    #for vert in vertices:\n",
    "    #    vert.parent = vert\n",
    "    \n",
    "    #print(MST)\n",
    "    for u, v in edges:\n",
    "        #if not v[0].value in MST[u.value] and not u.value in MST[v[0].value]:\n",
    "        #if not v[0].value in MST[u.value]:\n",
    "        x, y = set_.find(u), set_.find(v[0])\n",
    "        if set_.find(u) != set_.find(v[0]): \n",
    "            #MST[u.value] = MST.pop(v[0].value,{})\n",
    "            #MST[v[0].value] = {u.value}\n",
    "            #for x in v[0].value:\n",
    "            #    MST[u.value][x] = True\n",
    "            #for x in u.value:\n",
    "            #    MST[v[0].value][x] = True\n",
    "            #KEK[u.value] = v[0].value\n",
    "            MST.append((u.value, v[0].value))\n",
    "            #set_.union(u, v[0])\n",
    "            set_.union(x,y)\n",
    "\n",
    "'''"
   ]
  },
  {
   "cell_type": "markdown",
   "id": "79cfe7ab",
   "metadata": {},
   "source": [
    "***"
   ]
  }
 ],
 "metadata": {
  "kernelspec": {
   "display_name": "Python 3 (ipykernel)",
   "language": "python",
   "name": "python3"
  },
  "language_info": {
   "codemirror_mode": {
    "name": "ipython",
    "version": 3
   },
   "file_extension": ".py",
   "mimetype": "text/x-python",
   "name": "python",
   "nbconvert_exporter": "python",
   "pygments_lexer": "ipython3",
   "version": "3.9.6"
  }
 },
 "nbformat": 4,
 "nbformat_minor": 5
}
