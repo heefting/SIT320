{
 "cells": [
  {
   "cell_type": "markdown",
   "id": "29957727",
   "metadata": {},
   "source": [
    "# Lab 4a: Dynamic Programming"
   ]
  },
  {
   "cell_type": "markdown",
   "id": "a42610f6",
   "metadata": {},
   "source": [
    "Lab associated with Module 4a: Dynamic Programming"
   ]
  },
  {
   "cell_type": "markdown",
   "id": "30e3ca74",
   "metadata": {},
   "source": [
    "***"
   ]
  },
  {
   "cell_type": "code",
   "execution_count": 1,
   "id": "6988f82d",
   "metadata": {},
   "outputs": [
    {
     "data": {
      "text/html": [
       "<style>.container { width:95% !important; }</style>"
      ],
      "text/plain": [
       "<IPython.core.display.HTML object>"
      ]
     },
     "metadata": {},
     "output_type": "display_data"
    }
   ],
   "source": [
    "# The following lines are used to increase the width of cells to utilize more space on the screen \n",
    "from IPython.core.display import display, HTML\n",
    "display(HTML(\"<style>.container { width:95% !important; }</style>\"))"
   ]
  },
  {
   "cell_type": "markdown",
   "id": "5f49ca93",
   "metadata": {},
   "source": [
    "***"
   ]
  },
  {
   "cell_type": "markdown",
   "id": "b63af3b9",
   "metadata": {},
   "source": [
    "### Section 0: Imports"
   ]
  },
  {
   "cell_type": "code",
   "execution_count": 2,
   "id": "ca94d5e8",
   "metadata": {},
   "outputs": [],
   "source": [
    "import numpy as np"
   ]
  },
  {
   "cell_type": "code",
   "execution_count": 3,
   "id": "dde21c05",
   "metadata": {},
   "outputs": [],
   "source": [
    "import math"
   ]
  },
  {
   "cell_type": "code",
   "execution_count": 4,
   "id": "446f2544",
   "metadata": {},
   "outputs": [],
   "source": [
    "from IPython.display import Image\n",
    "from graphviz import Digraph"
   ]
  },
  {
   "cell_type": "markdown",
   "id": "d4e58d25",
   "metadata": {},
   "source": [
    "Details of Digraph package: https://h1ros.github.io/posts/introduction-to-graphviz-in-jupyter-notebook/"
   ]
  },
  {
   "cell_type": "markdown",
   "id": "d0a8e746",
   "metadata": {},
   "source": [
    "***"
   ]
  },
  {
   "cell_type": "markdown",
   "id": "f16fd1d9",
   "metadata": {},
   "source": [
    "### <font color='red'> Section 1a: Implement a solution for finding Longest Common Subsequence problem. You should test your program against multiple test cases. </font>"
   ]
  },
  {
   "cell_type": "code",
   "execution_count": 5,
   "id": "e4b16e31",
   "metadata": {},
   "outputs": [],
   "source": [
    "### TODO ###\n",
    "### Good Luck ###\n",
    "\n",
    "def LCS(x, y):\n",
    "    # Init\n",
    "    m, n = len(x) + 1,len(y) + 1\n",
    "    c = np.zeros((m, n))\n",
    "    for i in range(m):\n",
    "        c[i,0] = 0\n",
    "    for j in range(n):\n",
    "        c[0,j] = 0\n",
    "    \n",
    "    # LCS\n",
    "    for i in range(1,m):\n",
    "        for j in range(1,n):\n",
    "            if x[i-1] == y[j-1]:\n",
    "                c[i,j] = c[i-1,j-1] + 1\n",
    "            else:\n",
    "                c[i,j] = max(c[i,j-1], c[i-1,j])\n",
    "    return (c[m-1,n-1], c)\n",
    "\n",
    "\n",
    "def print_output(c, x, y, i, j):\n",
    "    if i == 0 or j == 0:\n",
    "        return ''\n",
    "    if x[i-1] == y[j-1]:\n",
    "        return print_output(c, x, y, i-1, j-1) + x[i-1]\n",
    "    elif c[i-1,j] > c[i,j-1]:#y\n",
    "        return print_output(c, x, y, i-1, j)\n",
    "    else:#x\n",
    "        return print_output(c, x, y, i, j-1)\n",
    "\n",
    "\n",
    "\n"
   ]
  },
  {
   "cell_type": "code",
   "execution_count": 19,
   "id": "243993f3",
   "metadata": {},
   "outputs": [
    {
     "name": "stdout",
     "output_type": "stream",
     "text": [
      "x: ['a', 'c', 't', 'g'] \n",
      "y: ['a', 'c', 'g', 'g', 'a']\n",
      "\n",
      "----\n",
      "\n",
      "- LCS: \"acg\" - Length: 3.0\n",
      "\n",
      "x|y→\n",
      "↓\n",
      "[[0. 0. 0. 0. 0. 0.]\n",
      " [0. 1. 1. 1. 1. 1.]\n",
      " [0. 1. 2. 2. 2. 2.]\n",
      " [0. 1. 2. 2. 2. 2.]\n",
      " [0. 1. 2. 3. 3. 3.]]\n",
      "x: ['a'] \n",
      "y: ['a', 'a', 'g', 'a', 'c', 'g', 'g', 'g', 'g', 'c', 'a', 'g', 'c', 'g', 'a', 'c', 'g', 'a', 'g', 'c', 'g', 'g', 'e', 'y', 'a', 'c', 'i', 'o', 'q', 'c', 'o', 'n', 'o', 'c', 'q', 'e', '9', 'e', '9', 'h', 'a', 'c', 'g', 'g', 'a']\n",
      "\n",
      "----\n",
      "\n",
      "- LCS: \"a\" - Length: 1.0\n",
      "\n",
      "x|y→\n",
      "↓\n",
      "[[0. 0. 0. 0. 0. 0. 0. 0. 0. 0. 0. 0. 0. 0. 0. 0. 0. 0. 0. 0. 0. 0. 0. 0.\n",
      "  0. 0. 0. 0. 0. 0. 0. 0. 0. 0. 0. 0. 0. 0. 0. 0. 0. 0. 0. 0. 0. 0.]\n",
      " [0. 1. 1. 1. 1. 1. 1. 1. 1. 1. 1. 1. 1. 1. 1. 1. 1. 1. 1. 1. 1. 1. 1. 1.\n",
      "  1. 1. 1. 1. 1. 1. 1. 1. 1. 1. 1. 1. 1. 1. 1. 1. 1. 1. 1. 1. 1. 1.]]\n",
      "x: ['0', 'e', 't', 'j', 'b', 'h', '9', 'n', 'e', 't', '9', '-', 'n', 'j', 'e', 'b', '9', '0', 'n', '0', 'b', 'n', 'e', 'n', 'j', '9', 'b', '9', 'r', 't', 'j', 'e', '0', '9', 'n', 'w', 't', 'g', 'b', 'n', 'j', 'r', 'i', 'u', 'n', 'b', 'g', 'i', 'n', 'j', 'b', 'i', 'n', 't', 'i', 'b', 'n', 't', 'n', '3', 'e', 'w', 'm', 'q', 'g', 'r', 't', '9', '9', 'n', '9', 'f', 'v', 'g', 'n', 'e', 'f', 'b', 'u', 'n', 'i', 'b', 'u', 'n', 'i', 's', 'g', 'n', 'f', 'b', 'i', 'n', 's', 'i', 'h', 'n', 't', 'g', 'i', 'h', 'u', 'e', 'h', 'n', '9', 'u', 't', 'n', 'h'] \n",
      "y: ['9', 'h', 'u', '0', 'w', 'h', 'g', '9', '9', 'r', 'g', 'w', 'r', 'h', 'i', 'b', 'e', 'r', 'n', '9', 'r', 'n', 'b', '0', 't', 'u', '9', '3', '4', 'q', 'n', '0', 'u', 'v', 'n', '8', '9', 'u', 'n', '0', 'v', 'f', 'n', 'w', 'n', 'r', 'f', 'v', 'h', 'i', 'b', 'n', 'i', 'b', 'n', 'r', 'w', 'f', 'i', 'n', 'w', 'i', 'b', 'p', 'r', 'u', 'h', 'q', 'a', 'i', 'u', 'h', '9', 'g', 'h', 'a', 'e', 'i', 'u', 'g', 'f', 'r', 'e']\n",
      "\n",
      "----\n",
      "\n",
      "- LCS: \"9099rgribnnbt3qnvnunibninfinihiuh9h\" - Length: 35.0\n",
      "\n",
      "x|y→\n",
      "↓\n",
      "[[ 0.  0.  0. ...  0.  0.  0.]\n",
      " [ 0.  0.  0. ...  1.  1.  1.]\n",
      " [ 0.  0.  0. ...  2.  2.  2.]\n",
      " ...\n",
      " [ 0.  1.  2. ... 35. 35. 35.]\n",
      " [ 0.  1.  2. ... 35. 35. 35.]\n",
      " [ 0.  1.  2. ... 35. 35. 35.]]\n",
      "x: [] \n",
      "y: []\n",
      "\n",
      "----\n",
      "\n",
      "- LCS: \"\" - Length: 0.0\n",
      "\n",
      "x|y→\n",
      "↓\n",
      "[[0.]]\n",
      "x: ['-', '-', '-', 'a', 'd'] \n",
      "y: ['-', '-']\n",
      "\n",
      "----\n",
      "\n",
      "- LCS: \"--\" - Length: 2.0\n",
      "\n",
      "x|y→\n",
      "↓\n",
      "[[0. 0. 0.]\n",
      " [0. 1. 1.]\n",
      " [0. 1. 2.]\n",
      " [0. 1. 2.]\n",
      " [0. 1. 2.]\n",
      " [0. 1. 2.]]\n"
     ]
    }
   ],
   "source": [
    "\n",
    "# Testing\n",
    "\n",
    "def test_lcs(x_s, y_s):\n",
    "    x, y = [], []\n",
    "    x[:], y[:] = x_s, y_s\n",
    "\n",
    "    print('x: {} \\ny: {}'.format(x,y))\n",
    "\n",
    "\n",
    "    lcs_length, out_matrix = LCS(x,y)\n",
    "    lcs = print_output(out_matrix, x, y, len(x), len(y))\n",
    "\n",
    "    print('\\n----\\n')\n",
    "    print('- LCS: \"{}\" - Length: {}\\n'.format(lcs, lcs_length))\n",
    "    print('x|y→\\n↓')\n",
    "    print(out_matrix)\n",
    "    return\n",
    "# --\n",
    "\n",
    "x_s, y_s = 'actg', 'acgga'\n",
    "test_lcs(x_s, y_s)\n",
    "\n",
    "x_s, y_s = 'a', 'aagacggggcagcgacgagcggeyacioqconocqe9e9hacgga'\n",
    "test_lcs(x_s, y_s)\n",
    "\n",
    "x_s, y_s = '', ''\n",
    "test_lcs(x_s, y_s)\n",
    "\n",
    "x_s, y_s = '---ad', '--'\n",
    "test_lcs(x_s, y_s)\n",
    "\n",
    "x_s, y_s = '0etjbh9net9-njeb90n0bnenj9b9rtje09nwtgbnjriunbginjbintibntn3ewmqgrt99n9fvgnefbunibunisgnfbinsihntgihuehn9utnh', '9hu0whg99rgwrhibern9rnb0tu934qn0uvn89un0vfnwnrfvhibnibnrwfinwibpruhqaiuh9ghaeiugfre'\n",
    "test_lcs(x_s, y_s)\n",
    "\n"
   ]
  },
  {
   "cell_type": "markdown",
   "id": "02dfd035",
   "metadata": {},
   "source": [
    "***"
   ]
  },
  {
   "cell_type": "markdown",
   "id": "d5fb6467",
   "metadata": {},
   "source": [
    "***"
   ]
  },
  {
   "cell_type": "markdown",
   "id": "2a04556e",
   "metadata": {},
   "source": [
    "### Section 2: Unbounded Knapsack Problem"
   ]
  },
  {
   "cell_type": "markdown",
   "id": "491b811a",
   "metadata": {},
   "source": [
    "Let us build a solution to unbounded Knapsack problem."
   ]
  },
  {
   "cell_type": "code",
   "execution_count": 7,
   "id": "106f4563",
   "metadata": {},
   "outputs": [],
   "source": [
    "def unboundedKnapsack(W, n, wt, vals, names):\n",
    " \n",
    "    K = [0 for i in range(W + 1)]\n",
    "    ITEMS = [[] for i in range(W + 1)]\n",
    " \n",
    "    for x in range(1, W + 1):\n",
    "        K[x] = 0\n",
    "        for i in range(1, n):\n",
    "            \n",
    "            prev_k = K[x]\n",
    "            \n",
    "            if (wt[i] <= x):\n",
    "                K[x] = max(K[x], K[x - wt[i]] + vals[i])\n",
    "                \n",
    "            if K[x] != prev_k:\n",
    "                ITEMS[x] = ITEMS[x - wt[i]] + names[i]\n",
    "                \n",
    " \n",
    "    return K[W], ITEMS[W]"
   ]
  },
  {
   "cell_type": "code",
   "execution_count": 8,
   "id": "8ffae1d1",
   "metadata": {},
   "outputs": [
    {
     "name": "stdout",
     "output_type": "stream",
     "text": [
      "We have 3 items\n"
     ]
    }
   ],
   "source": [
    "W = 4\n",
    "wt = [1, 2, 3]\n",
    "vals = [1, 4, 6]\n",
    "names = [[\"Turtle\"], [\"Globe\"], [\"WaterMelon\"]]\n",
    "\n",
    "n = len(vals)\n",
    "\n",
    "print('We have {} items'.format(n))                "
   ]
  },
  {
   "cell_type": "code",
   "execution_count": 9,
   "id": "e5afb693",
   "metadata": {},
   "outputs": [],
   "source": [
    "K, ITEMS = unboundedKnapsack(W, n, wt, vals, names)"
   ]
  },
  {
   "cell_type": "code",
   "execution_count": 10,
   "id": "c479b0e2",
   "metadata": {},
   "outputs": [
    {
     "data": {
      "text/plain": [
       "['Globe', 'Globe']"
      ]
     },
     "execution_count": 10,
     "metadata": {},
     "output_type": "execute_result"
    }
   ],
   "source": [
    "ITEMS"
   ]
  },
  {
   "cell_type": "code",
   "execution_count": null,
   "id": "cf06cad6",
   "metadata": {},
   "outputs": [],
   "source": []
  },
  {
   "cell_type": "markdown",
   "id": "0fc11a17",
   "metadata": {},
   "source": [
    "***"
   ]
  },
  {
   "cell_type": "markdown",
   "id": "d7b0a3c0",
   "metadata": {},
   "source": [
    "### <font color='red'> Section 3: Modify above code to do 0-1 Knapsack instead of un-bounded knapsack. </font>"
   ]
  },
  {
   "cell_type": "code",
   "execution_count": 11,
   "id": "386e975b",
   "metadata": {},
   "outputs": [],
   "source": [
    "#### TODO ####\n",
    "### Good Luck ###\n",
    "\n",
    "def dpKnapsack(W, n, wt, vals, names):\n",
    "\n",
    "    # 2D array for weight values, lxw = Wn\n",
    "    K = [[0 for j in range(W+1)] for i in range(n+1)]\n",
    "    \n",
    "    # c tracks for indecies that corrispond to items, it is a 2d array with arrays within it for the lists of items\n",
    "    c = [[[] for j in range(W+1)] for i in range(n+1)]\n",
    "\n",
    "    # Init 0\n",
    "    for j in range(0,W+1):\n",
    "        K[0][j]=0\n",
    "        c[0][j]=[]\n",
    "    # Over item length\n",
    "    for i in range(1,n+1):\n",
    "        # Over weight length\n",
    "        for j in range(0,W+1):\n",
    "            # Case 1\n",
    "            # NOTE: My x(i) and j are the other way round\n",
    "            # Could also be wt[j] <= i\n",
    "            # As i increases by 1 each time this add an additional item, each layer accounts for the addition, if weight is greater then would use the other\n",
    "            if wt[i-1]>j:\n",
    "                K[i][j]=K[i-1][j]\n",
    "                c[i][j]=c[i-1][j]\n",
    "            else:\n",
    "                # with the increase in j -> range(w)\n",
    "                x = K[i-1][j-wt[i-1]]+vals[i-1]\n",
    "                y = K[i-1][j]\n",
    "                # Effectivly max() case\n",
    "                if (x>y):\n",
    "                    K[i][j] = x\n",
    "                    c[i][j] = c[i-1][j-wt[i-1]]+[(i-1)]\n",
    "                else:\n",
    "                    K[i][j] = y\n",
    "                    c[i][j] = c[i-1][j]\n",
    "    # Map to item names\n",
    "    ITEMS = [names[x] for x in c[n][W]]\n",
    "    return (K[n][W], ITEMS, c[n][W])\n",
    "\n",
    "\n",
    "\n",
    "\n",
    "\n",
    "\n"
   ]
  },
  {
   "cell_type": "markdown",
   "id": "f3d8bcae",
   "metadata": {},
   "source": [
    "Class Room Test-case"
   ]
  },
  {
   "cell_type": "code",
   "execution_count": 12,
   "id": "df997d16",
   "metadata": {},
   "outputs": [
    {
     "name": "stdout",
     "output_type": "stream",
     "text": [
      "We have 3 items\n"
     ]
    }
   ],
   "source": [
    "W = 3\n",
    "wt = [1, 2, 3]\n",
    "vals = [1, 4, 6]\n",
    "names = [[\"Turtle\"], [\"Globe\"], [\"WaterMelon\"]]\n",
    "\n",
    "n = len(vals)\n",
    "\n",
    "print('We have {} items'.format(n))\n"
   ]
  },
  {
   "cell_type": "code",
   "execution_count": 13,
   "id": "e735efd7",
   "metadata": {},
   "outputs": [],
   "source": [
    "K, ITEMS = unboundedKnapsack(W, n, wt, vals, names)"
   ]
  },
  {
   "cell_type": "code",
   "execution_count": 14,
   "id": "bb6d963b",
   "metadata": {},
   "outputs": [
    {
     "data": {
      "text/plain": [
       "['WaterMelon']"
      ]
     },
     "execution_count": 14,
     "metadata": {},
     "output_type": "execute_result"
    }
   ],
   "source": [
    "ITEMS"
   ]
  },
  {
   "cell_type": "code",
   "execution_count": 15,
   "id": "3d2e8384",
   "metadata": {},
   "outputs": [],
   "source": [
    "\n",
    "K, ITEMS, c = dpKnapsack(W, n, wt, vals, names)"
   ]
  },
  {
   "cell_type": "code",
   "execution_count": 16,
   "id": "b822e57f",
   "metadata": {},
   "outputs": [
    {
     "data": {
      "text/plain": [
       "[['WaterMelon']]"
      ]
     },
     "execution_count": 16,
     "metadata": {},
     "output_type": "execute_result"
    }
   ],
   "source": [
    "ITEMS"
   ]
  },
  {
   "cell_type": "markdown",
   "id": "91df036c",
   "metadata": {},
   "source": [
    "### TESTING"
   ]
  },
  {
   "cell_type": "code",
   "execution_count": 17,
   "id": "95902d5b",
   "metadata": {},
   "outputs": [
    {
     "name": "stdout",
     "output_type": "stream",
     "text": [
      "\n",
      "-\n",
      "W: 3,\n",
      "wt: [1, 2, 3],\n",
      "vals: [1, 4, 6],\n",
      "names: [['Turtle'], ['Globe'], ['WaterMelon']]\n",
      "-\n",
      "- Unbounded Knapsack (0): ['WaterMelon']\n",
      "- 0/1 dpKnapsack (0): [['WaterMelon']]\n",
      "\n",
      "-\n",
      "W: 4,\n",
      "wt: [1, 2, 3],\n",
      "vals: [1, 4, 6],\n",
      "names: [['Turtle'], ['Globe'], ['WaterMelon']]\n",
      "-\n",
      "- Unbounded Knapsack (1): ['Globe', 'Globe']\n",
      "- 0/1 dpKnapsack (1): [['Turtle'], ['WaterMelon']]\n",
      "\n",
      "-\n",
      "W: 1,\n",
      "wt: [1, 2, 3],\n",
      "vals: [1, 4, 6],\n",
      "names: [['Turtle'], ['Globe'], ['WaterMelon']]\n",
      "-\n",
      "- Unbounded Knapsack (2): []\n",
      "- 0/1 dpKnapsack (2): [['Turtle']]\n"
     ]
    }
   ],
   "source": [
    "W = 3\n",
    "wt = [1, 2, 3]\n",
    "vals = [1, 4, 6]\n",
    "names = [[\"Turtle\"], [\"Globe\"], [\"WaterMelon\"]]\n",
    "n = len(vals)\n",
    "i = 0\n",
    "\n",
    "K, ITEMS_un = unboundedKnapsack(W, n, wt, vals, names)\n",
    "K, ITEMS_dp, c = dpKnapsack(W, n, wt, vals, names)\n",
    "\n",
    "print('\\n-\\nW: {},\\nwt: {},\\nvals: {},\\nnames: {}\\n-'.format(W,wt,vals,names))\n",
    "\n",
    "print('- Unbounded Knapsack ({}): {}'.format(i,ITEMS_un))\n",
    "print('- 0/1 dpKnapsack ({}): {}'.format(i,ITEMS_dp))\n",
    "\n",
    "W = 4\n",
    "wt = [1, 2, 3]\n",
    "vals = [1, 4, 6]\n",
    "names = [[\"Turtle\"], [\"Globe\"], [\"WaterMelon\"]]\n",
    "n = len(vals)\n",
    "i += 1\n",
    "\n",
    "K, ITEMS_un = unboundedKnapsack(W, n, wt, vals, names)\n",
    "K, ITEMS_dp, c = dpKnapsack(W, n, wt, vals, names)\n",
    "\n",
    "print('\\n-\\nW: {},\\nwt: {},\\nvals: {},\\nnames: {}\\n-'.format(W,wt,vals,names))\n",
    "\n",
    "print('- Unbounded Knapsack ({}): {}'.format(i,ITEMS_un))\n",
    "print('- 0/1 dpKnapsack ({}): {}'.format(i,ITEMS_dp))\n",
    "\n",
    "\n",
    "W = 1\n",
    "wt = [1, 2, 3]\n",
    "vals = [1, 4, 6]\n",
    "names = [[\"Turtle\"], [\"Globe\"], [\"WaterMelon\"]]\n",
    "n = len(vals)\n",
    "i += 1\n",
    "\n",
    "K, ITEMS_un = unboundedKnapsack(W, n, wt, vals, names)\n",
    "K, ITEMS_dp, c = dpKnapsack(W, n, wt, vals, names)\n",
    "\n",
    "print('\\n-\\nW: {},\\nwt: {},\\nvals: {},\\nnames: {}\\n-'.format(W,wt,vals,names))\n",
    "\n",
    "print('- Unbounded Knapsack ({}): {}'.format(i,ITEMS_un))\n",
    "print('- 0/1 dpKnapsack ({}): {}'.format(i,ITEMS_dp))"
   ]
  },
  {
   "cell_type": "markdown",
   "id": "46b8f585",
   "metadata": {},
   "source": [
    "***"
   ]
  },
  {
   "cell_type": "markdown",
   "id": "e54438c2",
   "metadata": {},
   "source": [
    "***"
   ]
  },
  {
   "cell_type": "markdown",
   "id": "cb3b7bae",
   "metadata": {},
   "source": [
    "### SCRAPS"
   ]
  },
  {
   "cell_type": "code",
   "execution_count": 18,
   "id": "b0e2be83",
   "metadata": {},
   "outputs": [
    {
     "name": "stdout",
     "output_type": "stream",
     "text": [
      "[[0, 0, 0, 0, 0], [0, None, None, None, None], [0, None, None, None, None], [0, None, None, None, None], [0, None, None, None, None]]\n"
     ]
    }
   ],
   "source": [
    "\n",
    "# Testing with array (irrelevent)\n",
    "a = [[0] + [None] * 4] * 5\n",
    "a[0] = [0] * 5\n",
    "print(a)\n",
    "\n"
   ]
  }
 ],
 "metadata": {
  "kernelspec": {
   "display_name": "Python 3 (ipykernel)",
   "language": "python",
   "name": "python3"
  },
  "language_info": {
   "codemirror_mode": {
    "name": "ipython",
    "version": 3
   },
   "file_extension": ".py",
   "mimetype": "text/x-python",
   "name": "python",
   "nbconvert_exporter": "python",
   "pygments_lexer": "ipython3",
   "version": "3.9.6"
  }
 },
 "nbformat": 4,
 "nbformat_minor": 5
}
