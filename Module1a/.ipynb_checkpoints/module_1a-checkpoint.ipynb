{
 "cells": [
  {
   "cell_type": "code",
   "execution_count": 1,
   "id": "180e7780",
   "metadata": {},
   "outputs": [],
   "source": [
    "from math import ceil"
   ]
  },
  {
   "cell_type": "code",
   "execution_count": 2,
   "id": "58c65ebf",
   "metadata": {},
   "outputs": [
    {
     "name": "stdout",
     "output_type": "stream",
     "text": [
      "10\n",
      "1\n",
      "2\n",
      "3\n",
      "54\n",
      "6\n",
      "7\n",
      "46\n",
      "674\n",
      "85\n",
      "957\n",
      "89\n",
      "135\n"
     ]
    }
   ],
   "source": [
    "\n",
    "# Random stuff proof\n",
    "\n",
    "i = 0\n",
    "while i < 10:\n",
    "    i += 1\n",
    "# --\n",
    "print(i)\n",
    "\n",
    "ok = [1,2,3,54,6,7,46,674,85,957,89,135]\n",
    "\n",
    "for yeah in ok:\n",
    "    print(yeah)\n",
    "# --\n",
    "\n",
    "def riiei_noiteho():\n",
    "    print(' heuigrengnorehpite trto')\n",
    "\n"
   ]
  },
  {
   "cell_type": "markdown",
   "id": "6ad3453c",
   "metadata": {},
   "source": [
    "### The following are implementations of two basic algorithems"
   ]
  },
  {
   "cell_type": "markdown",
   "id": "4dbe4bd3",
   "metadata": {},
   "source": [
    "### QuickSort"
   ]
  },
  {
   "cell_type": "code",
   "execution_count": 3,
   "id": "eca9ed0f",
   "metadata": {},
   "outputs": [],
   "source": [
    "\n",
    "\n",
    "def quicksort(list_, low, high):\n",
    "    if len(list_) == 1:\n",
    "        return list_\n",
    "    if low < high:\n",
    "        part = partition(list_, low, high)\n",
    "        \n",
    "        quicksort(list_, low, part - 1)\n",
    "        quicksort(list_, part + 1, high)\n",
    "\n",
    "\n",
    "def partition(list_, low, high):\n",
    "    pivot = list_[high]\n",
    "    i = low\n",
    "    for j in range(low, high):\n",
    "        if list_[j] < pivot:\n",
    "            # swap places\n",
    "            temp = list_[i]\n",
    "            list_[i] = list_[j]\n",
    "            list_[j] = temp\n",
    "            i = i + 1\n",
    "    \n",
    "    # swap places\n",
    "    temp = list_[i]\n",
    "    list_[i] = list_[high]\n",
    "    list_[high] = temp\n",
    "    return (i)\n"
   ]
  },
  {
   "cell_type": "code",
   "execution_count": 4,
   "id": "ba8d746c",
   "metadata": {},
   "outputs": [
    {
     "name": "stdout",
     "output_type": "stream",
     "text": [
      "[5, 2, 1, 7, 2, 60, 21, 0, 99]\n",
      "[0, 1, 2, 2, 5, 7, 21, 60, 99]\n",
      "yay!\n"
     ]
    }
   ],
   "source": [
    "the_list = [5,2,1,7,2,60,21,0,99]\n",
    "\n",
    "print(the_list)\n",
    "\n",
    "quicksort(the_list, 0, len(the_list) - 1)\n",
    "\n",
    "print(the_list)\n",
    "\n",
    "print('yay!')"
   ]
  },
  {
   "cell_type": "markdown",
   "id": "95e27eea",
   "metadata": {},
   "source": [
    "### BinarySearch"
   ]
  },
  {
   "cell_type": "code",
   "execution_count": 5,
   "id": "07cc9f6d",
   "metadata": {},
   "outputs": [],
   "source": [
    "def binarySearch(list_, n, val):\n",
    "    left = 0\n",
    "    right = n - 1\n",
    "    while left != right:\n",
    "        mid = ceil((left + right) / 2)\n",
    "        if list_[mid] > val:\n",
    "            right = mid - 1\n",
    "        else:\n",
    "            left = mid\n",
    "    if list_[left] == val:\n",
    "        return left\n",
    "    return None\n"
   ]
  },
  {
   "cell_type": "markdown",
   "id": "01f9cba9",
   "metadata": {},
   "source": [
    "### Test Cases\n",
    "\n",
    "The following tests cover some of the more basic instances for test cases, such as:\n",
    "- Order\n",
    "- Length\n",
    "- Negatives\n",
    "- Type (less relevent for the logic of the algorithem) - (used as example exception)"
   ]
  },
  {
   "cell_type": "markdown",
   "id": "e315b147",
   "metadata": {},
   "source": [
    "### Test case stuff"
   ]
  },
  {
   "cell_type": "code",
   "execution_count": 14,
   "id": "465ae692",
   "metadata": {},
   "outputs": [
    {
     "name": "stdout",
     "output_type": "stream",
     "text": [
      "\n",
      "\n",
      " // --- TEST CASE - 1 --- // \n",
      "[5, 2, 1, 7, 2, 60, 21, 0, 99]\n",
      "[0, 1, 2, 2, 5, 7, 21, 60, 99]\n",
      "Passed:  True\n",
      "\n",
      "\n",
      " // --- TEST CASE - 2 --- // \n",
      "[5]\n",
      "[5]\n",
      "Passed:  True\n",
      "\n",
      "\n",
      " // --- TEST CASE - 3 --- // \n",
      "[-1, 8, -6, 6, 25, 502, 2]\n",
      "[-6, -1, 2, 6, 8, 25, 502]\n",
      "Passed:  True\n",
      "\n",
      "\n",
      " // --- TEST CASE - 3 --- // \n",
      "[-1, 8, -6, 6, 25, 502, 2]\n",
      "[-6, -1, 2, 6, 8, 25, 502]\n",
      "Passed:  True\n",
      "\n",
      "\n",
      " // --- TEST CASE - 4 --- // \n",
      "[-1, 8, -6, 6, 25, 502, 'we do a little trollin']\n",
      "Threw an exception!\n",
      "\n",
      " OH NO! \n",
      " we did not account for type! \n",
      " what an unfortunate occurance! \n",
      " how could this happended! \n",
      " this is so sad™\n"
     ]
    }
   ],
   "source": [
    "''' // --- TEST CASE - 1 --- // '''\n",
    "\n",
    "print('\\n\\n // --- TEST CASE - 1 --- // ')\n",
    "\n",
    "the_list = [5,2,1,7,2,60,21,0,99]\n",
    "\n",
    "should_value = [0, 1, 2, 2, 5, 7, 21, 60, 99]\n",
    "\n",
    "print(the_list)\n",
    "\n",
    "try:\n",
    "    quicksort(the_list, 0, len(the_list) - 1)\n",
    "    print(the_list)\n",
    "    print(\"Passed: \", the_list == should_value)\n",
    "except:\n",
    "    print('Threw an exception!')\n",
    "\n",
    "\n",
    "''' // --- TEST CASE - 2 --- // '''\n",
    "\n",
    "print('\\n\\n // --- TEST CASE - 2 --- // ')\n",
    "\n",
    "the_list = [5]\n",
    "\n",
    "should_value = [5]\n",
    "\n",
    "print(the_list)\n",
    "\n",
    "try:\n",
    "    quicksort(the_list, 0, len(the_list) - 1)\n",
    "    print(the_list)\n",
    "    print(\"Passed: \", the_list == should_value)\n",
    "except:\n",
    "    print('Threw an exception!')\n",
    "\n",
    "\n",
    "\n",
    "\n",
    "''' // --- TEST CASE - 3 --- // '''\n",
    "\n",
    "print('\\n\\n // --- TEST CASE - 3 --- // ')\n",
    "\n",
    "the_list = [-1, 8, -6, 6, 25, 502, 2]\n",
    "\n",
    "should_value = [-6, -1, 2, 6, 8, 25, 502]\n",
    "\n",
    "print(the_list)\n",
    "\n",
    "try:\n",
    "    quicksort(the_list, 0, len(the_list) - 1)\n",
    "    print(the_list)\n",
    "    print(\"Passed: \", the_list == should_value)\n",
    "except:\n",
    "    print('Threw an exception!')\n",
    "\n",
    "\n",
    "''' // --- TEST CASE - 3 --- // '''\n",
    "\n",
    "print('\\n\\n // --- TEST CASE - 3 --- // ')\n",
    "\n",
    "the_list = [-1, 8, -6, 6, 25, 502, 2]\n",
    "\n",
    "should_value = [-6, -1, 2, 6, 8, 25, 502]\n",
    "\n",
    "print(the_list)\n",
    "\n",
    "try:\n",
    "    quicksort(the_list, 0, len(the_list) - 1)\n",
    "    print(the_list)\n",
    "    print(\"Passed: \", the_list == should_value)\n",
    "except:\n",
    "    print('Threw an exception!')\n",
    "\n",
    "\n",
    "''' // --- TEST CASE - 4 --- // '''\n",
    "\n",
    "print('\\n\\n // --- TEST CASE - 4 --- // ')\n",
    "\n",
    "the_list = [-1, 8, -6, 6, 25, 502, 'we do a little trollin']\n",
    "\n",
    "should_value = None\n",
    "\n",
    "print(the_list)\n",
    "\n",
    "try:\n",
    "    quicksort(the_list, 0, len(the_list) - 1)\n",
    "    print(the_list)\n",
    "    print(\"Passed: \", the_list == should_value)\n",
    "except:\n",
    "    print('Threw an exception!')\n",
    "\n",
    "print('\\n OH NO! \\n we did not account for type! \\n what an unfortunate occurance! \\n how could this happended! \\n this is so sad™')"
   ]
  },
  {
   "cell_type": "code",
   "execution_count": null,
   "id": "961d946c",
   "metadata": {},
   "outputs": [],
   "source": []
  },
  {
   "cell_type": "code",
   "execution_count": null,
   "id": "db269bb0",
   "metadata": {},
   "outputs": [],
   "source": []
  }
 ],
 "metadata": {
  "kernelspec": {
   "display_name": "Python 3 (ipykernel)",
   "language": "python",
   "name": "python3"
  },
  "language_info": {
   "codemirror_mode": {
    "name": "ipython",
    "version": 3
   },
   "file_extension": ".py",
   "mimetype": "text/x-python",
   "name": "python",
   "nbconvert_exporter": "python",
   "pygments_lexer": "ipython3",
   "version": "3.9.6"
  }
 },
 "nbformat": 4,
 "nbformat_minor": 5
}
