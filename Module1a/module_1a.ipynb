{
 "cells": [
  {
   "cell_type": "code",
   "execution_count": 1,
   "id": "180e7780",
   "metadata": {},
   "outputs": [],
   "source": [
    "from math import ceil"
   ]
  },
  {
   "cell_type": "code",
   "execution_count": 2,
   "id": "58c65ebf",
   "metadata": {},
   "outputs": [
    {
     "name": "stdout",
     "output_type": "stream",
     "text": [
      "10\n",
      "1\n",
      "2\n",
      "3\n",
      "54\n",
      "6\n",
      "7\n",
      "46\n",
      "674\n",
      "85\n",
      "957\n",
      "89\n",
      "135\n"
     ]
    }
   ],
   "source": [
    "\n",
    "# Random stuff proof\n",
    "\n",
    "i = 0\n",
    "while i < 10:\n",
    "    i += 1\n",
    "# --\n",
    "print(i)\n",
    "\n",
    "ok = [1,2,3,54,6,7,46,674,85,957,89,135]\n",
    "\n",
    "for yeah in ok:\n",
    "    print(yeah)\n",
    "# --\n",
    "\n",
    "def riiei_noiteho():\n",
    "    print(' heuigrengnorehpite trto')\n",
    "\n"
   ]
  },
  {
   "cell_type": "markdown",
   "id": "4dbe4bd3",
   "metadata": {},
   "source": [
    "### QuickSort"
   ]
  },
  {
   "cell_type": "code",
   "execution_count": 3,
   "id": "eca9ed0f",
   "metadata": {},
   "outputs": [],
   "source": [
    "\n",
    "\n",
    "def quicksort(list_, low, high):\n",
    "    if len(list_) == 1:\n",
    "        return list_\n",
    "    if low < high:\n",
    "        part = partition(list_, low, high)\n",
    "        \n",
    "        quicksort(list_, low, part - 1)\n",
    "        quicksort(list_, part + 1, high)\n",
    "\n",
    "\n",
    "def partition(list_, low, high):\n",
    "    pivot = list_[high]\n",
    "    i = low\n",
    "    for j in range(low, high):\n",
    "        if list_[j] < pivot:\n",
    "            # swap places\n",
    "            temp = list_[i]\n",
    "            list_[i] = list_[j]\n",
    "            list_[j] = temp\n",
    "            i = i + 1\n",
    "    \n",
    "    # swap places\n",
    "    temp = list_[i]\n",
    "    list_[i] = list_[high]\n",
    "    list_[high] = temp\n",
    "    return (i)\n"
   ]
  },
  {
   "cell_type": "code",
   "execution_count": 6,
   "id": "ba8d746c",
   "metadata": {},
   "outputs": [
    {
     "name": "stdout",
     "output_type": "stream",
     "text": [
      "[5, 2, 1, 7, 2, 60, 21, 0, 99]\n",
      "[0, 1, 2, 2, 5, 7, 21, 60, 99]\n",
      "yay!\n"
     ]
    }
   ],
   "source": [
    "the_list = [5,2,1,7,2,60,21,0,99]\n",
    "\n",
    "print(the_list)\n",
    "\n",
    "quicksort(the_list, 0, len(the_list) - 1)\n",
    "\n",
    "print(the_list)\n",
    "\n",
    "print('yay!')"
   ]
  },
  {
   "cell_type": "markdown",
   "id": "95e27eea",
   "metadata": {},
   "source": [
    "### BinarySearch"
   ]
  },
  {
   "cell_type": "code",
   "execution_count": 7,
   "id": "07cc9f6d",
   "metadata": {},
   "outputs": [],
   "source": [
    "def binarySearch(list_, n, val):\n",
    "    left = 0\n",
    "    right = n - 1\n",
    "    while left != right:\n",
    "        mid = ceil((left + right) / 2)\n",
    "        if list_[mid] > val:\n",
    "            right = mid - 1\n",
    "        else:\n",
    "            left = mid\n",
    "    if list_[left] == val:\n",
    "        return left\n",
    "    return None\n"
   ]
  },
  {
   "cell_type": "markdown",
   "id": "e315b147",
   "metadata": {},
   "source": [
    "### Test case stuff"
   ]
  },
  {
   "cell_type": "code",
   "execution_count": 16,
   "id": "465ae692",
   "metadata": {},
   "outputs": [
    {
     "name": "stdout",
     "output_type": "stream",
     "text": [
      "\n",
      "\n",
      " // --- TEST CASE - 1 --- // \n",
      "[5, 2, 1, 7, 2, 60, 21, 0, 99]\n",
      "[0, 1, 2, 2, 5, 7, 21, 60, 99]\n",
      "Passed:  True\n",
      "\n",
      "\n",
      " // --- TEST CASE - 2 --- // \n",
      "[5]\n",
      "[5]\n",
      "Passed:  True\n",
      "\n",
      "\n",
      " // --- TEST CASE - 3 --- // \n",
      "[-1, 8, -6, 6, 25, 502, 2]\n",
      "[-6, -1, 2, 6, 8, 25, 502]\n",
      "Passed:  True\n",
      "\n",
      "\n",
      " // --- TEST CASE - 3 --- // \n",
      "[-1, 8, -6, 6, 25, 502, 2]\n",
      "[-6, -1, 2, 6, 8, 25, 502]\n",
      "Passed:  True\n",
      "\n",
      "\n",
      " // --- TEST CASE - 4 --- // \n",
      "[-1, 8, -6, 6, 25, 502, 'hagueug']\n"
     ]
    },
    {
     "ename": "TypeError",
     "evalue": "'<' not supported between instances of 'int' and 'str'",
     "output_type": "error",
     "traceback": [
      "\u001b[1;31m---------------------------------------------------------------------------\u001b[0m",
      "\u001b[1;31mTypeError\u001b[0m                                 Traceback (most recent call last)",
      "\u001b[1;32m~\\AppData\\Local\\Temp/ipykernel_6320/3614578246.py\u001b[0m in \u001b[0;36m<module>\u001b[1;34m\u001b[0m\n\u001b[0;32m     71\u001b[0m \u001b[0mprint\u001b[0m\u001b[1;33m(\u001b[0m\u001b[0mthe_list\u001b[0m\u001b[1;33m)\u001b[0m\u001b[1;33m\u001b[0m\u001b[1;33m\u001b[0m\u001b[0m\n\u001b[0;32m     72\u001b[0m \u001b[1;33m\u001b[0m\u001b[0m\n\u001b[1;32m---> 73\u001b[1;33m \u001b[0mquicksort\u001b[0m\u001b[1;33m(\u001b[0m\u001b[0mthe_list\u001b[0m\u001b[1;33m,\u001b[0m \u001b[1;36m0\u001b[0m\u001b[1;33m,\u001b[0m \u001b[0mlen\u001b[0m\u001b[1;33m(\u001b[0m\u001b[0mthe_list\u001b[0m\u001b[1;33m)\u001b[0m \u001b[1;33m-\u001b[0m \u001b[1;36m1\u001b[0m\u001b[1;33m)\u001b[0m\u001b[1;33m\u001b[0m\u001b[1;33m\u001b[0m\u001b[0m\n\u001b[0m\u001b[0;32m     74\u001b[0m \u001b[1;33m\u001b[0m\u001b[0m\n\u001b[0;32m     75\u001b[0m \u001b[0mprint\u001b[0m\u001b[1;33m(\u001b[0m\u001b[0mthe_list\u001b[0m\u001b[1;33m)\u001b[0m\u001b[1;33m\u001b[0m\u001b[1;33m\u001b[0m\u001b[0m\n",
      "\u001b[1;32m~\\AppData\\Local\\Temp/ipykernel_6320/580292249.py\u001b[0m in \u001b[0;36mquicksort\u001b[1;34m(list_, low, high)\u001b[0m\n\u001b[0;32m      3\u001b[0m         \u001b[1;32mreturn\u001b[0m \u001b[0mlist_\u001b[0m\u001b[1;33m\u001b[0m\u001b[1;33m\u001b[0m\u001b[0m\n\u001b[0;32m      4\u001b[0m     \u001b[1;32mif\u001b[0m \u001b[0mlow\u001b[0m \u001b[1;33m<\u001b[0m \u001b[0mhigh\u001b[0m\u001b[1;33m:\u001b[0m\u001b[1;33m\u001b[0m\u001b[1;33m\u001b[0m\u001b[0m\n\u001b[1;32m----> 5\u001b[1;33m         \u001b[0mpart\u001b[0m \u001b[1;33m=\u001b[0m \u001b[0mpartition\u001b[0m\u001b[1;33m(\u001b[0m\u001b[0mlist_\u001b[0m\u001b[1;33m,\u001b[0m \u001b[0mlow\u001b[0m\u001b[1;33m,\u001b[0m \u001b[0mhigh\u001b[0m\u001b[1;33m)\u001b[0m\u001b[1;33m\u001b[0m\u001b[1;33m\u001b[0m\u001b[0m\n\u001b[0m\u001b[0;32m      6\u001b[0m \u001b[1;33m\u001b[0m\u001b[0m\n\u001b[0;32m      7\u001b[0m         \u001b[0mquicksort\u001b[0m\u001b[1;33m(\u001b[0m\u001b[0mlist_\u001b[0m\u001b[1;33m,\u001b[0m \u001b[0mlow\u001b[0m\u001b[1;33m,\u001b[0m \u001b[0mpart\u001b[0m \u001b[1;33m-\u001b[0m \u001b[1;36m1\u001b[0m\u001b[1;33m)\u001b[0m\u001b[1;33m\u001b[0m\u001b[1;33m\u001b[0m\u001b[0m\n",
      "\u001b[1;32m~\\AppData\\Local\\Temp/ipykernel_6320/580292249.py\u001b[0m in \u001b[0;36mpartition\u001b[1;34m(list_, low, high)\u001b[0m\n\u001b[0;32m     13\u001b[0m     \u001b[0mi\u001b[0m \u001b[1;33m=\u001b[0m \u001b[0mlow\u001b[0m\u001b[1;33m\u001b[0m\u001b[1;33m\u001b[0m\u001b[0m\n\u001b[0;32m     14\u001b[0m     \u001b[1;32mfor\u001b[0m \u001b[0mj\u001b[0m \u001b[1;32min\u001b[0m \u001b[0mrange\u001b[0m\u001b[1;33m(\u001b[0m\u001b[0mlow\u001b[0m\u001b[1;33m,\u001b[0m \u001b[0mhigh\u001b[0m\u001b[1;33m)\u001b[0m\u001b[1;33m:\u001b[0m\u001b[1;33m\u001b[0m\u001b[1;33m\u001b[0m\u001b[0m\n\u001b[1;32m---> 15\u001b[1;33m         \u001b[1;32mif\u001b[0m \u001b[0mlist_\u001b[0m\u001b[1;33m[\u001b[0m\u001b[0mj\u001b[0m\u001b[1;33m]\u001b[0m \u001b[1;33m<\u001b[0m \u001b[0mpivot\u001b[0m\u001b[1;33m:\u001b[0m\u001b[1;33m\u001b[0m\u001b[1;33m\u001b[0m\u001b[0m\n\u001b[0m\u001b[0;32m     16\u001b[0m             \u001b[1;31m# swap places\u001b[0m\u001b[1;33m\u001b[0m\u001b[1;33m\u001b[0m\u001b[1;33m\u001b[0m\u001b[0m\n\u001b[0;32m     17\u001b[0m             \u001b[0mtemp\u001b[0m \u001b[1;33m=\u001b[0m \u001b[0mlist_\u001b[0m\u001b[1;33m[\u001b[0m\u001b[0mi\u001b[0m\u001b[1;33m]\u001b[0m\u001b[1;33m\u001b[0m\u001b[1;33m\u001b[0m\u001b[0m\n",
      "\u001b[1;31mTypeError\u001b[0m: '<' not supported between instances of 'int' and 'str'"
     ]
    }
   ],
   "source": [
    "''' // --- TEST CASE - 1 --- // '''\n",
    "\n",
    "print('\\n\\n // --- TEST CASE - 1 --- // ')\n",
    "\n",
    "the_list = [5,2,1,7,2,60,21,0,99]\n",
    "\n",
    "should_value = [0, 1, 2, 2, 5, 7, 21, 60, 99]\n",
    "\n",
    "print(the_list)\n",
    "\n",
    "quicksort(the_list, 0, len(the_list) - 1)\n",
    "\n",
    "print(the_list)\n",
    "print(\"Passed: \", the_list == should_value)\n",
    "\n",
    "''' // --- TEST CASE - 2 --- // '''\n",
    "\n",
    "print('\\n\\n // --- TEST CASE - 2 --- // ')\n",
    "\n",
    "the_list = [5]\n",
    "\n",
    "should_value = [5]\n",
    "\n",
    "print(the_list)\n",
    "\n",
    "quicksort(the_list, 0, len(the_list) - 1)\n",
    "\n",
    "print(the_list)\n",
    "print(\"Passed: \", the_list == should_value)\n",
    "\n",
    "\n",
    "''' // --- TEST CASE - 3 --- // '''\n",
    "\n",
    "print('\\n\\n // --- TEST CASE - 3 --- // ')\n",
    "\n",
    "the_list = [-1, 8, -6, 6, 25, 502, 2]\n",
    "\n",
    "should_value = [-6, -1, 2, 6, 8, 25, 502]\n",
    "\n",
    "print(the_list)\n",
    "\n",
    "quicksort(the_list, 0, len(the_list) - 1)\n",
    "\n",
    "print(the_list)\n",
    "print(\"Passed: \", the_list == should_value)\n",
    "\n",
    "\n",
    "''' // --- TEST CASE - 3 --- // '''\n",
    "\n",
    "print('\\n\\n // --- TEST CASE - 3 --- // ')\n",
    "\n",
    "the_list = [-1, 8, -6, 6, 25, 502, 2]\n",
    "\n",
    "should_value = [-6, -1, 2, 6, 8, 25, 502]\n",
    "\n",
    "print(the_list)\n",
    "\n",
    "quicksort(the_list, 0, len(the_list) - 1)\n",
    "\n",
    "print(the_list)\n",
    "print(\"Passed: \", the_list == should_value)\n",
    "\n",
    "''' // --- TEST CASE - 4 --- // '''\n",
    "\n",
    "print('\\n\\n // --- TEST CASE - 4 --- // ')\n",
    "\n",
    "the_list = [-1, 8, -6, 6, 25, 502, 'hagueug']\n",
    "\n",
    "should_value = 'haha kek'\n",
    "\n",
    "print(the_list)\n",
    "\n",
    "quicksort(the_list, 0, len(the_list) - 1)\n",
    "\n",
    "print(the_list)\n",
    "print(\"Passed: \", the_list == should_value)"
   ]
  },
  {
   "cell_type": "code",
   "execution_count": null,
   "id": "961d946c",
   "metadata": {},
   "outputs": [],
   "source": []
  },
  {
   "cell_type": "code",
   "execution_count": null,
   "id": "db269bb0",
   "metadata": {},
   "outputs": [],
   "source": []
  }
 ],
 "metadata": {
  "kernelspec": {
   "display_name": "Python 3 (ipykernel)",
   "language": "python",
   "name": "python3"
  },
  "language_info": {
   "codemirror_mode": {
    "name": "ipython",
    "version": 3
   },
   "file_extension": ".py",
   "mimetype": "text/x-python",
   "name": "python",
   "nbconvert_exporter": "python",
   "pygments_lexer": "ipython3",
   "version": "3.9.6"
  }
 },
 "nbformat": 4,
 "nbformat_minor": 5
}
