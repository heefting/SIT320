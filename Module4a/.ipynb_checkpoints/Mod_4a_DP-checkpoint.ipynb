{
 "cells": [
  {
   "cell_type": "markdown",
   "id": "3567b9e0",
   "metadata": {},
   "source": [
    "# Lab 4a: Dynamic Programming"
   ]
  },
  {
   "cell_type": "markdown",
   "id": "0500d10d",
   "metadata": {},
   "source": [
    "Lab associated with Module 4a: Dynamic Programming"
   ]
  },
  {
   "cell_type": "markdown",
   "id": "193c3519",
   "metadata": {},
   "source": [
    "***"
   ]
  },
  {
   "cell_type": "code",
   "execution_count": 1,
   "id": "0b798b4b",
   "metadata": {},
   "outputs": [
    {
     "data": {
      "text/html": [
       "<style>.container { width:95% !important; }</style>"
      ],
      "text/plain": [
       "<IPython.core.display.HTML object>"
      ]
     },
     "metadata": {},
     "output_type": "display_data"
    }
   ],
   "source": [
    "# The following lines are used to increase the width of cells to utilize more space on the screen \n",
    "from IPython.core.display import display, HTML\n",
    "display(HTML(\"<style>.container { width:95% !important; }</style>\"))"
   ]
  },
  {
   "cell_type": "markdown",
   "id": "75a40511",
   "metadata": {},
   "source": [
    "***"
   ]
  },
  {
   "cell_type": "markdown",
   "id": "2c37dd87",
   "metadata": {},
   "source": [
    "### Section 0: Imports"
   ]
  },
  {
   "cell_type": "code",
   "execution_count": 2,
   "id": "ce50c791",
   "metadata": {},
   "outputs": [],
   "source": [
    "import numpy as np"
   ]
  },
  {
   "cell_type": "code",
   "execution_count": 3,
   "id": "a53a6349",
   "metadata": {},
   "outputs": [],
   "source": [
    "import math"
   ]
  },
  {
   "cell_type": "code",
   "execution_count": 4,
   "id": "4d1bad19",
   "metadata": {},
   "outputs": [],
   "source": [
    "from IPython.display import Image\n",
    "from graphviz import Digraph\n",
    "\n",
    "import pandas as pd\n",
    "\n",
    "from copy import deepcopy"
   ]
  },
  {
   "cell_type": "markdown",
   "id": "4c1d03b2",
   "metadata": {},
   "source": [
    "Details of Digraph package: https://h1ros.github.io/posts/introduction-to-graphviz-in-jupyter-notebook/"
   ]
  },
  {
   "cell_type": "markdown",
   "id": "c9d95978",
   "metadata": {},
   "source": [
    "***"
   ]
  },
  {
   "cell_type": "markdown",
   "id": "5b680021",
   "metadata": {},
   "source": [
    "### <font color='red'> Section 1a: Implement a solution for finding Longest Common Subsequence problem. You should test your program against multiple test cases. </font>"
   ]
  },
  {
   "cell_type": "code",
   "execution_count": 5,
   "id": "b5ed6975",
   "metadata": {},
   "outputs": [],
   "source": [
    "### TODO ###\n",
    "### Good Luck ###\n",
    "\n",
    "def LCS(x, y):\n",
    "    # Init\n",
    "    m, n = len(x) + 1,len(y) + 1\n",
    "    c = np.zeros((m, n))\n",
    "    #for i in range(m):\n",
    "    #    c[i,0] = 0\n",
    "    #for j in range(n):\n",
    "    #    c[0,j] = 0\n",
    "    \n",
    "    # LCS\n",
    "    # Iterate through both\n",
    "    for i in range(1,m):\n",
    "        for j in range(1,n):\n",
    "            # If at any point the strings values are equal cut and add from last time (not equal)\n",
    "            if x[i-1] == y[j-1]:\n",
    "                c[i,j] = c[i-1,j-1] + 1\n",
    "            else:\n",
    "                c[i,j] = max(c[i,j-1], c[i-1,j])\n",
    "    return (c[m-1,n-1], c)\n",
    "\n",
    "\n",
    "def print_output(c, x, y, i, j):\n",
    "    if i == 0 or j == 0:\n",
    "        return ''\n",
    "    if x[i-1] == y[j-1]:\n",
    "        return print_output(c, x, y, i-1, j-1) + x[i-1]\n",
    "    elif c[i-1,j] > c[i,j-1]:#y\n",
    "        return print_output(c, x, y, i-1, j)\n",
    "    else:#x\n",
    "        return print_output(c, x, y, i, j-1)\n",
    "\n",
    "\n"
   ]
  },
  {
   "cell_type": "code",
   "execution_count": 6,
   "id": "8c44f407",
   "metadata": {},
   "outputs": [
    {
     "name": "stdout",
     "output_type": "stream",
     "text": [
      "\n",
      " actg acgga\n",
      "x: ['a', 'c', 't', 'g'] \n",
      "y: ['a', 'c', 'g', 'g', 'a']\n",
      "\n",
      "----\n",
      "\n",
      "- LCS: \"acg\" - Length: 3.0\n",
      "\n",
      "x|y→\n",
      "↓\n",
      "[[0. 0. 0. 0. 0. 0.]\n",
      " [0. 1. 1. 1. 1. 1.]\n",
      " [0. 1. 2. 2. 2. 2.]\n",
      " [0. 1. 2. 2. 2. 2.]\n",
      " [0. 1. 2. 3. 3. 3.]]\n",
      "\n",
      " a aagacggggcagcgacgagcggeyacioqconocqe9e9hacgga\n",
      "x: ['a'] \n",
      "y: ['a', 'a', 'g', 'a', 'c', 'g', 'g', 'g', 'g', 'c', 'a', 'g', 'c', 'g', 'a', 'c', 'g', 'a', 'g', 'c', 'g', 'g', 'e', 'y', 'a', 'c', 'i', 'o', 'q', 'c', 'o', 'n', 'o', 'c', 'q', 'e', '9', 'e', '9', 'h', 'a', 'c', 'g', 'g', 'a']\n",
      "\n",
      "----\n",
      "\n",
      "- LCS: \"a\" - Length: 1.0\n",
      "\n",
      "x|y→\n",
      "↓\n",
      "[[0. 0. 0. 0. 0. 0. 0. 0. 0. 0. 0. 0. 0. 0. 0. 0. 0. 0. 0. 0. 0. 0. 0. 0.\n",
      "  0. 0. 0. 0. 0. 0. 0. 0. 0. 0. 0. 0. 0. 0. 0. 0. 0. 0. 0. 0. 0. 0.]\n",
      " [0. 1. 1. 1. 1. 1. 1. 1. 1. 1. 1. 1. 1. 1. 1. 1. 1. 1. 1. 1. 1. 1. 1. 1.\n",
      "  1. 1. 1. 1. 1. 1. 1. 1. 1. 1. 1. 1. 1. 1. 1. 1. 1. 1. 1. 1. 1. 1.]]\n",
      "\n",
      "  \n",
      "x: [] \n",
      "y: []\n",
      "\n",
      "----\n",
      "\n",
      "- LCS: \"\" - Length: 0.0\n",
      "\n",
      "x|y→\n",
      "↓\n",
      "[[0.]]\n",
      "\n",
      " ---ad --\n",
      "x: ['-', '-', '-', 'a', 'd'] \n",
      "y: ['-', '-']\n",
      "\n",
      "----\n",
      "\n",
      "- LCS: \"--\" - Length: 2.0\n",
      "\n",
      "x|y→\n",
      "↓\n",
      "[[0. 0. 0.]\n",
      " [0. 1. 1.]\n",
      " [0. 1. 2.]\n",
      " [0. 1. 2.]\n",
      " [0. 1. 2.]\n",
      " [0. 1. 2.]]\n",
      "\n",
      " 0etjbh9net9-njeb90n0bnenj9b9rtje09nwtgbnjriunbginjbintibntn3ewmqgrt99n9fvgnefbunibunisgnfbinsihntgihuehn9utnh 9hu0whg99rgwrhibern9rnb0tu934qn0uvn89un0vfnwnrfvhibnibnrwfinwibpruhqaiuh9ghaeiugfre\n",
      "x: ['0', 'e', 't', 'j', 'b', 'h', '9', 'n', 'e', 't', '9', '-', 'n', 'j', 'e', 'b', '9', '0', 'n', '0', 'b', 'n', 'e', 'n', 'j', '9', 'b', '9', 'r', 't', 'j', 'e', '0', '9', 'n', 'w', 't', 'g', 'b', 'n', 'j', 'r', 'i', 'u', 'n', 'b', 'g', 'i', 'n', 'j', 'b', 'i', 'n', 't', 'i', 'b', 'n', 't', 'n', '3', 'e', 'w', 'm', 'q', 'g', 'r', 't', '9', '9', 'n', '9', 'f', 'v', 'g', 'n', 'e', 'f', 'b', 'u', 'n', 'i', 'b', 'u', 'n', 'i', 's', 'g', 'n', 'f', 'b', 'i', 'n', 's', 'i', 'h', 'n', 't', 'g', 'i', 'h', 'u', 'e', 'h', 'n', '9', 'u', 't', 'n', 'h'] \n",
      "y: ['9', 'h', 'u', '0', 'w', 'h', 'g', '9', '9', 'r', 'g', 'w', 'r', 'h', 'i', 'b', 'e', 'r', 'n', '9', 'r', 'n', 'b', '0', 't', 'u', '9', '3', '4', 'q', 'n', '0', 'u', 'v', 'n', '8', '9', 'u', 'n', '0', 'v', 'f', 'n', 'w', 'n', 'r', 'f', 'v', 'h', 'i', 'b', 'n', 'i', 'b', 'n', 'r', 'w', 'f', 'i', 'n', 'w', 'i', 'b', 'p', 'r', 'u', 'h', 'q', 'a', 'i', 'u', 'h', '9', 'g', 'h', 'a', 'e', 'i', 'u', 'g', 'f', 'r', 'e']\n",
      "\n",
      "----\n",
      "\n",
      "- LCS: \"9099rgribnnbt3qnvnunibninfinihiuh9h\" - Length: 35.0\n",
      "\n",
      "x|y→\n",
      "↓\n",
      "[[ 0.  0.  0. ...  0.  0.  0.]\n",
      " [ 0.  0.  0. ...  1.  1.  1.]\n",
      " [ 0.  0.  0. ...  2.  2.  2.]\n",
      " ...\n",
      " [ 0.  1.  2. ... 35. 35. 35.]\n",
      " [ 0.  1.  2. ... 35. 35. 35.]\n",
      " [ 0.  1.  2. ... 35. 35. 35.]]\n"
     ]
    }
   ],
   "source": [
    "\n",
    "# Testing\n",
    "\n",
    "def test_lcs(x_s, y_s):\n",
    "    x, y = [], []\n",
    "    x[:], y[:] = x_s, y_s\n",
    "\n",
    "    print('x: {} \\ny: {}'.format(x,y))\n",
    "\n",
    "\n",
    "    lcs_length, out_matrix = LCS(x,y)\n",
    "    lcs = print_output(out_matrix, x, y, len(x), len(y))\n",
    "\n",
    "    print('\\n----\\n')\n",
    "    print('- LCS: \"{}\" - Length: {}\\n'.format(lcs, lcs_length))\n",
    "    print('x|y→\\n↓')\n",
    "    print(out_matrix)\n",
    "    return\n",
    "# --\n",
    "\n",
    "x_s, y_s = 'actg', 'acgga'\n",
    "print('\\n',x_s, y_s)\n",
    "test_lcs(x_s, y_s)\n",
    "\n",
    "x_s, y_s = 'a', 'aagacggggcagcgacgagcggeyacioqconocqe9e9hacgga'\n",
    "print('\\n',x_s, y_s)\n",
    "test_lcs(x_s, y_s)\n",
    "\n",
    "x_s, y_s = '', ''\n",
    "print('\\n',x_s, y_s)\n",
    "test_lcs(x_s, y_s)\n",
    "\n",
    "x_s, y_s = '---ad', '--'\n",
    "print('\\n',x_s, y_s)\n",
    "test_lcs(x_s, y_s)\n",
    "\n",
    "x_s, y_s = '0etjbh9net9-njeb90n0bnenj9b9rtje09nwtgbnjriunbginjbintibntn3ewmqgrt99n9fvgnefbunibunisgnfbinsihntgihuehn9utnh', '9hu0whg99rgwrhibern9rnb0tu934qn0uvn89un0vfnwnrfvhibnibnrwfinwibpruhqaiuh9ghaeiugfre'\n",
    "print('\\n',x_s, y_s)\n",
    "test_lcs(x_s, y_s)\n",
    "\n"
   ]
  },
  {
   "cell_type": "markdown",
   "id": "e9ca713f",
   "metadata": {},
   "source": [
    "***"
   ]
  },
  {
   "cell_type": "markdown",
   "id": "01ffd034",
   "metadata": {},
   "source": [
    "***"
   ]
  },
  {
   "cell_type": "markdown",
   "id": "8651450c",
   "metadata": {},
   "source": [
    "### Section 2: Unbounded Knapsack Problem"
   ]
  },
  {
   "cell_type": "markdown",
   "id": "60dcab46",
   "metadata": {},
   "source": [
    "Let us build a solution to unbounded Knapsack problem."
   ]
  },
  {
   "cell_type": "code",
   "execution_count": 7,
   "id": "07e76055",
   "metadata": {},
   "outputs": [],
   "source": [
    "def unboundedKnapsack(W, n, wt, vals, names, demo=False):\n",
    "    # \n",
    "    K = [0 for i in range(W + 1)]\n",
    "    ITEMS = [[] for i in range(W + 1)]\n",
    "    \n",
    "    if demo:\n",
    "        print('\\n- x: current weight-cap(W) iteration (1-W+1) \\n- i: current item \\n- k[x]: value for x level of cap(W) \\n ---\\n')\n",
    " \n",
    "    for x in range(1, W + 1):\n",
    "        # CURRENT WEIGHT LEVEL = x\n",
    "        K[x] = 0\n",
    "        if demo:\n",
    "            print('--------')\n",
    "            print(f'x:{x} - START - K[x]:0')\n",
    "        for i in range(1, n):\n",
    "            # CURRENT ITEM = i\n",
    "            \n",
    "            prev_k = K[x]\n",
    "            \n",
    "            # If the wt[i] <= the remaining amount of wt left\n",
    "            ans = f'wt[i.{i}.]:{wt[i]} <= x:{x}'\n",
    "            if (wt[i] <= x):\n",
    "                # Get the max of the two\n",
    "                ans += f'  ->  TRUE  ->  K[x] = max( K[x], K[x.{x}. - wt[i.{i}.].{wt[i]}. ].{K[x - wt[i]]}. + vals[i.{i}.].{vals[i]}. )'#' - vals[{i}]: {vals[i]}'\n",
    "                K[x] = max(K[x], K[x - wt[i]] + vals[i])# k[W + weight of current item] + value of current item **--\n",
    "                ans += f'  ==  {K[x]}'\n",
    "            else:\n",
    "                ans += ' - FALSE'\n",
    "            \n",
    "            # If they are not equal that means that there is a new max\n",
    "            if K[x] != prev_k:\n",
    "                # Make item at wieght x = new max item\n",
    "                ITEMS[x] = ITEMS[x - wt[i]] + names[i]# k[W + weight of current item] + name of current item **--\n",
    "                ans += f'\\nK[x].{K[x]}. != prev_k.{prev_k}.   ->   THERFOR ITEMS[x]  ->  ITEMS[x - wt[i]] + names[i]] # Added a new item to the list of items from K[{x - wt[i]}]\\n'#'.{names[i]}.   ==   {ITEMS[x]}\\n'\n",
    "                ans += f'ITEMS[x.{x}.]   ==   {ITEMS[x]}\\n'\n",
    "            else:\n",
    "                ans += f'\\nK[x].{K[x]}. == prev_k.{prev_k}.'\n",
    "            \n",
    "            if demo:\n",
    "                print(ans)\n",
    "        if demo:\n",
    "            print(f'x:{x} - END - K[x]:{K[x]}')\n",
    "                \n",
    " \n",
    "    return K[W], ITEMS[W]"
   ]
  },
  {
   "cell_type": "code",
   "execution_count": 8,
   "id": "fd3832da",
   "metadata": {},
   "outputs": [
    {
     "name": "stdout",
     "output_type": "stream",
     "text": [
      "We have 3 items\n"
     ]
    }
   ],
   "source": [
    "W = 6\n",
    "wt = [1, 2, 3]\n",
    "vals = [1, 4, 6]\n",
    "names = [[\"Turtle\"], [\"Globe\"], [\"WaterMelon\"]]\n",
    "\n",
    "n = len(vals)\n",
    "\n",
    "print('We have {} items'.format(n))                "
   ]
  },
  {
   "cell_type": "code",
   "execution_count": 9,
   "id": "a571425a",
   "metadata": {
    "scrolled": false
   },
   "outputs": [
    {
     "name": "stdout",
     "output_type": "stream",
     "text": [
      "\n",
      "- x: current weight-cap(W) iteration (1-W+1) \n",
      "- i: current item \n",
      "- k[x]: value for x level of cap(W) \n",
      " ---\n",
      "\n",
      "--------\n",
      "x:1 - START - K[x]:0\n",
      "wt[i.1.]:2 <= x:1 - FALSE\n",
      "K[x].0. == prev_k.0.\n",
      "wt[i.2.]:3 <= x:1 - FALSE\n",
      "K[x].0. == prev_k.0.\n",
      "x:1 - END - K[x]:0\n",
      "--------\n",
      "x:2 - START - K[x]:0\n",
      "wt[i.1.]:2 <= x:2  ->  TRUE  ->  K[x] = max( K[x], K[x.2. - wt[i.1.].2. ].0. + vals[i.1.].4. )  ==  4\n",
      "K[x].4. != prev_k.0.   ->   THERFOR ITEMS[x]  ->  ITEMS[x - wt[i]] + names[i]] # Added a new item to the list of items from K[0]\n",
      "ITEMS[x.2.]   ==   ['Globe']\n",
      "\n",
      "wt[i.2.]:3 <= x:2 - FALSE\n",
      "K[x].4. == prev_k.4.\n",
      "x:2 - END - K[x]:4\n",
      "--------\n",
      "x:3 - START - K[x]:0\n",
      "wt[i.1.]:2 <= x:3  ->  TRUE  ->  K[x] = max( K[x], K[x.3. - wt[i.1.].2. ].0. + vals[i.1.].4. )  ==  4\n",
      "K[x].4. != prev_k.0.   ->   THERFOR ITEMS[x]  ->  ITEMS[x - wt[i]] + names[i]] # Added a new item to the list of items from K[1]\n",
      "ITEMS[x.3.]   ==   ['Globe']\n",
      "\n",
      "wt[i.2.]:3 <= x:3  ->  TRUE  ->  K[x] = max( K[x], K[x.3. - wt[i.2.].3. ].0. + vals[i.2.].6. )  ==  6\n",
      "K[x].6. != prev_k.4.   ->   THERFOR ITEMS[x]  ->  ITEMS[x - wt[i]] + names[i]] # Added a new item to the list of items from K[0]\n",
      "ITEMS[x.3.]   ==   ['WaterMelon']\n",
      "\n",
      "x:3 - END - K[x]:6\n",
      "--------\n",
      "x:4 - START - K[x]:0\n",
      "wt[i.1.]:2 <= x:4  ->  TRUE  ->  K[x] = max( K[x], K[x.4. - wt[i.1.].2. ].4. + vals[i.1.].4. )  ==  8\n",
      "K[x].8. != prev_k.0.   ->   THERFOR ITEMS[x]  ->  ITEMS[x - wt[i]] + names[i]] # Added a new item to the list of items from K[2]\n",
      "ITEMS[x.4.]   ==   ['Globe', 'Globe']\n",
      "\n",
      "wt[i.2.]:3 <= x:4  ->  TRUE  ->  K[x] = max( K[x], K[x.4. - wt[i.2.].3. ].0. + vals[i.2.].6. )  ==  8\n",
      "K[x].8. == prev_k.8.\n",
      "x:4 - END - K[x]:8\n",
      "--------\n",
      "x:5 - START - K[x]:0\n",
      "wt[i.1.]:2 <= x:5  ->  TRUE  ->  K[x] = max( K[x], K[x.5. - wt[i.1.].2. ].6. + vals[i.1.].4. )  ==  10\n",
      "K[x].10. != prev_k.0.   ->   THERFOR ITEMS[x]  ->  ITEMS[x - wt[i]] + names[i]] # Added a new item to the list of items from K[3]\n",
      "ITEMS[x.5.]   ==   ['WaterMelon', 'Globe']\n",
      "\n",
      "wt[i.2.]:3 <= x:5  ->  TRUE  ->  K[x] = max( K[x], K[x.5. - wt[i.2.].3. ].4. + vals[i.2.].6. )  ==  10\n",
      "K[x].10. == prev_k.10.\n",
      "x:5 - END - K[x]:10\n",
      "--------\n",
      "x:6 - START - K[x]:0\n",
      "wt[i.1.]:2 <= x:6  ->  TRUE  ->  K[x] = max( K[x], K[x.6. - wt[i.1.].2. ].8. + vals[i.1.].4. )  ==  12\n",
      "K[x].12. != prev_k.0.   ->   THERFOR ITEMS[x]  ->  ITEMS[x - wt[i]] + names[i]] # Added a new item to the list of items from K[4]\n",
      "ITEMS[x.6.]   ==   ['Globe', 'Globe', 'Globe']\n",
      "\n",
      "wt[i.2.]:3 <= x:6  ->  TRUE  ->  K[x] = max( K[x], K[x.6. - wt[i.2.].3. ].6. + vals[i.2.].6. )  ==  12\n",
      "K[x].12. == prev_k.12.\n",
      "x:6 - END - K[x]:12\n"
     ]
    }
   ],
   "source": [
    "K, ITEMS = unboundedKnapsack(W, n, wt, vals, names, True)"
   ]
  },
  {
   "cell_type": "code",
   "execution_count": 10,
   "id": "128d928b",
   "metadata": {},
   "outputs": [
    {
     "data": {
      "text/plain": [
       "['Globe', 'Globe', 'Globe']"
      ]
     },
     "execution_count": 10,
     "metadata": {},
     "output_type": "execute_result"
    }
   ],
   "source": [
    "ITEMS"
   ]
  },
  {
   "cell_type": "code",
   "execution_count": null,
   "id": "cc101eb6",
   "metadata": {},
   "outputs": [],
   "source": []
  },
  {
   "cell_type": "markdown",
   "id": "6f3d204f",
   "metadata": {},
   "source": [
    "***"
   ]
  },
  {
   "cell_type": "markdown",
   "id": "7815654c",
   "metadata": {},
   "source": [
    "### <font color='red'> Section 3: Modify above code to do 0-1 Knapsack instead of un-bounded knapsack. </font>"
   ]
  },
  {
   "cell_type": "code",
   "execution_count": 11,
   "id": "a309f9b8",
   "metadata": {},
   "outputs": [],
   "source": [
    "#### TODO ####\n",
    "### Good Luck ###\n",
    "\n",
    "def dpKnapsack(W, n, wt, vals, names):\n",
    "\n",
    "    # 2D array for weight values, lxw = Wn\n",
    "    K = [[0 for j in range(W+1)] for i in range(n+1)]\n",
    "    \n",
    "    # c tracks for indecies that corrispond to items, it is a 2d array with arrays within it for the lists of items\n",
    "    c = [[[] for j in range(W+1)] for i in range(n+1)]\n",
    "\n",
    "    # Init 0\n",
    "    #for x in range(0,W):\n",
    "    #    K[x][0]=0\n",
    "        #c[0][x]=[]\n",
    "    # Over item length\n",
    "    #for i in range(0,n):\n",
    "    #    K[i][0]=0\n",
    "    '''\n",
    "    for i in range(1,n+1):\n",
    "        # Over weight length\n",
    "        for j in range(0,W+1):\n",
    "    '''\n",
    "    k_mapper = {}\n",
    "    for i in range(1,n+1):\n",
    "        # Over weight length\n",
    "        for j in range(0,W+1):\n",
    "            # Case 1\n",
    "            # NOTE: My x(i) and j are the other way round\n",
    "            # Could also be wt[j] <= i\n",
    "            # As i increases by 1 each time this add an additional item, each layer accounts for the addition, if weight is greater then would use the other\n",
    "            #x = i\n",
    "            '''\n",
    "            #K[x][j] = K[x][j-1]\n",
    "            if wt[j] <= x:\n",
    "                K[x][j] = max(K[x][j-1], K[x - wt[j-1]][j-1] + vals[j])\n",
    "                #c[x] = c[x-1][j] + names[j]\n",
    "            #if K[x][j] != prev_k:\n",
    "                # Make item at wieght x = new max item\n",
    "                #c[x] = c[x][j-1]#c[x - wt[j]] + names[j]\n",
    "                if K[x][j] != prev_k:\n",
    "                    c[i][j] = c[j-wt[i-1]][i-1]+[(i-1)]\n",
    "            else:\n",
    "                K[x][j] = K[x][j-1]\n",
    "                c[x][j] = c[x][j-1]#c[x - wt[j]] + names[j]\n",
    "            '''\n",
    "            if wt[i-1]>j:\n",
    "                K[i][j]=K[i-1][j]\n",
    "                c[i][j]=c[i-1][j]\n",
    "            else:\n",
    "                # with the increase in j -> range(w)\n",
    "                x = K[i-1][j-wt[i-1]]+vals[i-1]\n",
    "                y = K[i-1][j]\n",
    "                # Effectivly max() case\n",
    "                #K[x][j] = max(K[x][j-1], K[x - wt[j-1]][j-1] + vals[j])\n",
    "                if (x>y):\n",
    "                    K[i][j] = x\n",
    "                    c[i][j] = c[i-1][j-wt[i-1]]+[(i-1)]\n",
    "                else:\n",
    "                    K[i][j] = y\n",
    "                    c[i][j] = c[i-1][j]\n",
    "            #'''\n",
    "        k_mapper[i] = pd.DataFrame(deepcopy(K))\n",
    "    # Map to item names\n",
    "    ITEMS = [names[x] for x in c[n][W]]\n",
    "    #ITEMS = [names[x] for x in K[W][n]]\n",
    "    return (K[n][W], ITEMS, (c, k_mapper))\n",
    "    #return (K[W][n], K, 1)#[W][n]\n",
    "\n",
    "\n",
    "\n",
    "\n",
    "\n",
    "\n"
   ]
  },
  {
   "cell_type": "markdown",
   "id": "26568450",
   "metadata": {},
   "source": [
    "Class Room Test-case"
   ]
  },
  {
   "cell_type": "code",
   "execution_count": 12,
   "id": "3ca2359d",
   "metadata": {},
   "outputs": [
    {
     "name": "stdout",
     "output_type": "stream",
     "text": [
      "We have 3 items\n"
     ]
    }
   ],
   "source": [
    "W = 3\n",
    "wt = [1, 2, 3]\n",
    "vals = [1, 4, 6]\n",
    "names = [[\"Turtle\"], [\"Globe\"], [\"WaterMelon\"]]\n",
    "\n",
    "n = len(vals)\n",
    "\n",
    "print('We have {} items'.format(n))\n"
   ]
  },
  {
   "cell_type": "code",
   "execution_count": 13,
   "id": "28693939",
   "metadata": {},
   "outputs": [],
   "source": [
    "K, ITEMS = unboundedKnapsack(W, n, wt, vals, names)"
   ]
  },
  {
   "cell_type": "code",
   "execution_count": 14,
   "id": "6c4ff89c",
   "metadata": {},
   "outputs": [
    {
     "data": {
      "text/plain": [
       "['WaterMelon']"
      ]
     },
     "execution_count": 14,
     "metadata": {},
     "output_type": "execute_result"
    }
   ],
   "source": [
    "ITEMS"
   ]
  },
  {
   "cell_type": "code",
   "execution_count": 15,
   "id": "894e4816",
   "metadata": {},
   "outputs": [
    {
     "name": "stdout",
     "output_type": "stream",
     "text": [
      "[[], [], [], []]\n",
      "[[], [0], [0], [0]]\n",
      "[[], [0], [1], [0, 1]]\n",
      "[[], [0], [1], [2]]\n",
      "--\n",
      "\n",
      "W -(1)-\n",
      "   0  1  2  3\n",
      "0  0  0  0  0\n",
      "1  0  1  1  1\n",
      "2  0  0  0  0\n",
      "3  0  0  0  0\n",
      "\n",
      "\n",
      "W -(2)-\n",
      "   0  1  2  3\n",
      "0  0  0  0  0\n",
      "1  0  1  1  1\n",
      "2  0  1  4  5\n",
      "3  0  0  0  0\n",
      "\n",
      "\n",
      "W -(3)-\n",
      "   0  1  2  3\n",
      "0  0  0  0  0\n",
      "1  0  1  1  1\n",
      "2  0  1  4  5\n",
      "3  0  1  4  6\n",
      "\n",
      "\n",
      "--\n",
      "\n"
     ]
    },
    {
     "data": {
      "text/plain": [
       "'\\nW = 3\\nwt = [1, 2, 3]\\nvals = [1, 4, 6]\\nnames = [[\"Turtle\"], [\"Globe\"], [\"WaterMelon\"]]\\ni->\\nj\\n|\\n^\\n\\n'"
      ]
     },
     "execution_count": 15,
     "metadata": {},
     "output_type": "execute_result"
    }
   ],
   "source": [
    "\n",
    "K, ITEMS, c = dpKnapsack(W, n, wt, vals, names)\n",
    "[print(x) for x in c[0]]\n",
    "\n",
    "k_mapper = c[1]\n",
    "print('--\\n')\n",
    "for k in k_mapper:\n",
    "    print(f'W -({k})-')\n",
    "    print(k_mapper[k])\n",
    "    print('\\n')\n",
    "    \n",
    "print('--\\n')\n",
    "\n",
    "'''\n",
    "W = 3\n",
    "wt = [1, 2, 3]\n",
    "vals = [1, 4, 6]\n",
    "names = [[\"Turtle\"], [\"Globe\"], [\"WaterMelon\"]]\n",
    "i->\n",
    "j\n",
    "|\n",
    "^\n",
    "\n",
    "'''"
   ]
  },
  {
   "cell_type": "code",
   "execution_count": 16,
   "id": "5695c29a",
   "metadata": {},
   "outputs": [
    {
     "data": {
      "text/plain": [
       "[['WaterMelon']]"
      ]
     },
     "execution_count": 16,
     "metadata": {},
     "output_type": "execute_result"
    }
   ],
   "source": [
    "ITEMS"
   ]
  },
  {
   "cell_type": "markdown",
   "id": "8db020f2",
   "metadata": {},
   "source": [
    "### TESTING"
   ]
  },
  {
   "cell_type": "code",
   "execution_count": 17,
   "id": "ced8c693",
   "metadata": {},
   "outputs": [
    {
     "name": "stdout",
     "output_type": "stream",
     "text": [
      "\n",
      "-\n",
      "W: 3,\n",
      "wt: [1, 2, 3],\n",
      "vals: [1, 4, 6],\n",
      "names: [['Turtle'], ['Globe'], ['WaterMelon']]\n",
      "-\n",
      "- Unbounded Knapsack (0): ['WaterMelon']\n",
      "- 0/1 dpKnapsack (0): [['WaterMelon']]\n",
      "\n",
      "-\n",
      "W: 4,\n",
      "wt: [1, 2, 3],\n",
      "vals: [1, 4, 6],\n",
      "names: [['Turtle'], ['Globe'], ['WaterMelon']]\n",
      "-\n",
      "- Unbounded Knapsack (1): ['Globe', 'Globe']\n",
      "- 0/1 dpKnapsack (1): [['Turtle'], ['WaterMelon']]\n",
      "\n",
      "-\n",
      "W: 1,\n",
      "wt: [1, 2, 3],\n",
      "vals: [1, 4, 6],\n",
      "names: [['Turtle'], ['Globe'], ['WaterMelon']]\n",
      "-\n",
      "- Unbounded Knapsack (2): []\n",
      "- 0/1 dpKnapsack (2): [['Turtle']]\n",
      "\n",
      "-\n",
      "W: 10,\n",
      "wt: [1, 2, 3, 1, 10],\n",
      "vals: [1, 4, 9, 7, 10],\n",
      "names: [['Turtle'], ['Globe'], ['WaterMelon'], ['yeah'], ['ok']]\n",
      "-\n",
      "- Unbounded Knapsack (3): ['yeah', 'yeah', 'yeah', 'yeah', 'yeah', 'yeah', 'yeah', 'yeah', 'yeah', 'yeah']\n",
      "- 0/1 dpKnapsack (3): [['Turtle'], ['Globe'], ['WaterMelon'], ['yeah']]\n"
     ]
    }
   ],
   "source": [
    "W = 3\n",
    "wt = [1, 2, 3]\n",
    "vals = [1, 4, 6]\n",
    "names = [[\"Turtle\"], [\"Globe\"], [\"WaterMelon\"]]\n",
    "n = len(vals)\n",
    "i = 0\n",
    "\n",
    "K, ITEMS_un = unboundedKnapsack(W, n, wt, vals, names)\n",
    "K, ITEMS_dp, c = dpKnapsack(W, n, wt, vals, names)\n",
    "\n",
    "print('\\n-\\nW: {},\\nwt: {},\\nvals: {},\\nnames: {}\\n-'.format(W,wt,vals,names))\n",
    "\n",
    "print('- Unbounded Knapsack ({}): {}'.format(i,ITEMS_un))\n",
    "print('- 0/1 dpKnapsack ({}): {}'.format(i,ITEMS_dp))\n",
    "\n",
    "W = 4\n",
    "wt = [1, 2, 3]\n",
    "vals = [1, 4, 6]\n",
    "names = [[\"Turtle\"], [\"Globe\"], [\"WaterMelon\"]]\n",
    "n = len(vals)\n",
    "i += 1\n",
    "\n",
    "K, ITEMS_un = unboundedKnapsack(W, n, wt, vals, names)\n",
    "K, ITEMS_dp, c = dpKnapsack(W, n, wt, vals, names)\n",
    "\n",
    "print('\\n-\\nW: {},\\nwt: {},\\nvals: {},\\nnames: {}\\n-'.format(W,wt,vals,names))\n",
    "\n",
    "print('- Unbounded Knapsack ({}): {}'.format(i,ITEMS_un))\n",
    "print('- 0/1 dpKnapsack ({}): {}'.format(i,ITEMS_dp))\n",
    "\n",
    "\n",
    "W = 1\n",
    "wt = [1, 2, 3]\n",
    "vals = [1, 4, 6]\n",
    "names = [[\"Turtle\"], [\"Globe\"], [\"WaterMelon\"]]\n",
    "n = len(vals)\n",
    "i += 1\n",
    "\n",
    "K, ITEMS_un = unboundedKnapsack(W, n, wt, vals, names)\n",
    "K, ITEMS_dp, c = dpKnapsack(W, n, wt, vals, names)\n",
    "\n",
    "print('\\n-\\nW: {},\\nwt: {},\\nvals: {},\\nnames: {}\\n-'.format(W,wt,vals,names))\n",
    "\n",
    "print('- Unbounded Knapsack ({}): {}'.format(i,ITEMS_un))\n",
    "print('- 0/1 dpKnapsack ({}): {}'.format(i,ITEMS_dp))\n",
    "\n",
    "\n",
    "W = 10\n",
    "wt = [1, 2, 3, 1, 10]\n",
    "vals = [1, 4, 9, 7, 10]\n",
    "names = [[\"Turtle\"], [\"Globe\"], [\"WaterMelon\"],['yeah'],['ok']]\n",
    "n = len(vals)\n",
    "i += 1\n",
    "\n",
    "K, ITEMS_un = unboundedKnapsack(W, n, wt, vals, names)\n",
    "K, ITEMS_dp, c = dpKnapsack(W, n, wt, vals, names)\n",
    "\n",
    "print('\\n-\\nW: {},\\nwt: {},\\nvals: {},\\nnames: {}\\n-'.format(W,wt,vals,names))\n",
    "\n",
    "print('- Unbounded Knapsack ({}): {}'.format(i,ITEMS_un))\n",
    "print('- 0/1 dpKnapsack ({}): {}'.format(i,ITEMS_dp))\n"
   ]
  },
  {
   "cell_type": "markdown",
   "id": "47a93389",
   "metadata": {},
   "source": [
    "***"
   ]
  },
  {
   "cell_type": "markdown",
   "id": "4856d70d",
   "metadata": {},
   "source": [
    "***"
   ]
  },
  {
   "cell_type": "markdown",
   "id": "b67fe7d0",
   "metadata": {},
   "source": [
    "### SCRAPS"
   ]
  },
  {
   "cell_type": "code",
   "execution_count": 18,
   "id": "ffbccbd0",
   "metadata": {},
   "outputs": [
    {
     "name": "stdout",
     "output_type": "stream",
     "text": [
      "[[0, 0, 0, 0, 0], [0, None, None, None, None], [0, None, None, None, None], [0, None, None, None, None], [0, None, None, None, None]]\n"
     ]
    }
   ],
   "source": [
    "\n",
    "# Testing with array (irrelevent)\n",
    "a = [[0] + [None] * 4] * 5\n",
    "a[0] = [0] * 5\n",
    "print(a)\n",
    "\n"
   ]
  }
 ],
 "metadata": {
  "kernelspec": {
   "display_name": "Python 3 (ipykernel)",
   "language": "python",
   "name": "python3"
  },
  "language_info": {
   "codemirror_mode": {
    "name": "ipython",
    "version": 3
   },
   "file_extension": ".py",
   "mimetype": "text/x-python",
   "name": "python",
   "nbconvert_exporter": "python",
   "pygments_lexer": "ipython3",
   "version": "3.9.6"
  }
 },
 "nbformat": 4,
 "nbformat_minor": 5
}
